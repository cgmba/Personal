{
  "cells": [
    {
      "cell_type": "code",
      "execution_count": 1,
      "metadata": {
        "id": "kNLlOQ_Kp5tX"
      },
      "outputs": [],
      "source": [
        "import numpy as np \n",
        "import pandas as pd\n",
        "\n",
        "import matplotlib.pyplot as plt \n",
        "import seaborn as sns\n",
        "%matplotlib inline\n",
        "\n",
        "from sklearn.impute import SimpleImputer\n",
        "from sklearn.preprocessing import StandardScaler\n",
        "from sklearn.decomposition import PCA\n",
        "from sklearn.manifold import MDS\n",
        "from sklearn import metrics\n",
        "from sklearn.linear_model import LogisticRegression\n",
        "\n",
        "from sklearn.cluster import KMeans\n",
        "RSEED = 8 \n",
        "# to filter out warnings\n",
        "import warnings\n",
        "warnings.filterwarnings('ignore')\n",
        "warnings.simplefilter('ignore')"
      ]
    },
    {
      "cell_type": "code",
      "execution_count": 2,
      "metadata": {
        "colab": {
          "base_uri": "https://localhost:8080/",
          "height": 300
        },
        "id": "T5EFNoz4NYNw",
        "outputId": "b198e14c-ac28-421f-e58d-25e0a681b6ff"
      },
      "outputs": [
        {
          "output_type": "execute_result",
          "data": {
            "text/plain": [
              "  class  aa_000 ab_000      ac_000 ad_000 ae_000 af_000 ag_000 ag_001 ag_002  \\\n",
              "0   neg   76698     na  2130706438    280      0      0      0      0      0   \n",
              "1   neg   33058     na           0     na      0      0      0      0      0   \n",
              "2   neg   41040     na         228    100      0      0      0      0      0   \n",
              "3   neg      12      0          70     66      0     10      0      0      0   \n",
              "4   neg   60874     na        1368    458      0      0      0      0      0   \n",
              "\n",
              "   ...   ee_002  ee_003  ee_004  ee_005  ee_006  ee_007  ee_008 ee_009 ef_000  \\\n",
              "0  ...  1240520  493384  721044  469792  339156  157956   73224      0      0   \n",
              "1  ...   421400  178064  293306  245416  133654   81140   97576   1500      0   \n",
              "2  ...   277378  159812  423992  409564  320746  158022   95128    514      0   \n",
              "3  ...      240      46      58      44      10       0       0      0      4   \n",
              "4  ...   622012  229790  405298  347188  286954  311560  433954   1218      0   \n",
              "\n",
              "  eg_000  \n",
              "0      0  \n",
              "1      0  \n",
              "2      0  \n",
              "3     32  \n",
              "4      0  \n",
              "\n",
              "[5 rows x 171 columns]"
            ],
            "text/html": [
              "\n",
              "  <div id=\"df-e1d566f8-9c61-4cec-a8be-718bfb9073fb\">\n",
              "    <div class=\"colab-df-container\">\n",
              "      <div>\n",
              "<style scoped>\n",
              "    .dataframe tbody tr th:only-of-type {\n",
              "        vertical-align: middle;\n",
              "    }\n",
              "\n",
              "    .dataframe tbody tr th {\n",
              "        vertical-align: top;\n",
              "    }\n",
              "\n",
              "    .dataframe thead th {\n",
              "        text-align: right;\n",
              "    }\n",
              "</style>\n",
              "<table border=\"1\" class=\"dataframe\">\n",
              "  <thead>\n",
              "    <tr style=\"text-align: right;\">\n",
              "      <th></th>\n",
              "      <th>class</th>\n",
              "      <th>aa_000</th>\n",
              "      <th>ab_000</th>\n",
              "      <th>ac_000</th>\n",
              "      <th>ad_000</th>\n",
              "      <th>ae_000</th>\n",
              "      <th>af_000</th>\n",
              "      <th>ag_000</th>\n",
              "      <th>ag_001</th>\n",
              "      <th>ag_002</th>\n",
              "      <th>...</th>\n",
              "      <th>ee_002</th>\n",
              "      <th>ee_003</th>\n",
              "      <th>ee_004</th>\n",
              "      <th>ee_005</th>\n",
              "      <th>ee_006</th>\n",
              "      <th>ee_007</th>\n",
              "      <th>ee_008</th>\n",
              "      <th>ee_009</th>\n",
              "      <th>ef_000</th>\n",
              "      <th>eg_000</th>\n",
              "    </tr>\n",
              "  </thead>\n",
              "  <tbody>\n",
              "    <tr>\n",
              "      <th>0</th>\n",
              "      <td>neg</td>\n",
              "      <td>76698</td>\n",
              "      <td>na</td>\n",
              "      <td>2130706438</td>\n",
              "      <td>280</td>\n",
              "      <td>0</td>\n",
              "      <td>0</td>\n",
              "      <td>0</td>\n",
              "      <td>0</td>\n",
              "      <td>0</td>\n",
              "      <td>...</td>\n",
              "      <td>1240520</td>\n",
              "      <td>493384</td>\n",
              "      <td>721044</td>\n",
              "      <td>469792</td>\n",
              "      <td>339156</td>\n",
              "      <td>157956</td>\n",
              "      <td>73224</td>\n",
              "      <td>0</td>\n",
              "      <td>0</td>\n",
              "      <td>0</td>\n",
              "    </tr>\n",
              "    <tr>\n",
              "      <th>1</th>\n",
              "      <td>neg</td>\n",
              "      <td>33058</td>\n",
              "      <td>na</td>\n",
              "      <td>0</td>\n",
              "      <td>na</td>\n",
              "      <td>0</td>\n",
              "      <td>0</td>\n",
              "      <td>0</td>\n",
              "      <td>0</td>\n",
              "      <td>0</td>\n",
              "      <td>...</td>\n",
              "      <td>421400</td>\n",
              "      <td>178064</td>\n",
              "      <td>293306</td>\n",
              "      <td>245416</td>\n",
              "      <td>133654</td>\n",
              "      <td>81140</td>\n",
              "      <td>97576</td>\n",
              "      <td>1500</td>\n",
              "      <td>0</td>\n",
              "      <td>0</td>\n",
              "    </tr>\n",
              "    <tr>\n",
              "      <th>2</th>\n",
              "      <td>neg</td>\n",
              "      <td>41040</td>\n",
              "      <td>na</td>\n",
              "      <td>228</td>\n",
              "      <td>100</td>\n",
              "      <td>0</td>\n",
              "      <td>0</td>\n",
              "      <td>0</td>\n",
              "      <td>0</td>\n",
              "      <td>0</td>\n",
              "      <td>...</td>\n",
              "      <td>277378</td>\n",
              "      <td>159812</td>\n",
              "      <td>423992</td>\n",
              "      <td>409564</td>\n",
              "      <td>320746</td>\n",
              "      <td>158022</td>\n",
              "      <td>95128</td>\n",
              "      <td>514</td>\n",
              "      <td>0</td>\n",
              "      <td>0</td>\n",
              "    </tr>\n",
              "    <tr>\n",
              "      <th>3</th>\n",
              "      <td>neg</td>\n",
              "      <td>12</td>\n",
              "      <td>0</td>\n",
              "      <td>70</td>\n",
              "      <td>66</td>\n",
              "      <td>0</td>\n",
              "      <td>10</td>\n",
              "      <td>0</td>\n",
              "      <td>0</td>\n",
              "      <td>0</td>\n",
              "      <td>...</td>\n",
              "      <td>240</td>\n",
              "      <td>46</td>\n",
              "      <td>58</td>\n",
              "      <td>44</td>\n",
              "      <td>10</td>\n",
              "      <td>0</td>\n",
              "      <td>0</td>\n",
              "      <td>0</td>\n",
              "      <td>4</td>\n",
              "      <td>32</td>\n",
              "    </tr>\n",
              "    <tr>\n",
              "      <th>4</th>\n",
              "      <td>neg</td>\n",
              "      <td>60874</td>\n",
              "      <td>na</td>\n",
              "      <td>1368</td>\n",
              "      <td>458</td>\n",
              "      <td>0</td>\n",
              "      <td>0</td>\n",
              "      <td>0</td>\n",
              "      <td>0</td>\n",
              "      <td>0</td>\n",
              "      <td>...</td>\n",
              "      <td>622012</td>\n",
              "      <td>229790</td>\n",
              "      <td>405298</td>\n",
              "      <td>347188</td>\n",
              "      <td>286954</td>\n",
              "      <td>311560</td>\n",
              "      <td>433954</td>\n",
              "      <td>1218</td>\n",
              "      <td>0</td>\n",
              "      <td>0</td>\n",
              "    </tr>\n",
              "  </tbody>\n",
              "</table>\n",
              "<p>5 rows × 171 columns</p>\n",
              "</div>\n",
              "      <button class=\"colab-df-convert\" onclick=\"convertToInteractive('df-e1d566f8-9c61-4cec-a8be-718bfb9073fb')\"\n",
              "              title=\"Convert this dataframe to an interactive table.\"\n",
              "              style=\"display:none;\">\n",
              "        \n",
              "  <svg xmlns=\"http://www.w3.org/2000/svg\" height=\"24px\"viewBox=\"0 0 24 24\"\n",
              "       width=\"24px\">\n",
              "    <path d=\"M0 0h24v24H0V0z\" fill=\"none\"/>\n",
              "    <path d=\"M18.56 5.44l.94 2.06.94-2.06 2.06-.94-2.06-.94-.94-2.06-.94 2.06-2.06.94zm-11 1L8.5 8.5l.94-2.06 2.06-.94-2.06-.94L8.5 2.5l-.94 2.06-2.06.94zm10 10l.94 2.06.94-2.06 2.06-.94-2.06-.94-.94-2.06-.94 2.06-2.06.94z\"/><path d=\"M17.41 7.96l-1.37-1.37c-.4-.4-.92-.59-1.43-.59-.52 0-1.04.2-1.43.59L10.3 9.45l-7.72 7.72c-.78.78-.78 2.05 0 2.83L4 21.41c.39.39.9.59 1.41.59.51 0 1.02-.2 1.41-.59l7.78-7.78 2.81-2.81c.8-.78.8-2.07 0-2.86zM5.41 20L4 18.59l7.72-7.72 1.47 1.35L5.41 20z\"/>\n",
              "  </svg>\n",
              "      </button>\n",
              "      \n",
              "  <style>\n",
              "    .colab-df-container {\n",
              "      display:flex;\n",
              "      flex-wrap:wrap;\n",
              "      gap: 12px;\n",
              "    }\n",
              "\n",
              "    .colab-df-convert {\n",
              "      background-color: #E8F0FE;\n",
              "      border: none;\n",
              "      border-radius: 50%;\n",
              "      cursor: pointer;\n",
              "      display: none;\n",
              "      fill: #1967D2;\n",
              "      height: 32px;\n",
              "      padding: 0 0 0 0;\n",
              "      width: 32px;\n",
              "    }\n",
              "\n",
              "    .colab-df-convert:hover {\n",
              "      background-color: #E2EBFA;\n",
              "      box-shadow: 0px 1px 2px rgba(60, 64, 67, 0.3), 0px 1px 3px 1px rgba(60, 64, 67, 0.15);\n",
              "      fill: #174EA6;\n",
              "    }\n",
              "\n",
              "    [theme=dark] .colab-df-convert {\n",
              "      background-color: #3B4455;\n",
              "      fill: #D2E3FC;\n",
              "    }\n",
              "\n",
              "    [theme=dark] .colab-df-convert:hover {\n",
              "      background-color: #434B5C;\n",
              "      box-shadow: 0px 1px 3px 1px rgba(0, 0, 0, 0.15);\n",
              "      filter: drop-shadow(0px 1px 2px rgba(0, 0, 0, 0.3));\n",
              "      fill: #FFFFFF;\n",
              "    }\n",
              "  </style>\n",
              "\n",
              "      <script>\n",
              "        const buttonEl =\n",
              "          document.querySelector('#df-e1d566f8-9c61-4cec-a8be-718bfb9073fb button.colab-df-convert');\n",
              "        buttonEl.style.display =\n",
              "          google.colab.kernel.accessAllowed ? 'block' : 'none';\n",
              "\n",
              "        async function convertToInteractive(key) {\n",
              "          const element = document.querySelector('#df-e1d566f8-9c61-4cec-a8be-718bfb9073fb');\n",
              "          const dataTable =\n",
              "            await google.colab.kernel.invokeFunction('convertToInteractive',\n",
              "                                                     [key], {});\n",
              "          if (!dataTable) return;\n",
              "\n",
              "          const docLinkHtml = 'Like what you see? Visit the ' +\n",
              "            '<a target=\"_blank\" href=https://colab.research.google.com/notebooks/data_table.ipynb>data table notebook</a>'\n",
              "            + ' to learn more about interactive tables.';\n",
              "          element.innerHTML = '';\n",
              "          dataTable['output_type'] = 'display_data';\n",
              "          await google.colab.output.renderOutput(dataTable, element);\n",
              "          const docLink = document.createElement('div');\n",
              "          docLink.innerHTML = docLinkHtml;\n",
              "          element.appendChild(docLink);\n",
              "        }\n",
              "      </script>\n",
              "    </div>\n",
              "  </div>\n",
              "  "
            ]
          },
          "metadata": {},
          "execution_count": 2
        }
      ],
      "source": [
        "data = pd.read_csv(\"/content/aps_failure_training_set.csv\", on_bad_lines='skip')\n",
        "data.head()"
      ]
    },
    {
      "cell_type": "code",
      "execution_count": 3,
      "metadata": {
        "colab": {
          "base_uri": "https://localhost:8080/",
          "height": 300
        },
        "id": "RYifLnuTPasH",
        "outputId": "8d92954a-d2cb-47e7-85b0-823302b6863c"
      },
      "outputs": [
        {
          "output_type": "execute_result",
          "data": {
            "text/plain": [
              "      class  aa_000 ab_000      ac_000 ad_000 ae_000 af_000 ag_000 ag_001  \\\n",
              "59995   neg  153002     na         664    186      0      0      0      0   \n",
              "59996   neg    2286     na  2130706538    224      0      0      0      0   \n",
              "59997   neg     112      0  2130706432     18      0      0      0      0   \n",
              "59998   neg   80292     na  2130706432    494      0      0      0      0   \n",
              "59999   neg   40222     na         698    628      0      0      0      0   \n",
              "\n",
              "      ag_002  ...  ee_002  ee_003   ee_004   ee_005   ee_006  ee_007  ee_008  \\\n",
              "59995      0  ...  998500  566884  1290398  1218244  1019768  717762  898642   \n",
              "59996      0  ...   10578    6760    21126    68424      136       0       0   \n",
              "59997      0  ...     792     386      452      144      146    2622       0   \n",
              "59998      0  ...  699352  222654   347378   225724   194440  165070  802280   \n",
              "59999      0  ...  440066  183200   344546   254068   225148  158304  170384   \n",
              "\n",
              "       ee_009 ef_000 eg_000  \n",
              "59995   28588      0      0  \n",
              "59996       0      0      0  \n",
              "59997       0      0      0  \n",
              "59998  388422      0      0  \n",
              "59999     158      0      0  \n",
              "\n",
              "[5 rows x 171 columns]"
            ],
            "text/html": [
              "\n",
              "  <div id=\"df-c799c07a-14ea-4681-b9f7-f05292a1b23f\">\n",
              "    <div class=\"colab-df-container\">\n",
              "      <div>\n",
              "<style scoped>\n",
              "    .dataframe tbody tr th:only-of-type {\n",
              "        vertical-align: middle;\n",
              "    }\n",
              "\n",
              "    .dataframe tbody tr th {\n",
              "        vertical-align: top;\n",
              "    }\n",
              "\n",
              "    .dataframe thead th {\n",
              "        text-align: right;\n",
              "    }\n",
              "</style>\n",
              "<table border=\"1\" class=\"dataframe\">\n",
              "  <thead>\n",
              "    <tr style=\"text-align: right;\">\n",
              "      <th></th>\n",
              "      <th>class</th>\n",
              "      <th>aa_000</th>\n",
              "      <th>ab_000</th>\n",
              "      <th>ac_000</th>\n",
              "      <th>ad_000</th>\n",
              "      <th>ae_000</th>\n",
              "      <th>af_000</th>\n",
              "      <th>ag_000</th>\n",
              "      <th>ag_001</th>\n",
              "      <th>ag_002</th>\n",
              "      <th>...</th>\n",
              "      <th>ee_002</th>\n",
              "      <th>ee_003</th>\n",
              "      <th>ee_004</th>\n",
              "      <th>ee_005</th>\n",
              "      <th>ee_006</th>\n",
              "      <th>ee_007</th>\n",
              "      <th>ee_008</th>\n",
              "      <th>ee_009</th>\n",
              "      <th>ef_000</th>\n",
              "      <th>eg_000</th>\n",
              "    </tr>\n",
              "  </thead>\n",
              "  <tbody>\n",
              "    <tr>\n",
              "      <th>59995</th>\n",
              "      <td>neg</td>\n",
              "      <td>153002</td>\n",
              "      <td>na</td>\n",
              "      <td>664</td>\n",
              "      <td>186</td>\n",
              "      <td>0</td>\n",
              "      <td>0</td>\n",
              "      <td>0</td>\n",
              "      <td>0</td>\n",
              "      <td>0</td>\n",
              "      <td>...</td>\n",
              "      <td>998500</td>\n",
              "      <td>566884</td>\n",
              "      <td>1290398</td>\n",
              "      <td>1218244</td>\n",
              "      <td>1019768</td>\n",
              "      <td>717762</td>\n",
              "      <td>898642</td>\n",
              "      <td>28588</td>\n",
              "      <td>0</td>\n",
              "      <td>0</td>\n",
              "    </tr>\n",
              "    <tr>\n",
              "      <th>59996</th>\n",
              "      <td>neg</td>\n",
              "      <td>2286</td>\n",
              "      <td>na</td>\n",
              "      <td>2130706538</td>\n",
              "      <td>224</td>\n",
              "      <td>0</td>\n",
              "      <td>0</td>\n",
              "      <td>0</td>\n",
              "      <td>0</td>\n",
              "      <td>0</td>\n",
              "      <td>...</td>\n",
              "      <td>10578</td>\n",
              "      <td>6760</td>\n",
              "      <td>21126</td>\n",
              "      <td>68424</td>\n",
              "      <td>136</td>\n",
              "      <td>0</td>\n",
              "      <td>0</td>\n",
              "      <td>0</td>\n",
              "      <td>0</td>\n",
              "      <td>0</td>\n",
              "    </tr>\n",
              "    <tr>\n",
              "      <th>59997</th>\n",
              "      <td>neg</td>\n",
              "      <td>112</td>\n",
              "      <td>0</td>\n",
              "      <td>2130706432</td>\n",
              "      <td>18</td>\n",
              "      <td>0</td>\n",
              "      <td>0</td>\n",
              "      <td>0</td>\n",
              "      <td>0</td>\n",
              "      <td>0</td>\n",
              "      <td>...</td>\n",
              "      <td>792</td>\n",
              "      <td>386</td>\n",
              "      <td>452</td>\n",
              "      <td>144</td>\n",
              "      <td>146</td>\n",
              "      <td>2622</td>\n",
              "      <td>0</td>\n",
              "      <td>0</td>\n",
              "      <td>0</td>\n",
              "      <td>0</td>\n",
              "    </tr>\n",
              "    <tr>\n",
              "      <th>59998</th>\n",
              "      <td>neg</td>\n",
              "      <td>80292</td>\n",
              "      <td>na</td>\n",
              "      <td>2130706432</td>\n",
              "      <td>494</td>\n",
              "      <td>0</td>\n",
              "      <td>0</td>\n",
              "      <td>0</td>\n",
              "      <td>0</td>\n",
              "      <td>0</td>\n",
              "      <td>...</td>\n",
              "      <td>699352</td>\n",
              "      <td>222654</td>\n",
              "      <td>347378</td>\n",
              "      <td>225724</td>\n",
              "      <td>194440</td>\n",
              "      <td>165070</td>\n",
              "      <td>802280</td>\n",
              "      <td>388422</td>\n",
              "      <td>0</td>\n",
              "      <td>0</td>\n",
              "    </tr>\n",
              "    <tr>\n",
              "      <th>59999</th>\n",
              "      <td>neg</td>\n",
              "      <td>40222</td>\n",
              "      <td>na</td>\n",
              "      <td>698</td>\n",
              "      <td>628</td>\n",
              "      <td>0</td>\n",
              "      <td>0</td>\n",
              "      <td>0</td>\n",
              "      <td>0</td>\n",
              "      <td>0</td>\n",
              "      <td>...</td>\n",
              "      <td>440066</td>\n",
              "      <td>183200</td>\n",
              "      <td>344546</td>\n",
              "      <td>254068</td>\n",
              "      <td>225148</td>\n",
              "      <td>158304</td>\n",
              "      <td>170384</td>\n",
              "      <td>158</td>\n",
              "      <td>0</td>\n",
              "      <td>0</td>\n",
              "    </tr>\n",
              "  </tbody>\n",
              "</table>\n",
              "<p>5 rows × 171 columns</p>\n",
              "</div>\n",
              "      <button class=\"colab-df-convert\" onclick=\"convertToInteractive('df-c799c07a-14ea-4681-b9f7-f05292a1b23f')\"\n",
              "              title=\"Convert this dataframe to an interactive table.\"\n",
              "              style=\"display:none;\">\n",
              "        \n",
              "  <svg xmlns=\"http://www.w3.org/2000/svg\" height=\"24px\"viewBox=\"0 0 24 24\"\n",
              "       width=\"24px\">\n",
              "    <path d=\"M0 0h24v24H0V0z\" fill=\"none\"/>\n",
              "    <path d=\"M18.56 5.44l.94 2.06.94-2.06 2.06-.94-2.06-.94-.94-2.06-.94 2.06-2.06.94zm-11 1L8.5 8.5l.94-2.06 2.06-.94-2.06-.94L8.5 2.5l-.94 2.06-2.06.94zm10 10l.94 2.06.94-2.06 2.06-.94-2.06-.94-.94-2.06-.94 2.06-2.06.94z\"/><path d=\"M17.41 7.96l-1.37-1.37c-.4-.4-.92-.59-1.43-.59-.52 0-1.04.2-1.43.59L10.3 9.45l-7.72 7.72c-.78.78-.78 2.05 0 2.83L4 21.41c.39.39.9.59 1.41.59.51 0 1.02-.2 1.41-.59l7.78-7.78 2.81-2.81c.8-.78.8-2.07 0-2.86zM5.41 20L4 18.59l7.72-7.72 1.47 1.35L5.41 20z\"/>\n",
              "  </svg>\n",
              "      </button>\n",
              "      \n",
              "  <style>\n",
              "    .colab-df-container {\n",
              "      display:flex;\n",
              "      flex-wrap:wrap;\n",
              "      gap: 12px;\n",
              "    }\n",
              "\n",
              "    .colab-df-convert {\n",
              "      background-color: #E8F0FE;\n",
              "      border: none;\n",
              "      border-radius: 50%;\n",
              "      cursor: pointer;\n",
              "      display: none;\n",
              "      fill: #1967D2;\n",
              "      height: 32px;\n",
              "      padding: 0 0 0 0;\n",
              "      width: 32px;\n",
              "    }\n",
              "\n",
              "    .colab-df-convert:hover {\n",
              "      background-color: #E2EBFA;\n",
              "      box-shadow: 0px 1px 2px rgba(60, 64, 67, 0.3), 0px 1px 3px 1px rgba(60, 64, 67, 0.15);\n",
              "      fill: #174EA6;\n",
              "    }\n",
              "\n",
              "    [theme=dark] .colab-df-convert {\n",
              "      background-color: #3B4455;\n",
              "      fill: #D2E3FC;\n",
              "    }\n",
              "\n",
              "    [theme=dark] .colab-df-convert:hover {\n",
              "      background-color: #434B5C;\n",
              "      box-shadow: 0px 1px 3px 1px rgba(0, 0, 0, 0.15);\n",
              "      filter: drop-shadow(0px 1px 2px rgba(0, 0, 0, 0.3));\n",
              "      fill: #FFFFFF;\n",
              "    }\n",
              "  </style>\n",
              "\n",
              "      <script>\n",
              "        const buttonEl =\n",
              "          document.querySelector('#df-c799c07a-14ea-4681-b9f7-f05292a1b23f button.colab-df-convert');\n",
              "        buttonEl.style.display =\n",
              "          google.colab.kernel.accessAllowed ? 'block' : 'none';\n",
              "\n",
              "        async function convertToInteractive(key) {\n",
              "          const element = document.querySelector('#df-c799c07a-14ea-4681-b9f7-f05292a1b23f');\n",
              "          const dataTable =\n",
              "            await google.colab.kernel.invokeFunction('convertToInteractive',\n",
              "                                                     [key], {});\n",
              "          if (!dataTable) return;\n",
              "\n",
              "          const docLinkHtml = 'Like what you see? Visit the ' +\n",
              "            '<a target=\"_blank\" href=https://colab.research.google.com/notebooks/data_table.ipynb>data table notebook</a>'\n",
              "            + ' to learn more about interactive tables.';\n",
              "          element.innerHTML = '';\n",
              "          dataTable['output_type'] = 'display_data';\n",
              "          await google.colab.output.renderOutput(dataTable, element);\n",
              "          const docLink = document.createElement('div');\n",
              "          docLink.innerHTML = docLinkHtml;\n",
              "          element.appendChild(docLink);\n",
              "        }\n",
              "      </script>\n",
              "    </div>\n",
              "  </div>\n",
              "  "
            ]
          },
          "metadata": {},
          "execution_count": 3
        }
      ],
      "source": [
        "data.tail()"
      ]
    },
    {
      "cell_type": "code",
      "execution_count": 4,
      "metadata": {
        "colab": {
          "base_uri": "https://localhost:8080/",
          "height": 300
        },
        "id": "CM0cgIw3P2_e",
        "outputId": "a2371946-cc25-4a07-83e8-3636bfc390fb"
      },
      "outputs": [
        {
          "output_type": "execute_result",
          "data": {
            "text/plain": [
              "             aa_000\n",
              "count  6.000000e+04\n",
              "mean   5.933650e+04\n",
              "std    1.454301e+05\n",
              "min    0.000000e+00\n",
              "25%    8.340000e+02\n",
              "50%    3.077600e+04\n",
              "75%    4.866800e+04\n",
              "max    2.746564e+06"
            ],
            "text/html": [
              "\n",
              "  <div id=\"df-9042bc0f-558b-4410-b6b8-e2b439c102b7\">\n",
              "    <div class=\"colab-df-container\">\n",
              "      <div>\n",
              "<style scoped>\n",
              "    .dataframe tbody tr th:only-of-type {\n",
              "        vertical-align: middle;\n",
              "    }\n",
              "\n",
              "    .dataframe tbody tr th {\n",
              "        vertical-align: top;\n",
              "    }\n",
              "\n",
              "    .dataframe thead th {\n",
              "        text-align: right;\n",
              "    }\n",
              "</style>\n",
              "<table border=\"1\" class=\"dataframe\">\n",
              "  <thead>\n",
              "    <tr style=\"text-align: right;\">\n",
              "      <th></th>\n",
              "      <th>aa_000</th>\n",
              "    </tr>\n",
              "  </thead>\n",
              "  <tbody>\n",
              "    <tr>\n",
              "      <th>count</th>\n",
              "      <td>6.000000e+04</td>\n",
              "    </tr>\n",
              "    <tr>\n",
              "      <th>mean</th>\n",
              "      <td>5.933650e+04</td>\n",
              "    </tr>\n",
              "    <tr>\n",
              "      <th>std</th>\n",
              "      <td>1.454301e+05</td>\n",
              "    </tr>\n",
              "    <tr>\n",
              "      <th>min</th>\n",
              "      <td>0.000000e+00</td>\n",
              "    </tr>\n",
              "    <tr>\n",
              "      <th>25%</th>\n",
              "      <td>8.340000e+02</td>\n",
              "    </tr>\n",
              "    <tr>\n",
              "      <th>50%</th>\n",
              "      <td>3.077600e+04</td>\n",
              "    </tr>\n",
              "    <tr>\n",
              "      <th>75%</th>\n",
              "      <td>4.866800e+04</td>\n",
              "    </tr>\n",
              "    <tr>\n",
              "      <th>max</th>\n",
              "      <td>2.746564e+06</td>\n",
              "    </tr>\n",
              "  </tbody>\n",
              "</table>\n",
              "</div>\n",
              "      <button class=\"colab-df-convert\" onclick=\"convertToInteractive('df-9042bc0f-558b-4410-b6b8-e2b439c102b7')\"\n",
              "              title=\"Convert this dataframe to an interactive table.\"\n",
              "              style=\"display:none;\">\n",
              "        \n",
              "  <svg xmlns=\"http://www.w3.org/2000/svg\" height=\"24px\"viewBox=\"0 0 24 24\"\n",
              "       width=\"24px\">\n",
              "    <path d=\"M0 0h24v24H0V0z\" fill=\"none\"/>\n",
              "    <path d=\"M18.56 5.44l.94 2.06.94-2.06 2.06-.94-2.06-.94-.94-2.06-.94 2.06-2.06.94zm-11 1L8.5 8.5l.94-2.06 2.06-.94-2.06-.94L8.5 2.5l-.94 2.06-2.06.94zm10 10l.94 2.06.94-2.06 2.06-.94-2.06-.94-.94-2.06-.94 2.06-2.06.94z\"/><path d=\"M17.41 7.96l-1.37-1.37c-.4-.4-.92-.59-1.43-.59-.52 0-1.04.2-1.43.59L10.3 9.45l-7.72 7.72c-.78.78-.78 2.05 0 2.83L4 21.41c.39.39.9.59 1.41.59.51 0 1.02-.2 1.41-.59l7.78-7.78 2.81-2.81c.8-.78.8-2.07 0-2.86zM5.41 20L4 18.59l7.72-7.72 1.47 1.35L5.41 20z\"/>\n",
              "  </svg>\n",
              "      </button>\n",
              "      \n",
              "  <style>\n",
              "    .colab-df-container {\n",
              "      display:flex;\n",
              "      flex-wrap:wrap;\n",
              "      gap: 12px;\n",
              "    }\n",
              "\n",
              "    .colab-df-convert {\n",
              "      background-color: #E8F0FE;\n",
              "      border: none;\n",
              "      border-radius: 50%;\n",
              "      cursor: pointer;\n",
              "      display: none;\n",
              "      fill: #1967D2;\n",
              "      height: 32px;\n",
              "      padding: 0 0 0 0;\n",
              "      width: 32px;\n",
              "    }\n",
              "\n",
              "    .colab-df-convert:hover {\n",
              "      background-color: #E2EBFA;\n",
              "      box-shadow: 0px 1px 2px rgba(60, 64, 67, 0.3), 0px 1px 3px 1px rgba(60, 64, 67, 0.15);\n",
              "      fill: #174EA6;\n",
              "    }\n",
              "\n",
              "    [theme=dark] .colab-df-convert {\n",
              "      background-color: #3B4455;\n",
              "      fill: #D2E3FC;\n",
              "    }\n",
              "\n",
              "    [theme=dark] .colab-df-convert:hover {\n",
              "      background-color: #434B5C;\n",
              "      box-shadow: 0px 1px 3px 1px rgba(0, 0, 0, 0.15);\n",
              "      filter: drop-shadow(0px 1px 2px rgba(0, 0, 0, 0.3));\n",
              "      fill: #FFFFFF;\n",
              "    }\n",
              "  </style>\n",
              "\n",
              "      <script>\n",
              "        const buttonEl =\n",
              "          document.querySelector('#df-9042bc0f-558b-4410-b6b8-e2b439c102b7 button.colab-df-convert');\n",
              "        buttonEl.style.display =\n",
              "          google.colab.kernel.accessAllowed ? 'block' : 'none';\n",
              "\n",
              "        async function convertToInteractive(key) {\n",
              "          const element = document.querySelector('#df-9042bc0f-558b-4410-b6b8-e2b439c102b7');\n",
              "          const dataTable =\n",
              "            await google.colab.kernel.invokeFunction('convertToInteractive',\n",
              "                                                     [key], {});\n",
              "          if (!dataTable) return;\n",
              "\n",
              "          const docLinkHtml = 'Like what you see? Visit the ' +\n",
              "            '<a target=\"_blank\" href=https://colab.research.google.com/notebooks/data_table.ipynb>data table notebook</a>'\n",
              "            + ' to learn more about interactive tables.';\n",
              "          element.innerHTML = '';\n",
              "          dataTable['output_type'] = 'display_data';\n",
              "          await google.colab.output.renderOutput(dataTable, element);\n",
              "          const docLink = document.createElement('div');\n",
              "          docLink.innerHTML = docLinkHtml;\n",
              "          element.appendChild(docLink);\n",
              "        }\n",
              "      </script>\n",
              "    </div>\n",
              "  </div>\n",
              "  "
            ]
          },
          "metadata": {},
          "execution_count": 4
        }
      ],
      "source": [
        "data.describe()"
      ]
    },
    {
      "cell_type": "code",
      "source": [
        "data.info()"
      ],
      "metadata": {
        "colab": {
          "base_uri": "https://localhost:8080/"
        },
        "id": "AqYiw_YeMNlH",
        "outputId": "8352e817-1cca-4156-dcf1-862c4a8ed7e5"
      },
      "execution_count": 5,
      "outputs": [
        {
          "output_type": "stream",
          "name": "stdout",
          "text": [
            "<class 'pandas.core.frame.DataFrame'>\n",
            "RangeIndex: 60000 entries, 0 to 59999\n",
            "Columns: 171 entries, class to eg_000\n",
            "dtypes: int64(1), object(170)\n",
            "memory usage: 78.3+ MB\n"
          ]
        }
      ]
    },
    {
      "cell_type": "code",
      "source": [
        "data.isnull().sum()"
      ],
      "metadata": {
        "colab": {
          "base_uri": "https://localhost:8080/"
        },
        "id": "_KksOxF7Mg-1",
        "outputId": "489ff0a0-8e50-4bbf-fa73-d0c86ae3ce2e"
      },
      "execution_count": 6,
      "outputs": [
        {
          "output_type": "execute_result",
          "data": {
            "text/plain": [
              "class     0\n",
              "aa_000    0\n",
              "ab_000    0\n",
              "ac_000    0\n",
              "ad_000    0\n",
              "         ..\n",
              "ee_007    0\n",
              "ee_008    0\n",
              "ee_009    0\n",
              "ef_000    0\n",
              "eg_000    0\n",
              "Length: 171, dtype: int64"
            ]
          },
          "metadata": {},
          "execution_count": 6
        }
      ]
    },
    {
      "cell_type": "code",
      "execution_count": 7,
      "metadata": {
        "colab": {
          "base_uri": "https://localhost:8080/"
        },
        "id": "QJE7B_zrQTK9",
        "outputId": "f5e102e8-c78c-4bbf-d6a3-0e92999b4e1e"
      },
      "outputs": [
        {
          "output_type": "execute_result",
          "data": {
            "text/plain": [
              "class     0\n",
              "aa_000    0\n",
              "ab_000    0\n",
              "ac_000    0\n",
              "ad_000    0\n",
              "         ..\n",
              "ee_007    0\n",
              "ee_008    0\n",
              "ee_009    0\n",
              "ef_000    0\n",
              "eg_000    0\n",
              "Length: 171, dtype: int64"
            ]
          },
          "metadata": {},
          "execution_count": 7
        }
      ],
      "source": [
        "data.isna().sum()"
      ]
    },
    {
      "cell_type": "code",
      "source": [
        "(data == \"na\").sum()"
      ],
      "metadata": {
        "colab": {
          "base_uri": "https://localhost:8080/"
        },
        "id": "RUvXmyYFXAIv",
        "outputId": "bbae2635-fb3d-4a52-fb00-43d55325dc9f"
      },
      "execution_count": 8,
      "outputs": [
        {
          "output_type": "execute_result",
          "data": {
            "text/plain": [
              "class         0\n",
              "aa_000        0\n",
              "ab_000    46329\n",
              "ac_000     3335\n",
              "ad_000    14861\n",
              "          ...  \n",
              "ee_007      671\n",
              "ee_008      671\n",
              "ee_009      671\n",
              "ef_000     2724\n",
              "eg_000     2723\n",
              "Length: 171, dtype: int64"
            ]
          },
          "metadata": {},
          "execution_count": 8
        }
      ]
    },
    {
      "cell_type": "code",
      "source": [],
      "metadata": {
        "id": "_rJ2WmlVMqmo"
      },
      "execution_count": 8,
      "outputs": []
    },
    {
      "cell_type": "code",
      "execution_count": 9,
      "metadata": {
        "colab": {
          "base_uri": "https://localhost:8080/"
        },
        "id": "8jSVZ98hRfkt",
        "outputId": "61578717-c269-49e7-fc55-74b99d43b2b5"
      },
      "outputs": [
        {
          "output_type": "execute_result",
          "data": {
            "text/plain": [
              "neg    59000\n",
              "pos     1000\n",
              "Name: class, dtype: int64"
            ]
          },
          "metadata": {},
          "execution_count": 9
        }
      ],
      "source": [
        "data['class'].value_counts()"
      ]
    },
    {
      "cell_type": "code",
      "source": [
        "#data.columns.value_counts()\n",
        "#list(data.columns.values.tolist())"
      ],
      "metadata": {
        "id": "DahBlLPXXToY"
      },
      "execution_count": 10,
      "outputs": []
    },
    {
      "cell_type": "code",
      "source": [
        "listColumn = ['class']"
      ],
      "metadata": {
        "id": "_RlrRfKrx1j9"
      },
      "execution_count": 11,
      "outputs": []
    },
    {
      "cell_type": "code",
      "source": [
        "data.columns\n",
        "series = (data == \"na\").sum(axis=0)\n",
        "series.plot.bar(stacked = True)\n",
        "\n",
        "#sns.histplot(data=series, x=\"flipper_length_mm\")"
      ],
      "metadata": {
        "colab": {
          "base_uri": "https://localhost:8080/",
          "height": 312
        },
        "id": "7feXVaCyKl2o",
        "outputId": "8beaa192-d609-4d86-fd66-6069c4494f9a"
      },
      "execution_count": 12,
      "outputs": [
        {
          "output_type": "execute_result",
          "data": {
            "text/plain": [
              "<matplotlib.axes._subplots.AxesSubplot at 0x7f27a28b3c90>"
            ]
          },
          "metadata": {},
          "execution_count": 12
        },
        {
          "output_type": "display_data",
          "data": {
            "text/plain": [
              "<Figure size 432x288 with 1 Axes>"
            ],
            "image/png": "[encoded data removed]"
          },
          "metadata": {
            "needs_background": "light"
          }
        }
      ]
    },
    {
      "cell_type": "code",
      "source": [
        "def drop_missing_values(df, miss):\n",
        "\n",
        "       \n",
        "    \n",
        "    df = pd.DataFrame(df, columns = df.columns) \n",
        "    df5 = df.replace(miss, np.NAN)\n",
        "    data_dropped =  df5.dropna(axis = 0)\n",
        "\n",
        "    \n",
        "\n",
        "    return data_dropped"
      ],
      "metadata": {
        "id": "le8l2C8nYjR_"
      },
      "execution_count": 13,
      "outputs": []
    },
    {
      "cell_type": "code",
      "source": [
        "data_dropped = drop_missing_values(data, \"na\")"
      ],
      "metadata": {
        "id": "Drk3BK_yYpnC"
      },
      "execution_count": 14,
      "outputs": []
    },
    {
      "cell_type": "code",
      "source": [
        "data_dropped.describe()"
      ],
      "metadata": {
        "colab": {
          "base_uri": "https://localhost:8080/",
          "height": 300
        },
        "id": "vIW6WQbhYxo2",
        "outputId": "f4f21c48-b694-4794-d406-18a7850b8790"
      },
      "execution_count": 15,
      "outputs": [
        {
          "output_type": "execute_result",
          "data": {
            "text/plain": [
              "             aa_000\n",
              "count  5.910000e+02\n",
              "mean   2.809300e+05\n",
              "std    2.242716e+05\n",
              "min    0.000000e+00\n",
              "25%    1.577120e+05\n",
              "50%    1.952680e+05\n",
              "75%    3.037300e+05\n",
              "max    1.675586e+06"
            ],
            "text/html": [
              "\n",
              "  <div id=\"df-3e79709b-60b7-4d7c-a7f1-23bb6e71bc9e\">\n",
              "    <div class=\"colab-df-container\">\n",
              "      <div>\n",
              "<style scoped>\n",
              "    .dataframe tbody tr th:only-of-type {\n",
              "        vertical-align: middle;\n",
              "    }\n",
              "\n",
              "    .dataframe tbody tr th {\n",
              "        vertical-align: top;\n",
              "    }\n",
              "\n",
              "    .dataframe thead th {\n",
              "        text-align: right;\n",
              "    }\n",
              "</style>\n",
              "<table border=\"1\" class=\"dataframe\">\n",
              "  <thead>\n",
              "    <tr style=\"text-align: right;\">\n",
              "      <th></th>\n",
              "      <th>aa_000</th>\n",
              "    </tr>\n",
              "  </thead>\n",
              "  <tbody>\n",
              "    <tr>\n",
              "      <th>count</th>\n",
              "      <td>5.910000e+02</td>\n",
              "    </tr>\n",
              "    <tr>\n",
              "      <th>mean</th>\n",
              "      <td>2.809300e+05</td>\n",
              "    </tr>\n",
              "    <tr>\n",
              "      <th>std</th>\n",
              "      <td>2.242716e+05</td>\n",
              "    </tr>\n",
              "    <tr>\n",
              "      <th>min</th>\n",
              "      <td>0.000000e+00</td>\n",
              "    </tr>\n",
              "    <tr>\n",
              "      <th>25%</th>\n",
              "      <td>1.577120e+05</td>\n",
              "    </tr>\n",
              "    <tr>\n",
              "      <th>50%</th>\n",
              "      <td>1.952680e+05</td>\n",
              "    </tr>\n",
              "    <tr>\n",
              "      <th>75%</th>\n",
              "      <td>3.037300e+05</td>\n",
              "    </tr>\n",
              "    <tr>\n",
              "      <th>max</th>\n",
              "      <td>1.675586e+06</td>\n",
              "    </tr>\n",
              "  </tbody>\n",
              "</table>\n",
              "</div>\n",
              "      <button class=\"colab-df-convert\" onclick=\"convertToInteractive('df-3e79709b-60b7-4d7c-a7f1-23bb6e71bc9e')\"\n",
              "              title=\"Convert this dataframe to an interactive table.\"\n",
              "              style=\"display:none;\">\n",
              "        \n",
              "  <svg xmlns=\"http://www.w3.org/2000/svg\" height=\"24px\"viewBox=\"0 0 24 24\"\n",
              "       width=\"24px\">\n",
              "    <path d=\"M0 0h24v24H0V0z\" fill=\"none\"/>\n",
              "    <path d=\"M18.56 5.44l.94 2.06.94-2.06 2.06-.94-2.06-.94-.94-2.06-.94 2.06-2.06.94zm-11 1L8.5 8.5l.94-2.06 2.06-.94-2.06-.94L8.5 2.5l-.94 2.06-2.06.94zm10 10l.94 2.06.94-2.06 2.06-.94-2.06-.94-.94-2.06-.94 2.06-2.06.94z\"/><path d=\"M17.41 7.96l-1.37-1.37c-.4-.4-.92-.59-1.43-.59-.52 0-1.04.2-1.43.59L10.3 9.45l-7.72 7.72c-.78.78-.78 2.05 0 2.83L4 21.41c.39.39.9.59 1.41.59.51 0 1.02-.2 1.41-.59l7.78-7.78 2.81-2.81c.8-.78.8-2.07 0-2.86zM5.41 20L4 18.59l7.72-7.72 1.47 1.35L5.41 20z\"/>\n",
              "  </svg>\n",
              "      </button>\n",
              "      \n",
              "  <style>\n",
              "    .colab-df-container {\n",
              "      display:flex;\n",
              "      flex-wrap:wrap;\n",
              "      gap: 12px;\n",
              "    }\n",
              "\n",
              "    .colab-df-convert {\n",
              "      background-color: #E8F0FE;\n",
              "      border: none;\n",
              "      border-radius: 50%;\n",
              "      cursor: pointer;\n",
              "      display: none;\n",
              "      fill: #1967D2;\n",
              "      height: 32px;\n",
              "      padding: 0 0 0 0;\n",
              "      width: 32px;\n",
              "    }\n",
              "\n",
              "    .colab-df-convert:hover {\n",
              "      background-color: #E2EBFA;\n",
              "      box-shadow: 0px 1px 2px rgba(60, 64, 67, 0.3), 0px 1px 3px 1px rgba(60, 64, 67, 0.15);\n",
              "      fill: #174EA6;\n",
              "    }\n",
              "\n",
              "    [theme=dark] .colab-df-convert {\n",
              "      background-color: #3B4455;\n",
              "      fill: #D2E3FC;\n",
              "    }\n",
              "\n",
              "    [theme=dark] .colab-df-convert:hover {\n",
              "      background-color: #434B5C;\n",
              "      box-shadow: 0px 1px 3px 1px rgba(0, 0, 0, 0.15);\n",
              "      filter: drop-shadow(0px 1px 2px rgba(0, 0, 0, 0.3));\n",
              "      fill: #FFFFFF;\n",
              "    }\n",
              "  </style>\n",
              "\n",
              "      <script>\n",
              "        const buttonEl =\n",
              "          document.querySelector('#df-3e79709b-60b7-4d7c-a7f1-23bb6e71bc9e button.colab-df-convert');\n",
              "        buttonEl.style.display =\n",
              "          google.colab.kernel.accessAllowed ? 'block' : 'none';\n",
              "\n",
              "        async function convertToInteractive(key) {\n",
              "          const element = document.querySelector('#df-3e79709b-60b7-4d7c-a7f1-23bb6e71bc9e');\n",
              "          const dataTable =\n",
              "            await google.colab.kernel.invokeFunction('convertToInteractive',\n",
              "                                                     [key], {});\n",
              "          if (!dataTable) return;\n",
              "\n",
              "          const docLinkHtml = 'Like what you see? Visit the ' +\n",
              "            '<a target=\"_blank\" href=https://colab.research.google.com/notebooks/data_table.ipynb>data table notebook</a>'\n",
              "            + ' to learn more about interactive tables.';\n",
              "          element.innerHTML = '';\n",
              "          dataTable['output_type'] = 'display_data';\n",
              "          await google.colab.output.renderOutput(dataTable, element);\n",
              "          const docLink = document.createElement('div');\n",
              "          docLink.innerHTML = docLinkHtml;\n",
              "          element.appendChild(docLink);\n",
              "        }\n",
              "      </script>\n",
              "    </div>\n",
              "  </div>\n",
              "  "
            ]
          },
          "metadata": {},
          "execution_count": 15
        }
      ]
    },
    {
      "cell_type": "code",
      "source": [
        "data_dropped.shape"
      ],
      "metadata": {
        "colab": {
          "base_uri": "https://localhost:8080/"
        },
        "id": "tNVutC4jY3TX",
        "outputId": "00a7a532-887b-445c-acef-0971de03e7f9"
      },
      "execution_count": 16,
      "outputs": [
        {
          "output_type": "execute_result",
          "data": {
            "text/plain": [
              "(591, 171)"
            ]
          },
          "metadata": {},
          "execution_count": 16
        }
      ]
    },
    {
      "cell_type": "code",
      "source": [
        "data_dropped"
      ],
      "metadata": {
        "colab": {
          "base_uri": "https://localhost:8080/",
          "height": 488
        },
        "id": "w8VQwbGF52CT",
        "outputId": "9a711563-f7f1-4a28-b9f3-9c721595873b"
      },
      "execution_count": 17,
      "outputs": [
        {
          "output_type": "execute_result",
          "data": {
            "text/plain": [
              "      class  aa_000 ab_000 ac_000 ad_000 ae_000 af_000 ag_000  ag_001  ag_002  \\\n",
              "16      neg   31300      0    784    740      0      0      0       0       0   \n",
              "179     neg   97000      0    378    160      0      0      0       0       0   \n",
              "225     neg  124656      2    278    170      0      0      0       0       0   \n",
              "394     pos  281324      2   3762   2346      0      0   4808  215720  967572   \n",
              "413     pos   43482      0   1534   1388      0      0      0       0   40024   \n",
              "...     ...     ...    ...    ...    ...    ...    ...    ...     ...     ...   \n",
              "59432   neg  118028      0    740    714    618    690      0       0       0   \n",
              "59562   neg  229916      0    616      0      0      0      0       0       0   \n",
              "59843   neg  224084      0    912    766      0      0      0       0       0   \n",
              "59870   neg  197332      0    658    616    216    346      0       0       0   \n",
              "59950   neg   76812      0    376    340      0      0      0       0    5744   \n",
              "\n",
              "       ...   ee_002  ee_003  ee_004   ee_005   ee_006  ee_007 ee_008 ee_009  \\\n",
              "16     ...   798872  112724   51736     7054     6628   27600      2      2   \n",
              "179    ...  1078982  313334  511330   552328   871528  871104   1980     42   \n",
              "225    ...  1205696  866148  697610   700400  1900386  437532   3680      0   \n",
              "394    ...   624606  269976  638838  1358354   819918  262804   2824      0   \n",
              "413    ...   497196  121166  202272   232636   645690      50      0      0   \n",
              "...    ...      ...     ...     ...      ...      ...     ...    ...    ...   \n",
              "59432  ...   838952  631338  541036  1285274  1832658  165838   3022      0   \n",
              "59562  ...        0       0       0        0        0       0      0      0   \n",
              "59843  ...   413576  209524  469894  2233992  5933084  364450  12422      0   \n",
              "59870  ...    73940   49896   90454   575264   104600   10352     36      0   \n",
              "59950  ...  1487016   60100   29754     4200     4070    9236      0      0   \n",
              "\n",
              "      ef_000 eg_000  \n",
              "16         0      0  \n",
              "179        0      0  \n",
              "225        0      0  \n",
              "394        0      0  \n",
              "413        0      0  \n",
              "...      ...    ...  \n",
              "59432      0      0  \n",
              "59562      0      0  \n",
              "59843      0      0  \n",
              "59870      0      0  \n",
              "59950      0      0  \n",
              "\n",
              "[591 rows x 171 columns]"
            ],
            "text/html": [
              "\n",
              "  <div id=\"df-3c04fd92-db15-4fa2-8803-bc0a73fece9d\">\n",
              "    <div class=\"colab-df-container\">\n",
              "      <div>\n",
              "<style scoped>\n",
              "    .dataframe tbody tr th:only-of-type {\n",
              "        vertical-align: middle;\n",
              "    }\n",
              "\n",
              "    .dataframe tbody tr th {\n",
              "        vertical-align: top;\n",
              "    }\n",
              "\n",
              "    .dataframe thead th {\n",
              "        text-align: right;\n",
              "    }\n",
              "</style>\n",
              "<table border=\"1\" class=\"dataframe\">\n",
              "  <thead>\n",
              "    <tr style=\"text-align: right;\">\n",
              "      <th></th>\n",
              "      <th>class</th>\n",
              "      <th>aa_000</th>\n",
              "      <th>ab_000</th>\n",
              "      <th>ac_000</th>\n",
              "      <th>ad_000</th>\n",
              "      <th>ae_000</th>\n",
              "      <th>af_000</th>\n",
              "      <th>ag_000</th>\n",
              "      <th>ag_001</th>\n",
              "      <th>ag_002</th>\n",
              "      <th>...</th>\n",
              "      <th>ee_002</th>\n",
              "      <th>ee_003</th>\n",
              "      <th>ee_004</th>\n",
              "      <th>ee_005</th>\n",
              "      <th>ee_006</th>\n",
              "      <th>ee_007</th>\n",
              "      <th>ee_008</th>\n",
              "      <th>ee_009</th>\n",
              "      <th>ef_000</th>\n",
              "      <th>eg_000</th>\n",
              "    </tr>\n",
              "  </thead>\n",
              "  <tbody>\n",
              "    <tr>\n",
              "      <th>16</th>\n",
              "      <td>neg</td>\n",
              "      <td>31300</td>\n",
              "      <td>0</td>\n",
              "      <td>784</td>\n",
              "      <td>740</td>\n",
              "      <td>0</td>\n",
              "      <td>0</td>\n",
              "      <td>0</td>\n",
              "      <td>0</td>\n",
              "      <td>0</td>\n",
              "      <td>...</td>\n",
              "      <td>798872</td>\n",
              "      <td>112724</td>\n",
              "      <td>51736</td>\n",
              "      <td>7054</td>\n",
              "      <td>6628</td>\n",
              "      <td>27600</td>\n",
              "      <td>2</td>\n",
              "      <td>2</td>\n",
              "      <td>0</td>\n",
              "      <td>0</td>\n",
              "    </tr>\n",
              "    <tr>\n",
              "      <th>179</th>\n",
              "      <td>neg</td>\n",
              "      <td>97000</td>\n",
              "      <td>0</td>\n",
              "      <td>378</td>\n",
              "      <td>160</td>\n",
              "      <td>0</td>\n",
              "      <td>0</td>\n",
              "      <td>0</td>\n",
              "      <td>0</td>\n",
              "      <td>0</td>\n",
              "      <td>...</td>\n",
              "      <td>1078982</td>\n",
              "      <td>313334</td>\n",
              "      <td>511330</td>\n",
              "      <td>552328</td>\n",
              "      <td>871528</td>\n",
              "      <td>871104</td>\n",
              "      <td>1980</td>\n",
              "      <td>42</td>\n",
              "      <td>0</td>\n",
              "      <td>0</td>\n",
              "    </tr>\n",
              "    <tr>\n",
              "      <th>225</th>\n",
              "      <td>neg</td>\n",
              "      <td>124656</td>\n",
              "      <td>2</td>\n",
              "      <td>278</td>\n",
              "      <td>170</td>\n",
              "      <td>0</td>\n",
              "      <td>0</td>\n",
              "      <td>0</td>\n",
              "      <td>0</td>\n",
              "      <td>0</td>\n",
              "      <td>...</td>\n",
              "      <td>1205696</td>\n",
              "      <td>866148</td>\n",
              "      <td>697610</td>\n",
              "      <td>700400</td>\n",
              "      <td>1900386</td>\n",
              "      <td>437532</td>\n",
              "      <td>3680</td>\n",
              "      <td>0</td>\n",
              "      <td>0</td>\n",
              "      <td>0</td>\n",
              "    </tr>\n",
              "    <tr>\n",
              "      <th>394</th>\n",
              "      <td>pos</td>\n",
              "      <td>281324</td>\n",
              "      <td>2</td>\n",
              "      <td>3762</td>\n",
              "      <td>2346</td>\n",
              "      <td>0</td>\n",
              "      <td>0</td>\n",
              "      <td>4808</td>\n",
              "      <td>215720</td>\n",
              "      <td>967572</td>\n",
              "      <td>...</td>\n",
              "      <td>624606</td>\n",
              "      <td>269976</td>\n",
              "      <td>638838</td>\n",
              "      <td>1358354</td>\n",
              "      <td>819918</td>\n",
              "      <td>262804</td>\n",
              "      <td>2824</td>\n",
              "      <td>0</td>\n",
              "      <td>0</td>\n",
              "      <td>0</td>\n",
              "    </tr>\n",
              "    <tr>\n",
              "      <th>413</th>\n",
              "      <td>pos</td>\n",
              "      <td>43482</td>\n",
              "      <td>0</td>\n",
              "      <td>1534</td>\n",
              "      <td>1388</td>\n",
              "      <td>0</td>\n",
              "      <td>0</td>\n",
              "      <td>0</td>\n",
              "      <td>0</td>\n",
              "      <td>40024</td>\n",
              "      <td>...</td>\n",
              "      <td>497196</td>\n",
              "      <td>121166</td>\n",
              "      <td>202272</td>\n",
              "      <td>232636</td>\n",
              "      <td>645690</td>\n",
              "      <td>50</td>\n",
              "      <td>0</td>\n",
              "      <td>0</td>\n",
              "      <td>0</td>\n",
              "      <td>0</td>\n",
              "    </tr>\n",
              "    <tr>\n",
              "      <th>...</th>\n",
              "      <td>...</td>\n",
              "      <td>...</td>\n",
              "      <td>...</td>\n",
              "      <td>...</td>\n",
              "      <td>...</td>\n",
              "      <td>...</td>\n",
              "      <td>...</td>\n",
              "      <td>...</td>\n",
              "      <td>...</td>\n",
              "      <td>...</td>\n",
              "      <td>...</td>\n",
              "      <td>...</td>\n",
              "      <td>...</td>\n",
              "      <td>...</td>\n",
              "      <td>...</td>\n",
              "      <td>...</td>\n",
              "      <td>...</td>\n",
              "      <td>...</td>\n",
              "      <td>...</td>\n",
              "      <td>...</td>\n",
              "      <td>...</td>\n",
              "    </tr>\n",
              "    <tr>\n",
              "      <th>59432</th>\n",
              "      <td>neg</td>\n",
              "      <td>118028</td>\n",
              "      <td>0</td>\n",
              "      <td>740</td>\n",
              "      <td>714</td>\n",
              "      <td>618</td>\n",
              "      <td>690</td>\n",
              "      <td>0</td>\n",
              "      <td>0</td>\n",
              "      <td>0</td>\n",
              "      <td>...</td>\n",
              "      <td>838952</td>\n",
              "      <td>631338</td>\n",
              "      <td>541036</td>\n",
              "      <td>1285274</td>\n",
              "      <td>1832658</td>\n",
              "      <td>165838</td>\n",
              "      <td>3022</td>\n",
              "      <td>0</td>\n",
              "      <td>0</td>\n",
              "      <td>0</td>\n",
              "    </tr>\n",
              "    <tr>\n",
              "      <th>59562</th>\n",
              "      <td>neg</td>\n",
              "      <td>229916</td>\n",
              "      <td>0</td>\n",
              "      <td>616</td>\n",
              "      <td>0</td>\n",
              "      <td>0</td>\n",
              "      <td>0</td>\n",
              "      <td>0</td>\n",
              "      <td>0</td>\n",
              "      <td>0</td>\n",
              "      <td>...</td>\n",
              "      <td>0</td>\n",
              "      <td>0</td>\n",
              "      <td>0</td>\n",
              "      <td>0</td>\n",
              "      <td>0</td>\n",
              "      <td>0</td>\n",
              "      <td>0</td>\n",
              "      <td>0</td>\n",
              "      <td>0</td>\n",
              "      <td>0</td>\n",
              "    </tr>\n",
              "    <tr>\n",
              "      <th>59843</th>\n",
              "      <td>neg</td>\n",
              "      <td>224084</td>\n",
              "      <td>0</td>\n",
              "      <td>912</td>\n",
              "      <td>766</td>\n",
              "      <td>0</td>\n",
              "      <td>0</td>\n",
              "      <td>0</td>\n",
              "      <td>0</td>\n",
              "      <td>0</td>\n",
              "      <td>...</td>\n",
              "      <td>413576</td>\n",
              "      <td>209524</td>\n",
              "      <td>469894</td>\n",
              "      <td>2233992</td>\n",
              "      <td>5933084</td>\n",
              "      <td>364450</td>\n",
              "      <td>12422</td>\n",
              "      <td>0</td>\n",
              "      <td>0</td>\n",
              "      <td>0</td>\n",
              "    </tr>\n",
              "    <tr>\n",
              "      <th>59870</th>\n",
              "      <td>neg</td>\n",
              "      <td>197332</td>\n",
              "      <td>0</td>\n",
              "      <td>658</td>\n",
              "      <td>616</td>\n",
              "      <td>216</td>\n",
              "      <td>346</td>\n",
              "      <td>0</td>\n",
              "      <td>0</td>\n",
              "      <td>0</td>\n",
              "      <td>...</td>\n",
              "      <td>73940</td>\n",
              "      <td>49896</td>\n",
              "      <td>90454</td>\n",
              "      <td>575264</td>\n",
              "      <td>104600</td>\n",
              "      <td>10352</td>\n",
              "      <td>36</td>\n",
              "      <td>0</td>\n",
              "      <td>0</td>\n",
              "      <td>0</td>\n",
              "    </tr>\n",
              "    <tr>\n",
              "      <th>59950</th>\n",
              "      <td>neg</td>\n",
              "      <td>76812</td>\n",
              "      <td>0</td>\n",
              "      <td>376</td>\n",
              "      <td>340</td>\n",
              "      <td>0</td>\n",
              "      <td>0</td>\n",
              "      <td>0</td>\n",
              "      <td>0</td>\n",
              "      <td>5744</td>\n",
              "      <td>...</td>\n",
              "      <td>1487016</td>\n",
              "      <td>60100</td>\n",
              "      <td>29754</td>\n",
              "      <td>4200</td>\n",
              "      <td>4070</td>\n",
              "      <td>9236</td>\n",
              "      <td>0</td>\n",
              "      <td>0</td>\n",
              "      <td>0</td>\n",
              "      <td>0</td>\n",
              "    </tr>\n",
              "  </tbody>\n",
              "</table>\n",
              "<p>591 rows × 171 columns</p>\n",
              "</div>\n",
              "      <button class=\"colab-df-convert\" onclick=\"convertToInteractive('df-3c04fd92-db15-4fa2-8803-bc0a73fece9d')\"\n",
              "              title=\"Convert this dataframe to an interactive table.\"\n",
              "              style=\"display:none;\">\n",
              "        \n",
              "  <svg xmlns=\"http://www.w3.org/2000/svg\" height=\"24px\"viewBox=\"0 0 24 24\"\n",
              "       width=\"24px\">\n",
              "    <path d=\"M0 0h24v24H0V0z\" fill=\"none\"/>\n",
              "    <path d=\"M18.56 5.44l.94 2.06.94-2.06 2.06-.94-2.06-.94-.94-2.06-.94 2.06-2.06.94zm-11 1L8.5 8.5l.94-2.06 2.06-.94-2.06-.94L8.5 2.5l-.94 2.06-2.06.94zm10 10l.94 2.06.94-2.06 2.06-.94-2.06-.94-.94-2.06-.94 2.06-2.06.94z\"/><path d=\"M17.41 7.96l-1.37-1.37c-.4-.4-.92-.59-1.43-.59-.52 0-1.04.2-1.43.59L10.3 9.45l-7.72 7.72c-.78.78-.78 2.05 0 2.83L4 21.41c.39.39.9.59 1.41.59.51 0 1.02-.2 1.41-.59l7.78-7.78 2.81-2.81c.8-.78.8-2.07 0-2.86zM5.41 20L4 18.59l7.72-7.72 1.47 1.35L5.41 20z\"/>\n",
              "  </svg>\n",
              "      </button>\n",
              "      \n",
              "  <style>\n",
              "    .colab-df-container {\n",
              "      display:flex;\n",
              "      flex-wrap:wrap;\n",
              "      gap: 12px;\n",
              "    }\n",
              "\n",
              "    .colab-df-convert {\n",
              "      background-color: #E8F0FE;\n",
              "      border: none;\n",
              "      border-radius: 50%;\n",
              "      cursor: pointer;\n",
              "      display: none;\n",
              "      fill: #1967D2;\n",
              "      height: 32px;\n",
              "      padding: 0 0 0 0;\n",
              "      width: 32px;\n",
              "    }\n",
              "\n",
              "    .colab-df-convert:hover {\n",
              "      background-color: #E2EBFA;\n",
              "      box-shadow: 0px 1px 2px rgba(60, 64, 67, 0.3), 0px 1px 3px 1px rgba(60, 64, 67, 0.15);\n",
              "      fill: #174EA6;\n",
              "    }\n",
              "\n",
              "    [theme=dark] .colab-df-convert {\n",
              "      background-color: #3B4455;\n",
              "      fill: #D2E3FC;\n",
              "    }\n",
              "\n",
              "    [theme=dark] .colab-df-convert:hover {\n",
              "      background-color: #434B5C;\n",
              "      box-shadow: 0px 1px 3px 1px rgba(0, 0, 0, 0.15);\n",
              "      filter: drop-shadow(0px 1px 2px rgba(0, 0, 0, 0.3));\n",
              "      fill: #FFFFFF;\n",
              "    }\n",
              "  </style>\n",
              "\n",
              "      <script>\n",
              "        const buttonEl =\n",
              "          document.querySelector('#df-3c04fd92-db15-4fa2-8803-bc0a73fece9d button.colab-df-convert');\n",
              "        buttonEl.style.display =\n",
              "          google.colab.kernel.accessAllowed ? 'block' : 'none';\n",
              "\n",
              "        async function convertToInteractive(key) {\n",
              "          const element = document.querySelector('#df-3c04fd92-db15-4fa2-8803-bc0a73fece9d');\n",
              "          const dataTable =\n",
              "            await google.colab.kernel.invokeFunction('convertToInteractive',\n",
              "                                                     [key], {});\n",
              "          if (!dataTable) return;\n",
              "\n",
              "          const docLinkHtml = 'Like what you see? Visit the ' +\n",
              "            '<a target=\"_blank\" href=https://colab.research.google.com/notebooks/data_table.ipynb>data table notebook</a>'\n",
              "            + ' to learn more about interactive tables.';\n",
              "          element.innerHTML = '';\n",
              "          dataTable['output_type'] = 'display_data';\n",
              "          await google.colab.output.renderOutput(dataTable, element);\n",
              "          const docLink = document.createElement('div');\n",
              "          docLink.innerHTML = docLinkHtml;\n",
              "          element.appendChild(docLink);\n",
              "        }\n",
              "      </script>\n",
              "    </div>\n",
              "  </div>\n",
              "  "
            ]
          },
          "metadata": {},
          "execution_count": 17
        }
      ]
    },
    {
      "cell_type": "code",
      "execution_count": 18,
      "metadata": {
        "id": "2j5DrPHXRpr1"
      },
      "outputs": [],
      "source": [
        "# X = pd.DataFrame(data = data_dropped.drop(labels=\"class\", axis = 1))\n",
        "\n",
        "\n",
        "# y = pd.Series(data= data_dropped.iloc[1,:] ) \n"
      ]
    },
    {
      "cell_type": "code",
      "source": [
        "print(data_dropped.groupby('class').size())"
      ],
      "metadata": {
        "colab": {
          "base_uri": "https://localhost:8080/"
        },
        "id": "YFiKz0_sGujA",
        "outputId": "117434ba-649f-4fec-c6cf-dc66be2a5ab1"
      },
      "execution_count": 19,
      "outputs": [
        {
          "output_type": "stream",
          "name": "stdout",
          "text": [
            "class\n",
            "neg    515\n",
            "pos     76\n",
            "dtype: int64\n"
          ]
        }
      ]
    },
    {
      "cell_type": "code",
      "source": [
        "import seaborn as sns\n",
        "\n",
        "sns.countplot(data_dropped['class'],label=\"Count\")"
      ],
      "metadata": {
        "colab": {
          "base_uri": "https://localhost:8080/",
          "height": 296
        },
        "id": "IGFJIYPlG3IH",
        "outputId": "61afdbcb-9453-4a3a-84ad-aebb400ac615"
      },
      "execution_count": 20,
      "outputs": [
        {
          "output_type": "execute_result",
          "data": {
            "text/plain": [
              "<matplotlib.axes._subplots.AxesSubplot at 0x7f2797bc7b10>"
            ]
          },
          "metadata": {},
          "execution_count": 20
        },
        {
          "output_type": "display_data",
          "data": {
            "text/plain": [
              "<Figure size 432x288 with 1 Axes>"
            ],
            "image/png": "[encoded data removed]"
          },
          "metadata": {
            "needs_background": "light"
          }
        }
      ]
    },
    {
      "cell_type": "code",
      "source": [
        "data_dropped.info"
      ],
      "metadata": {
        "colab": {
          "base_uri": "https://localhost:8080/"
        },
        "id": "v895xBsuHBxA",
        "outputId": "cde20a20-563b-4ce3-f806-017a8dc6513b"
      },
      "execution_count": 21,
      "outputs": [
        {
          "output_type": "execute_result",
          "data": {
            "text/plain": [
              "<bound method DataFrame.info of       class  aa_000 ab_000 ac_000 ad_000 ae_000 af_000 ag_000  ag_001  ag_002  \\\n",
              "16      neg   31300      0    784    740      0      0      0       0       0   \n",
              "179     neg   97000      0    378    160      0      0      0       0       0   \n",
              "225     neg  124656      2    278    170      0      0      0       0       0   \n",
              "394     pos  281324      2   3762   2346      0      0   4808  215720  967572   \n",
              "413     pos   43482      0   1534   1388      0      0      0       0   40024   \n",
              "...     ...     ...    ...    ...    ...    ...    ...    ...     ...     ...   \n",
              "59432   neg  118028      0    740    714    618    690      0       0       0   \n",
              "59562   neg  229916      0    616      0      0      0      0       0       0   \n",
              "59843   neg  224084      0    912    766      0      0      0       0       0   \n",
              "59870   neg  197332      0    658    616    216    346      0       0       0   \n",
              "59950   neg   76812      0    376    340      0      0      0       0    5744   \n",
              "\n",
              "       ...   ee_002  ee_003  ee_004   ee_005   ee_006  ee_007 ee_008 ee_009  \\\n",
              "16     ...   798872  112724   51736     7054     6628   27600      2      2   \n",
              "179    ...  1078982  313334  511330   552328   871528  871104   1980     42   \n",
              "225    ...  1205696  866148  697610   700400  1900386  437532   3680      0   \n",
              "394    ...   624606  269976  638838  1358354   819918  262804   2824      0   \n",
              "413    ...   497196  121166  202272   232636   645690      50      0      0   \n",
              "...    ...      ...     ...     ...      ...      ...     ...    ...    ...   \n",
              "59432  ...   838952  631338  541036  1285274  1832658  165838   3022      0   \n",
              "59562  ...        0       0       0        0        0       0      0      0   \n",
              "59843  ...   413576  209524  469894  2233992  5933084  364450  12422      0   \n",
              "59870  ...    73940   49896   90454   575264   104600   10352     36      0   \n",
              "59950  ...  1487016   60100   29754     4200     4070    9236      0      0   \n",
              "\n",
              "      ef_000 eg_000  \n",
              "16         0      0  \n",
              "179        0      0  \n",
              "225        0      0  \n",
              "394        0      0  \n",
              "413        0      0  \n",
              "...      ...    ...  \n",
              "59432      0      0  \n",
              "59562      0      0  \n",
              "59843      0      0  \n",
              "59870      0      0  \n",
              "59950      0      0  \n",
              "\n",
              "[591 rows x 171 columns]>"
            ]
          },
          "metadata": {},
          "execution_count": 21
        }
      ]
    },
    {
      "cell_type": "code",
      "source": [
        "from sklearn.preprocessing import LabelEncoder\n",
        "encoder = LabelEncoder()"
      ],
      "metadata": {
        "id": "TwF65yGHyTAN"
      },
      "execution_count": 22,
      "outputs": []
    },
    {
      "cell_type": "code",
      "source": [
        "def encodeColumn(parameter):\n",
        "    data_dropped[parameter] = encoder.fit_transform(data_dropped[parameter])"
      ],
      "metadata": {
        "id": "NrEv5mlUyQPR"
      },
      "execution_count": 23,
      "outputs": []
    },
    {
      "cell_type": "code",
      "source": [
        "listColumn = ['class']"
      ],
      "metadata": {
        "id": "ZFbKdu_syK-s"
      },
      "execution_count": 24,
      "outputs": []
    },
    {
      "cell_type": "code",
      "source": [
        "for i in listColumn:\n",
        "    encodeColumn(i)\n",
        "data_dropped.info()"
      ],
      "metadata": {
        "colab": {
          "base_uri": "https://localhost:8080/"
        },
        "id": "wQIeukPHyhxE",
        "outputId": "3fcce667-7031-4ce9-cdf7-5568cc3bc186"
      },
      "execution_count": 25,
      "outputs": [
        {
          "output_type": "stream",
          "name": "stdout",
          "text": [
            "<class 'pandas.core.frame.DataFrame'>\n",
            "Int64Index: 591 entries, 16 to 59950\n",
            "Columns: 171 entries, class to eg_000\n",
            "dtypes: int64(2), object(169)\n",
            "memory usage: 810.3+ KB\n"
          ]
        }
      ]
    },
    {
      "cell_type": "code",
      "source": [
        "from sklearn.model_selection import train_test_split\n",
        "\n",
        "X_train, X_test, y_train, y_test = train_test_split(data_dropped.loc[:, data_dropped.columns != 'class'], data_dropped['class'], stratify=data_dropped['class'], random_state=66)"
      ],
      "metadata": {
        "id": "YCm6auJwHJIu"
      },
      "execution_count": 26,
      "outputs": []
    },
    {
      "cell_type": "code",
      "source": [
        "from sklearn.neighbors import KNeighborsClassifier\n",
        "\n",
        "training_accuracy = []\n",
        "test_accuracy = []\n",
        "# try n_neighbors from 1 to 10\n",
        "neighbors_settings = range(1, 11)\n",
        "\n",
        "for n_neighbors in neighbors_settings:\n",
        "    # build the model\n",
        "    knn = KNeighborsClassifier(n_neighbors=n_neighbors)\n",
        "    knn.fit(X_train, y_train)\n",
        "    # record training set accuracy\n",
        "    training_accuracy.append(knn.score(X_train, y_train))\n",
        "    # record test set accuracy\n",
        "    test_accuracy.append(knn.score(X_test, y_test))\n",
        "\n",
        "plt.plot(neighbors_settings, training_accuracy, label=\"training accuracy\")\n",
        "plt.plot(neighbors_settings, test_accuracy, label=\"test accuracy\")\n",
        "plt.ylabel(\"Accuracy\")\n",
        "plt.xlabel(\"n_neighbors\")\n",
        "plt.legend()\n",
        "plt.savefig('knn_compare_model')"
      ],
      "metadata": {
        "colab": {
          "base_uri": "https://localhost:8080/",
          "height": 280
        },
        "id": "-okY5ZUvHd9G",
        "outputId": "8713a8ba-dd22-4feb-ea1b-ccaafc51d7d2"
      },
      "execution_count": 27,
      "outputs": [
        {
          "output_type": "display_data",
          "data": {
            "text/plain": [
              "<Figure size 432x288 with 1 Axes>"
            ],
            "image/png": "[encoded data removed]"
          },
          "metadata": {
            "needs_background": "light"
          }
        }
      ]
    },
    {
      "cell_type": "code",
      "source": [
        "knn = KNeighborsClassifier(n_neighbors=3)\n",
        "knn.fit(X_train, y_train)\n",
        "\n",
        "print('K-NN classifier Accuracy on training set: {:.2f}'.format(knn.score(X_train, y_train)))\n",
        "print('K-NN classifier Accuracy  on test set: {:.2f}'.format(knn.score(X_test, y_test)))"
      ],
      "metadata": {
        "colab": {
          "base_uri": "https://localhost:8080/"
        },
        "id": "ZSMwDwpkPDz_",
        "outputId": "f6c94358-9f3d-4c87-b067-307c3432d014"
      },
      "execution_count": 28,
      "outputs": [
        {
          "output_type": "stream",
          "name": "stdout",
          "text": [
            "K-NN classifier Accuracy on training set: 0.93\n",
            "K-NN classifier Accuracy  on test set: 0.91\n"
          ]
        }
      ]
    },
    {
      "cell_type": "code",
      "source": [
        "def confusionmatrix(y_test,y_predict,x='name of model'):\n",
        "    cm=metrics.confusion_matrix(y_test,y_predict)\n",
        "    \n",
        "    plt.figure(figsize=(10,7))\n",
        "    sns.heatmap(cm,annot=True,cbar=False, fmt='g')\n",
        "    cm1 = pd.DataFrame(cm.reshape((1,4)), columns=['TN', 'FP', 'FN', 'TP'])\n",
        "    plt.xlabel(\"Predicted\")\n",
        "    plt.ylabel(\"Actual\")\n",
        "    plt.title(x)\n",
        "    TC= 10*cm1.FP + 500*cm1.FN   \n",
        "    return [ plt.show(),print(cm1),print(TC)]"
      ],
      "metadata": {
        "id": "nJ7DdJXEe1jG"
      },
      "execution_count": 29,
      "outputs": []
    },
    {
      "cell_type": "code",
      "source": [
        "confusionmatrix(y_test,knn.predict(X_test),x='KNN CLASSIFIER')"
      ],
      "metadata": {
        "colab": {
          "base_uri": "https://localhost:8080/",
          "height": 545
        },
        "id": "B8F0q6KcZD_8",
        "outputId": "cee1b322-aa03-4ae7-8747-652633be9d54"
      },
      "execution_count": 30,
      "outputs": [
        {
          "output_type": "display_data",
          "data": {
            "text/plain": [
              "<Figure size 720x504 with 1 Axes>"
            ],
            "image/png": "[encoded data removed]"
          },
          "metadata": {
            "needs_background": "light"
          }
        },
        {
          "output_type": "stream",
          "name": "stdout",
          "text": [
            "    TN  FP  FN  TP\n",
            "0  127   2  11   8\n",
            "0    5520\n",
            "dtype: int64\n"
          ]
        },
        {
          "output_type": "execute_result",
          "data": {
            "text/plain": [
              "[None, None, None]"
            ]
          },
          "metadata": {},
          "execution_count": 30
        }
      ]
    },
    {
      "cell_type": "code",
      "source": [
        "\n",
        "#Using Logistic Regression\n",
        "logreg = LogisticRegression().fit(X_train, y_train)\n",
        "print(\"Training set score for LR: {:.3f}\".format(logreg.score(X_train, y_train)))\n",
        "print(\"Test set score for LR: {:.3f}\".format(logreg.score(X_test, y_test)))"
      ],
      "metadata": {
        "colab": {
          "base_uri": "https://localhost:8080/"
        },
        "id": "getHaFVgPGJm",
        "outputId": "132c52ec-a458-4e33-e055-b9a9ae63ff45"
      },
      "execution_count": 31,
      "outputs": [
        {
          "output_type": "stream",
          "name": "stdout",
          "text": [
            "Training set score for LR: 0.971\n",
            "Test set score for LR: 0.946\n"
          ]
        }
      ]
    },
    {
      "cell_type": "code",
      "source": [
        "confusionmatrix(y_test,logreg.predict(X_test),x='Logistic Regression')"
      ],
      "metadata": {
        "colab": {
          "base_uri": "https://localhost:8080/",
          "height": 545
        },
        "id": "mrB30Hzne8kE",
        "outputId": "bc47ced1-a516-4b00-bd48-d5847f69a59c"
      },
      "execution_count": 32,
      "outputs": [
        {
          "output_type": "display_data",
          "data": {
            "text/plain": [
              "<Figure size 720x504 with 1 Axes>"
            ],
            "image/png": "[encoded data removed]"
          },
          "metadata": {
            "needs_background": "light"
          }
        },
        {
          "output_type": "stream",
          "name": "stdout",
          "text": [
            "    TN  FP  FN  TP\n",
            "0  127   2   6  13\n",
            "0    3020\n",
            "dtype: int64\n"
          ]
        },
        {
          "output_type": "execute_result",
          "data": {
            "text/plain": [
              "[None, None, None]"
            ]
          },
          "metadata": {},
          "execution_count": 32
        }
      ]
    },
    {
      "cell_type": "code",
      "source": [
        "logreg100 = LogisticRegression(C=100).fit(X_train, y_train)\n",
        "print(\"Training set score for LR with C as 100: {:.3f}\".format(logreg100.score(X_train, y_train)))\n",
        "print(\"Test set score for LR with C as 100: {:.3f}\".format(logreg100.score(X_test, y_test)))"
      ],
      "metadata": {
        "colab": {
          "base_uri": "https://localhost:8080/"
        },
        "id": "-slZqwuHPUuG",
        "outputId": "d8947ef7-11c6-44c0-9041-cc206a1f0b47"
      },
      "execution_count": 33,
      "outputs": [
        {
          "output_type": "stream",
          "name": "stdout",
          "text": [
            "Training set score for LR with C as 100: 0.980\n",
            "Test set score for LR with C as 100: 0.959\n"
          ]
        }
      ]
    },
    {
      "cell_type": "code",
      "source": [
        "confusionmatrix(y_test,logreg100.predict(X_test),x='Logistic Regression with C as 100')"
      ],
      "metadata": {
        "colab": {
          "base_uri": "https://localhost:8080/",
          "height": 545
        },
        "id": "aPfQ1vbwfMzV",
        "outputId": "e548babf-700e-4924-a8af-aedd2cd598c6"
      },
      "execution_count": 34,
      "outputs": [
        {
          "output_type": "display_data",
          "data": {
            "text/plain": [
              "<Figure size 720x504 with 1 Axes>"
            ],
            "image/png": "[encoded data removed]"
          },
          "metadata": {
            "needs_background": "light"
          }
        },
        {
          "output_type": "stream",
          "name": "stdout",
          "text": [
            "    TN  FP  FN  TP\n",
            "0  129   0   6  13\n",
            "0    3000\n",
            "dtype: int64\n"
          ]
        },
        {
          "output_type": "execute_result",
          "data": {
            "text/plain": [
              "[None, None, None]"
            ]
          },
          "metadata": {},
          "execution_count": 34
        }
      ]
    },
    {
      "cell_type": "code",
      "source": [
        "logreg001 = LogisticRegression(C=0.01).fit(X_train, y_train)\n",
        "print(\"Training set score for LR with C as 0.01: {:.3f}\".format(logreg001.score(X_train, y_train)))\n",
        "print(\"Test set score for LR with C as 0.01: {:.3f}\".format(logreg001.score(X_test, y_test)))"
      ],
      "metadata": {
        "colab": {
          "base_uri": "https://localhost:8080/"
        },
        "id": "jh7NeSYjPcSR",
        "outputId": "a7c1ceb0-d247-40a2-b660-64202cde4eec"
      },
      "execution_count": 35,
      "outputs": [
        {
          "output_type": "stream",
          "name": "stdout",
          "text": [
            "Training set score for LR with C as 0.01: 0.973\n",
            "Test set score for LR with C as 0.01: 0.946\n"
          ]
        }
      ]
    },
    {
      "cell_type": "code",
      "source": [
        "confusionmatrix(y_test,logreg001.predict(X_test),x='Logistic Regression with C as 0.01')"
      ],
      "metadata": {
        "colab": {
          "base_uri": "https://localhost:8080/",
          "height": 545
        },
        "id": "YYU_WtajfZdM",
        "outputId": "b81ef5be-dcdb-42a9-e4cc-d69b1ecb108f"
      },
      "execution_count": 36,
      "outputs": [
        {
          "output_type": "display_data",
          "data": {
            "text/plain": [
              "<Figure size 720x504 with 1 Axes>"
            ],
            "image/png": "[encoded data removed]"
          },
          "metadata": {
            "needs_background": "light"
          }
        },
        {
          "output_type": "stream",
          "name": "stdout",
          "text": [
            "    TN  FP  FN  TP\n",
            "0  127   2   6  13\n",
            "0    3020\n",
            "dtype: int64\n"
          ]
        },
        {
          "output_type": "execute_result",
          "data": {
            "text/plain": [
              "[None, None, None]"
            ]
          },
          "metadata": {},
          "execution_count": 36
        }
      ]
    },
    {
      "cell_type": "code",
      "source": [
        "#data_dropped.info"
      ],
      "metadata": {
        "id": "7AT9lBiLQdG5"
      },
      "execution_count": 37,
      "outputs": []
    },
    {
      "cell_type": "code",
      "source": [
        "# data_features = [x for i,x in enumerate(data_dropped.columns) if i!=0]\n",
        "\n",
        "# plt.figure(figsize=(8,6))\n",
        "# plt.plot(logreg.coef_.T, 'o', label=\"C=1\")\n",
        "# plt.plot(logreg100.coef_.T, '^', label=\"C=100\")\n",
        "# plt.plot(logreg001.coef_.T, 'v', label=\"C=0.001\")\n",
        "# plt.xticks(range(data_dropped.shape[1]), data_features, rotation=0)\n",
        "# plt.hlines(0, 0, data_dropped.shape[1])\n",
        "# plt.ylim(-10, 10)\n",
        "# plt.xlabel(\"Feature\")\n",
        "# plt.ylabel(\"Coefficient magnitude\")\n",
        "# plt.legend()\n",
        "# plt.savefig('log_coef')"
      ],
      "metadata": {
        "id": "4qafqL2QPo8o"
      },
      "execution_count": 38,
      "outputs": []
    },
    {
      "cell_type": "code",
      "source": [],
      "metadata": {
        "id": "ynvTM1avXOZJ"
      },
      "execution_count": 38,
      "outputs": []
    },
    {
      "cell_type": "code",
      "source": [
        "#from sklearn.metrics import confusion_matrix\n",
        "#cf_matrix=confusion_matrix(y_test,logreg.predict(X_test))#,x='Logistic regression')\n",
        "#confusionmatrix(y_test,logreg.predict(X_test),x='Logistic regression')"
      ],
      "metadata": {
        "id": "jXkNtpYQRclc"
      },
      "execution_count": 39,
      "outputs": []
    },
    {
      "cell_type": "code",
      "source": [
        "# import seaborn as sns\n",
        "# #sns.heatmap(cf_matrix, annot=True)\n",
        "# sns.heatmap(cf_matrix/np.sum(cf_matrix), annot=True, \n",
        "#             fmt='.2%', cmap='Blues')"
      ],
      "metadata": {
        "id": "2jDBqMwfVDsf"
      },
      "execution_count": 40,
      "outputs": []
    },
    {
      "cell_type": "code",
      "source": [
        "#data_dropped.shape[0]"
      ],
      "metadata": {
        "id": "9PdIN8ycQIax"
      },
      "execution_count": 41,
      "outputs": []
    },
    {
      "cell_type": "code",
      "source": [
        "from sklearn.model_selection import train_test_split\n",
        "from sklearn.tree import DecisionTreeClassifier\n",
        "tree = DecisionTreeClassifier(random_state=0)\n",
        "tree.fit(X_train, y_train)\n",
        "print(\"Accuracy on training set for Decision Tree without Max Depth: {:.3f}\".format(tree.score(X_train, y_train)))\n",
        "print(\"Accuracy on training set for Decision Tree without Max Depth: {:.3f}\".format(tree.score(X_test, y_test)))"
      ],
      "metadata": {
        "colab": {
          "base_uri": "https://localhost:8080/"
        },
        "id": "0EZGaGH_kqsK",
        "outputId": "d14760f2-cf2c-49e8-cd5e-ddcd8a1123c1"
      },
      "execution_count": 42,
      "outputs": [
        {
          "output_type": "stream",
          "name": "stdout",
          "text": [
            "Accuracy on training set for Decision Tree without Max Depth: 1.000\n",
            "Accuracy on training set for Decision Tree without Max Depth: 0.932\n"
          ]
        }
      ]
    },
    {
      "cell_type": "code",
      "source": [
        "confusionmatrix(y_test,tree.predict(X_test),x='Decision Tree without Max Depth')"
      ],
      "metadata": {
        "colab": {
          "base_uri": "https://localhost:8080/",
          "height": 545
        },
        "id": "7GXRRERLfwMK",
        "outputId": "6a5df9ef-d04d-471f-c720-d76486ee8365"
      },
      "execution_count": 43,
      "outputs": [
        {
          "output_type": "display_data",
          "data": {
            "text/plain": [
              "<Figure size 720x504 with 1 Axes>"
            ],
            "image/png": "[encoded data removed]"
          },
          "metadata": {
            "needs_background": "light"
          }
        },
        {
          "output_type": "stream",
          "name": "stdout",
          "text": [
            "    TN  FP  FN  TP\n",
            "0  124   5   5  14\n",
            "0    2550\n",
            "dtype: int64\n"
          ]
        },
        {
          "output_type": "execute_result",
          "data": {
            "text/plain": [
              "[None, None, None]"
            ]
          },
          "metadata": {},
          "execution_count": 43
        }
      ]
    },
    {
      "cell_type": "code",
      "source": [
        "tree = DecisionTreeClassifier(max_depth=4, random_state=0)\n",
        "tree.fit(X_train, y_train)\n",
        "\n",
        "print(\"Accuracy on training set for Decision Tree with Max Depth: {:.3f}\".format(tree.score(X_train, y_train)))\n",
        "print(\"Accuracy on test set for Decision Tree with Max Depth: {:.3f}\".format(tree.score(X_test, y_test)))"
      ],
      "metadata": {
        "colab": {
          "base_uri": "https://localhost:8080/"
        },
        "id": "qNlJmi0LTVil",
        "outputId": "66aebbc4-9d3a-495b-80f8-6904f1794cb6"
      },
      "execution_count": 44,
      "outputs": [
        {
          "output_type": "stream",
          "name": "stdout",
          "text": [
            "Accuracy on training set for Decision Tree with Max Depth: 0.980\n",
            "Accuracy on test set for Decision Tree with Max Depth: 0.959\n"
          ]
        }
      ]
    },
    {
      "cell_type": "code",
      "source": [
        "confusionmatrix(y_test,tree.predict(X_test),x='Decision Tree with Max Depth')"
      ],
      "metadata": {
        "colab": {
          "base_uri": "https://localhost:8080/",
          "height": 545
        },
        "id": "OCeaP3t7f9y0",
        "outputId": "4693c7fa-f184-45e6-92dd-8ebd2d735bd1"
      },
      "execution_count": 45,
      "outputs": [
        {
          "output_type": "display_data",
          "data": {
            "text/plain": [
              "<Figure size 720x504 with 1 Axes>"
            ],
            "image/png": "[encoded data removed]"
          },
          "metadata": {
            "needs_background": "light"
          }
        },
        {
          "output_type": "stream",
          "name": "stdout",
          "text": [
            "    TN  FP  FN  TP\n",
            "0  129   0   6  13\n",
            "0    3000\n",
            "dtype: int64\n"
          ]
        },
        {
          "output_type": "execute_result",
          "data": {
            "text/plain": [
              "[None, None, None]"
            ]
          },
          "metadata": {},
          "execution_count": 45
        }
      ]
    },
    {
      "cell_type": "code",
      "source": [
        "print(\"Feature importances:\\n{}\".format(tree.feature_importances_))"
      ],
      "metadata": {
        "colab": {
          "base_uri": "https://localhost:8080/"
        },
        "id": "NrgcC1RJTYSh",
        "outputId": "e9f03a9d-ba95-479e-d796-0d67bf221eb6"
      },
      "execution_count": 46,
      "outputs": [
        {
          "output_type": "stream",
          "name": "stdout",
          "text": [
            "Feature importances:\n",
            "[0.         0.         0.         0.         0.         0.\n",
            " 0.         0.032734   0.         0.         0.         0.\n",
            " 0.         0.         0.         0.         0.         0.\n",
            " 0.         0.         0.06845069 0.         0.         0.\n",
            " 0.         0.         0.         0.         0.         0.\n",
            " 0.         0.         0.         0.         0.         0.\n",
            " 0.         0.         0.03154929 0.         0.         0.13130106\n",
            " 0.         0.         0.         0.         0.         0.\n",
            " 0.         0.         0.         0.         0.         0.\n",
            " 0.         0.         0.         0.         0.         0.\n",
            " 0.         0.         0.         0.         0.         0.\n",
            " 0.         0.         0.         0.         0.5252816  0.\n",
            " 0.         0.         0.         0.         0.         0.\n",
            " 0.         0.         0.         0.         0.         0.\n",
            " 0.         0.         0.         0.08897885 0.         0.\n",
            " 0.         0.         0.         0.         0.         0.05779607\n",
            " 0.         0.         0.         0.         0.         0.\n",
            " 0.         0.         0.         0.         0.         0.\n",
            " 0.         0.         0.         0.         0.         0.02070422\n",
            " 0.         0.         0.         0.         0.         0.\n",
            " 0.         0.         0.         0.         0.         0.\n",
            " 0.         0.         0.         0.02292253 0.         0.02028169\n",
            " 0.         0.         0.         0.         0.         0.\n",
            " 0.         0.         0.         0.         0.         0.\n",
            " 0.         0.         0.         0.         0.         0.\n",
            " 0.         0.         0.         0.         0.         0.\n",
            " 0.         0.         0.         0.         0.         0.\n",
            " 0.         0.         0.         0.         0.         0.\n",
            " 0.         0.        ]\n"
          ]
        }
      ]
    },
    {
      "cell_type": "code",
      "source": [
        "# def plot_feature_importances_data(model):\n",
        "#     plt.figure(figsize=(8,6))\n",
        "#     n_features = 170\n",
        "#     plt.barh(range(n_features), model.feature_importances_, align='center')\n",
        "#     plt.yticks(np.arange(n_features), data_features)\n",
        "#     plt.xlabel(\"Feature importance\")\n",
        "#     plt.ylabel(\"Feature\")\n",
        "#     plt.ylim(-1, n_features)\n",
        "\n",
        "# plot_feature_importances_data(tree)\n",
        "# plt.savefig('feature_importance')"
      ],
      "metadata": {
        "id": "pU5VhylnTd15"
      },
      "execution_count": 47,
      "outputs": []
    },
    {
      "cell_type": "code",
      "source": [
        "from sklearn.ensemble import RandomForestClassifier\n",
        "\n",
        "rf = RandomForestClassifier()\n",
        "rf.fit(X_train, y_train)\n",
        "print(\"Accuracy on training set for Random Forest: {:.3f}\".format(rf.score(X_train, y_train)))\n",
        "print(\"Accuracy on test set for Random Forest: {:.3f}\".format(rf.score(X_test, y_test)))"
      ],
      "metadata": {
        "colab": {
          "base_uri": "https://localhost:8080/"
        },
        "id": "Y0OoxehrURXl",
        "outputId": "fc361847-8762-4978-d9ea-b6be3aa5cbd5"
      },
      "execution_count": 48,
      "outputs": [
        {
          "output_type": "stream",
          "name": "stdout",
          "text": [
            "Accuracy on training set for Random Forest: 1.000\n",
            "Accuracy on test set for Random Forest: 0.973\n"
          ]
        }
      ]
    },
    {
      "cell_type": "code",
      "source": [
        "confusionmatrix(y_test,rf.predict(X_test),x='Random Forest')"
      ],
      "metadata": {
        "colab": {
          "base_uri": "https://localhost:8080/",
          "height": 545
        },
        "id": "9eMtAnGmZ-o8",
        "outputId": "b3bd56a2-cbf0-43b4-8c12-5551978306a1"
      },
      "execution_count": 49,
      "outputs": [
        {
          "output_type": "display_data",
          "data": {
            "text/plain": [
              "<Figure size 720x504 with 1 Axes>"
            ],
            "image/png": "[encoded data removed]"
          },
          "metadata": {
            "needs_background": "light"
          }
        },
        {
          "output_type": "stream",
          "name": "stdout",
          "text": [
            "    TN  FP  FN  TP\n",
            "0  129   0   4  15\n",
            "0    2000\n",
            "dtype: int64\n"
          ]
        },
        {
          "output_type": "execute_result",
          "data": {
            "text/plain": [
              "[None, None, None]"
            ]
          },
          "metadata": {},
          "execution_count": 49
        }
      ]
    },
    {
      "cell_type": "code",
      "source": [
        "# plot_feature_importances_data(rf)"
      ],
      "metadata": {
        "id": "sERafD4hUXoK"
      },
      "execution_count": 50,
      "outputs": []
    },
    {
      "cell_type": "code",
      "source": [
        "from sklearn.ensemble import GradientBoostingClassifier\n",
        "\n",
        "gb = GradientBoostingClassifier(random_state=0)\n",
        "gb.fit(X_train, y_train)\n",
        "\n",
        "print(\"Accuracy on training set for Gradient Boosting without Max Depth and Learning Rate: {:.3f}\".format(gb.score(X_train, y_train)))\n",
        "print(\"Accuracy on test set for Gradient Boosting without Max Depth and Learning Rate: {:.3f}\".format(gb.score(X_test, y_test)))"
      ],
      "metadata": {
        "colab": {
          "base_uri": "https://localhost:8080/"
        },
        "id": "Mln09qu9Ug3B",
        "outputId": "fe177864-92a1-4be8-ccfe-505db6927f9d"
      },
      "execution_count": 51,
      "outputs": [
        {
          "output_type": "stream",
          "name": "stdout",
          "text": [
            "Accuracy on training set for Gradient Boosting without Max Depth and Learning Rate: 1.000\n",
            "Accuracy on test set for Gradient Boosting without Max Depth and Learning Rate: 0.953\n"
          ]
        }
      ]
    },
    {
      "cell_type": "code",
      "source": [
        "confusionmatrix(y_test,gb.predict(X_test),x='Gradient Boosting')"
      ],
      "metadata": {
        "colab": {
          "base_uri": "https://localhost:8080/",
          "height": 545
        },
        "id": "tQXvCzyxaN0L",
        "outputId": "8a2ac27b-8ec3-47f0-8fd4-26af6fbf5923"
      },
      "execution_count": 52,
      "outputs": [
        {
          "output_type": "display_data",
          "data": {
            "text/plain": [
              "<Figure size 720x504 with 1 Axes>"
            ],
            "image/png": "[encoded data removed]"
          },
          "metadata": {
            "needs_background": "light"
          }
        },
        {
          "output_type": "stream",
          "name": "stdout",
          "text": [
            "    TN  FP  FN  TP\n",
            "0  126   3   4  15\n",
            "0    2030\n",
            "dtype: int64\n"
          ]
        },
        {
          "output_type": "execute_result",
          "data": {
            "text/plain": [
              "[None, None, None]"
            ]
          },
          "metadata": {},
          "execution_count": 52
        }
      ]
    },
    {
      "cell_type": "code",
      "source": [
        "gb1 = GradientBoostingClassifier(random_state=0, max_depth=1)\n",
        "gb1.fit(X_train, y_train)\n",
        "\n",
        "print(\"Accuracy on training set for Gradient Boosting with Max Depth: {:.3f}\".format(gb1.score(X_train, y_train)))\n",
        "print(\"Accuracy on test set for Gradient Boosting with Max Depth: {:.3f}\".format(gb1.score(X_test, y_test)))"
      ],
      "metadata": {
        "colab": {
          "base_uri": "https://localhost:8080/"
        },
        "id": "4iXgMa8vWbB0",
        "outputId": "b56f2aa4-004d-4ea2-fd01-da9045076cdb"
      },
      "execution_count": 53,
      "outputs": [
        {
          "output_type": "stream",
          "name": "stdout",
          "text": [
            "Accuracy on training set for Gradient Boosting with Max Depth: 0.986\n",
            "Accuracy on test set for Gradient Boosting with Max Depth: 0.939\n"
          ]
        }
      ]
    },
    {
      "cell_type": "code",
      "source": [
        "confusionmatrix(y_test,gb1.predict(X_test),x='Gradient Boosting with Max Depth')"
      ],
      "metadata": {
        "colab": {
          "base_uri": "https://localhost:8080/",
          "height": 545
        },
        "id": "b2AfKLUKagPF",
        "outputId": "472dbe2b-711a-45b3-d67f-70ccfd7aad1a"
      },
      "execution_count": 54,
      "outputs": [
        {
          "output_type": "display_data",
          "data": {
            "text/plain": [
              "<Figure size 720x504 with 1 Axes>"
            ],
            "image/png": "[encoded data removed]"
          },
          "metadata": {
            "needs_background": "light"
          }
        },
        {
          "output_type": "stream",
          "name": "stdout",
          "text": [
            "    TN  FP  FN  TP\n",
            "0  128   1   8  11\n",
            "0    4010\n",
            "dtype: int64\n"
          ]
        },
        {
          "output_type": "execute_result",
          "data": {
            "text/plain": [
              "[None, None, None]"
            ]
          },
          "metadata": {},
          "execution_count": 54
        }
      ]
    },
    {
      "cell_type": "code",
      "source": [
        "gb2 = GradientBoostingClassifier(random_state=0, learning_rate=0.01)\n",
        "gb2.fit(X_train, y_train)\n",
        "\n",
        "print(\"Accuracy on training set for Gradient Boosting with Learning Rate: {:.3f}\".format(gb2.score(X_train, y_train)))\n",
        "print(\"Accuracy on test set for Gradient Boosting with Learning Rate: {:.3f}\".format(gb2.score(X_test, y_test)))"
      ],
      "metadata": {
        "colab": {
          "base_uri": "https://localhost:8080/"
        },
        "id": "uhDejg7zWlVJ",
        "outputId": "622d1bc8-a9d8-45b7-ddb8-faabec544075"
      },
      "execution_count": 55,
      "outputs": [
        {
          "output_type": "stream",
          "name": "stdout",
          "text": [
            "Accuracy on training set for Gradient Boosting with Learning Rate: 0.980\n",
            "Accuracy on test set for Gradient Boosting with Learning Rate: 0.939\n"
          ]
        }
      ]
    },
    {
      "cell_type": "code",
      "source": [
        "confusionmatrix(y_test,gb2.predict(X_test),x='Gradient Boosting with Learning Rate')"
      ],
      "metadata": {
        "colab": {
          "base_uri": "https://localhost:8080/",
          "height": 545
        },
        "id": "KSKlwunUa3js",
        "outputId": "f10d140c-e63a-406a-b073-2373af79d76f"
      },
      "execution_count": 56,
      "outputs": [
        {
          "output_type": "display_data",
          "data": {
            "text/plain": [
              "<Figure size 720x504 with 1 Axes>"
            ],
            "image/png": "[encoded data removed]"
          },
          "metadata": {
            "needs_background": "light"
          }
        },
        {
          "output_type": "stream",
          "name": "stdout",
          "text": [
            "    TN  FP  FN  TP\n",
            "0  129   0   9  10\n",
            "0    4500\n",
            "dtype: int64\n"
          ]
        },
        {
          "output_type": "execute_result",
          "data": {
            "text/plain": [
              "[None, None, None]"
            ]
          },
          "metadata": {},
          "execution_count": 56
        }
      ]
    },
    {
      "cell_type": "code",
      "source": [
        "# gb = GradientBoostingClassifier(random_state=0, max_depth=1)\n",
        "# gb.fit(X_train, y_train)\n",
        "\n",
        "# plot_feature_importances_data(gb1)"
      ],
      "metadata": {
        "id": "3c94xj0RWoB6"
      },
      "execution_count": 57,
      "outputs": []
    },
    {
      "cell_type": "code",
      "source": [
        "from sklearn.svm import SVC\n",
        "\n",
        "svc = SVC()\n",
        "svc.fit(X_train, y_train)\n",
        "\n",
        "print(\"Accuracy on training set for SVC: {:.2f}\".format(svc.score(X_train, y_train)))\n",
        "print(\"Accuracy on test set for SVC: {:.2f}\".format(svc.score(X_test, y_test)))"
      ],
      "metadata": {
        "colab": {
          "base_uri": "https://localhost:8080/"
        },
        "id": "CUi2fRykWuk1",
        "outputId": "b2c2a43a-a453-4311-efdc-f4e3b306e250"
      },
      "execution_count": 58,
      "outputs": [
        {
          "output_type": "stream",
          "name": "stdout",
          "text": [
            "Accuracy on training set for SVC: 0.87\n",
            "Accuracy on test set for SVC: 0.87\n"
          ]
        }
      ]
    },
    {
      "cell_type": "code",
      "source": [
        "confusionmatrix(y_test,svc.predict(X_test),x='SVC')"
      ],
      "metadata": {
        "colab": {
          "base_uri": "https://localhost:8080/",
          "height": 545
        },
        "id": "ur-OLX9Dbugp",
        "outputId": "2af4225b-9dae-4479-d7a0-5e90679857e6"
      },
      "execution_count": 59,
      "outputs": [
        {
          "output_type": "display_data",
          "data": {
            "text/plain": [
              "<Figure size 720x504 with 1 Axes>"
            ],
            "image/png": "[encoded data removed]"
          },
          "metadata": {
            "needs_background": "light"
          }
        },
        {
          "output_type": "stream",
          "name": "stdout",
          "text": [
            "    TN  FP  FN  TP\n",
            "0  129   0  19   0\n",
            "0    9500\n",
            "dtype: int64\n"
          ]
        },
        {
          "output_type": "execute_result",
          "data": {
            "text/plain": [
              "[None, None, None]"
            ]
          },
          "metadata": {},
          "execution_count": 59
        }
      ]
    },
    {
      "cell_type": "code",
      "source": [
        "from sklearn.preprocessing import MinMaxScaler\n",
        "\n",
        "scaler = MinMaxScaler()\n",
        "X_train_scaled = scaler.fit_transform(X_train)\n",
        "X_test_scaled = scaler.fit_transform(X_test)\n",
        "\n",
        "svc1 = SVC()\n",
        "svc1.fit(X_train_scaled, y_train)\n",
        "\n",
        "print(\"Accuracy on training set for SVC with Scaling: {:.2f}\".format(svc.score(X_train_scaled, y_train)))\n",
        "print(\"Accuracy on test set for SVC with Scaling: {:.2f}\".format(svc.score(X_test_scaled, y_test)))"
      ],
      "metadata": {
        "colab": {
          "base_uri": "https://localhost:8080/"
        },
        "id": "P2WVKxU9W4IK",
        "outputId": "76e92099-bc9c-454a-87ae-c5b9ebe3dfc3"
      },
      "execution_count": 60,
      "outputs": [
        {
          "output_type": "stream",
          "name": "stdout",
          "text": [
            "Accuracy on training set for SVC with Scaling: 0.87\n",
            "Accuracy on test set for SVC with Scaling: 0.87\n"
          ]
        }
      ]
    },
    {
      "cell_type": "code",
      "source": [
        "confusionmatrix(y_test,svc1.predict(X_test),x='SVC with Scaling')"
      ],
      "metadata": {
        "colab": {
          "base_uri": "https://localhost:8080/",
          "height": 545
        },
        "id": "NMWiFuevcxKK",
        "outputId": "b7d5d5b7-50fb-402c-af1a-a4aacea8b1b2"
      },
      "execution_count": 61,
      "outputs": [
        {
          "output_type": "display_data",
          "data": {
            "text/plain": [
              "<Figure size 720x504 with 1 Axes>"
            ],
            "image/png": "[encoded data removed]"
          },
          "metadata": {
            "needs_background": "light"
          }
        },
        {
          "output_type": "stream",
          "name": "stdout",
          "text": [
            "    TN  FP  FN  TP\n",
            "0  129   0  19   0\n",
            "0    9500\n",
            "dtype: int64\n"
          ]
        },
        {
          "output_type": "execute_result",
          "data": {
            "text/plain": [
              "[None, None, None]"
            ]
          },
          "metadata": {},
          "execution_count": 61
        }
      ]
    },
    {
      "cell_type": "code",
      "source": [
        "svc2 = SVC(C=1000)\n",
        "svc2.fit(X_train_scaled, y_train)\n",
        "\n",
        "print(\"Accuracy on training set for SVC with Scaling and C=1000: {:.3f}\".format(svc.score(X_train_scaled, y_train)))\n",
        "print(\"Accuracy on test set for SVC with Scaling and C=1000: {:.3f}\".format(svc.score(X_test_scaled, y_test)))"
      ],
      "metadata": {
        "colab": {
          "base_uri": "https://localhost:8080/"
        },
        "id": "hquzpjDbW-26",
        "outputId": "4341790d-d9af-4b24-d702-5cc46a44f24c"
      },
      "execution_count": 62,
      "outputs": [
        {
          "output_type": "stream",
          "name": "stdout",
          "text": [
            "Accuracy on training set for SVC with Scaling and C=1000: 0.871\n",
            "Accuracy on test set for SVC with Scaling and C=1000: 0.872\n"
          ]
        }
      ]
    },
    {
      "cell_type": "code",
      "source": [
        "confusionmatrix(y_test,svc2.predict(X_test),x='SVC with Scaling and C=1000')"
      ],
      "metadata": {
        "colab": {
          "base_uri": "https://localhost:8080/",
          "height": 545
        },
        "id": "Ui8bQqFPczAi",
        "outputId": "453646d0-c9b4-4d5a-ee36-6df980cad0d9"
      },
      "execution_count": 63,
      "outputs": [
        {
          "output_type": "display_data",
          "data": {
            "text/plain": [
              "<Figure size 720x504 with 1 Axes>"
            ],
            "image/png": "[encoded data removed]"
          },
          "metadata": {
            "needs_background": "light"
          }
        },
        {
          "output_type": "stream",
          "name": "stdout",
          "text": [
            "    TN  FP  FN  TP\n",
            "0  129   0  19   0\n",
            "0    9500\n",
            "dtype: int64\n"
          ]
        },
        {
          "output_type": "execute_result",
          "data": {
            "text/plain": [
              "[None, None, None]"
            ]
          },
          "metadata": {},
          "execution_count": 63
        }
      ]
    },
    {
      "cell_type": "code",
      "source": [
        "#Using Kmeans to find the clusters\n",
        "\n",
        "data_1 = data_dropped.drop(['class'],axis=1)\n",
        "scaler = StandardScaler()\n",
        "data_standardized = scaler.fit_transform(data_1)\n",
        "data_standardized = pd.DataFrame(data_standardized,columns=data_1.columns)"
      ],
      "metadata": {
        "id": "VwyEYJl5319r"
      },
      "execution_count": 64,
      "outputs": []
    },
    {
      "cell_type": "code",
      "source": [],
      "metadata": {
        "id": "yBOYwAxI35-p"
      },
      "execution_count": 64,
      "outputs": []
    },
    {
      "cell_type": "code",
      "source": [
        "def elbow_method(X, max_range_for_elbow, rseed = RSEED):\n",
        "\n",
        "    inertia_values = []\n",
        "    for k in range(1,max_range_for_elbow):\n",
        "        km = KMeans(n_clusters=k, random_state=RSEED)\n",
        "        km = km.fit(X)\n",
        "        inertia_values.append(km.inertia_)\n",
        "    fig, ax = plt.subplots(figsize=(8, 6))\n",
        "    plt.plot(range(1,max_range_for_elbow), inertia_values)\n",
        "    plt.xlabel('No. of Clusters', fontsize=15)\n",
        "    plt.ylabel('Inertia', fontsize=15)\n",
        "    plt.title('Inertia vs No. Of Clusters', fontsize=15)\n",
        "    plt.grid()\n",
        "    plt.show()"
      ],
      "metadata": {
        "id": "DdFKogPy3Vpc"
      },
      "execution_count": 65,
      "outputs": []
    },
    {
      "cell_type": "code",
      "source": [],
      "metadata": {
        "id": "dXt77DyX3rmm"
      },
      "execution_count": 65,
      "outputs": []
    },
    {
      "cell_type": "code",
      "source": [
        "elbow_method(data_standardized,10)"
      ],
      "metadata": {
        "colab": {
          "base_uri": "https://localhost:8080/",
          "height": 411
        },
        "id": "pwNDem7F3eaW",
        "outputId": "65e69914-c939-4a50-b4b4-805f7e498afb"
      },
      "execution_count": 66,
      "outputs": [
        {
          "output_type": "display_data",
          "data": {
            "text/plain": [
              "<Figure size 576x432 with 1 Axes>"
            ],
            "image/png": "[encoded data removed]"
          },
          "metadata": {
            "needs_background": "light"
          }
        }
      ]
    },
    {
      "cell_type": "code",
      "source": [
        "kmeans = KMeans(n_clusters=3, random_state = RSEED)\n",
        "kmeans_labels = kmeans.fit_predict(data_standardized)\n",
        "plt.scatter(data_1.iloc[:,0] , data_1.iloc[:,1] , c = kmeans_labels, s=50) \n",
        "plt.show"
      ],
      "metadata": {
        "colab": {
          "base_uri": "https://localhost:8080/",
          "height": 295
        },
        "id": "3QkTcfVb5h1K",
        "outputId": "ee190aac-9d2e-420d-ac74-05f3232b12e6"
      },
      "execution_count": 67,
      "outputs": [
        {
          "output_type": "execute_result",
          "data": {
            "text/plain": [
              "<function matplotlib.pyplot.show(*args, **kw)>"
            ]
          },
          "metadata": {},
          "execution_count": 67
        },
        {
          "output_type": "display_data",
          "data": {
            "text/plain": [
              "<Figure size 432x288 with 1 Axes>"
            ],
            "image/png": "[encoded data removed]"
          },
          "metadata": {
            "needs_background": "light"
          }
        }
      ]
    },
    {
      "cell_type": "code",
      "source": [
        "#data_1.iloc[:,0]\n",
        "data_1.iloc[:,1] "
      ],
      "metadata": {
        "colab": {
          "base_uri": "https://localhost:8080/"
        },
        "id": "i29F2ArV9NIw",
        "outputId": "a490c256-98f5-4217-c8c1-6010f2e7efc5"
      },
      "execution_count": 68,
      "outputs": [
        {
          "output_type": "execute_result",
          "data": {
            "text/plain": [
              "16       0\n",
              "179      0\n",
              "225      2\n",
              "394      2\n",
              "413      0\n",
              "        ..\n",
              "59432    0\n",
              "59562    0\n",
              "59843    0\n",
              "59870    0\n",
              "59950    0\n",
              "Name: ab_000, Length: 591, dtype: object"
            ]
          },
          "metadata": {},
          "execution_count": 68
        }
      ]
    },
    {
      "cell_type": "code",
      "source": [
        "pca = PCA(n_components=2).fit(data_1)\n",
        "pca_2d = pca.transform(data_1)"
      ],
      "metadata": {
        "id": "Crhjl8DP7QuR"
      },
      "execution_count": 69,
      "outputs": []
    },
    {
      "cell_type": "code",
      "source": [
        "f, axes = plt.subplots(1, 2, sharey=True, figsize=(15, 6))\n",
        "\n",
        "\n",
        "sns.scatterplot(x=pca_2d[:, 0],y=pca_2d[:, 1], ax=axes[0])\n",
        "axes[0].set_title(\"Original\" )\n",
        "\n",
        "sns.scatterplot(x=pca_2d[:, 0],y=pca_2d[:, 1],hue=kmeans_labels, ax=axes[1])\n",
        "axes[1].set_title(\"Kmeans\")"
      ],
      "metadata": {
        "colab": {
          "base_uri": "https://localhost:8080/",
          "height": 420
        },
        "id": "yV65QIux7-Qh",
        "outputId": "9bf2367a-befa-4f7c-bf8b-973ab27d187a"
      },
      "execution_count": 70,
      "outputs": [
        {
          "output_type": "execute_result",
          "data": {
            "text/plain": [
              "Text(0.5, 1.0, 'Kmeans')"
            ]
          },
          "metadata": {},
          "execution_count": 70
        },
        {
          "output_type": "display_data",
          "data": {
            "text/plain": [
              "<Figure size 1080x432 with 2 Axes>"
            ],
            "image/png": "[encoded data removed]"
          },
          "metadata": {
            "needs_background": "light"
          }
        }
      ]
    },
    {
      "cell_type": "code",
      "source": [
        "from sklearn.neural_network import MLPClassifier\n",
        "\n",
        "mlp = MLPClassifier(random_state=42)\n",
        "mlp.fit(X_train, y_train)\n",
        "\n",
        "print(\"Accuracy on training set for the Neural Network with Random state: {:.2f}\".format(mlp.score(X_train, y_train)))\n",
        "print(\"Accuracy on test set for the Neural Network with Random state: {:.2f}\".format(mlp.score(X_test, y_test)))"
      ],
      "metadata": {
        "colab": {
          "base_uri": "https://localhost:8080/"
        },
        "id": "h4qfeZZNXU8n",
        "outputId": "fc2427df-a52c-40b8-8067-6235e2ccbcbe"
      },
      "execution_count": 71,
      "outputs": [
        {
          "output_type": "stream",
          "name": "stdout",
          "text": [
            "Accuracy on training set for the Neural Network with Random state: 0.97\n",
            "Accuracy on test set for the Neural Network with Random state: 0.97\n"
          ]
        }
      ]
    },
    {
      "cell_type": "code",
      "source": [
        "#confusionmatrix(y_test,mlp.predict(X_test),x='Multi Layer Perceptron')"
      ],
      "metadata": {
        "id": "h1oI1RFxdN4L"
      },
      "execution_count": 72,
      "outputs": []
    },
    {
      "cell_type": "code",
      "source": [
        "scaler = MinMaxScaler()\n",
        "X_train_scaled = scaler.fit_transform(X_train)\n",
        "X_test_scaled = scaler.fit_transform(X_test)\n",
        "\n",
        "mlp = MLPClassifier(random_state=0)\n",
        "mlp.fit(X_train_scaled, y_train)\n",
        "\n",
        "print(\"Accuracy on training set for the Neural Network with scaled records: {:.3f}\".format(mlp.score(X_train_scaled, y_train)))\n",
        "print(\"Accuracy on test set for the Neural Network with scaled records: {:.3f}\".format(mlp.score(X_test_scaled, y_test)))\n",
        "\n",
        "\n",
        "input = X_train_scaled.shape[1]"
      ],
      "metadata": {
        "id": "Uq06pr7aXiGA",
        "colab": {
          "base_uri": "https://localhost:8080/"
        },
        "outputId": "70d128cc-55c3-4492-b571-28402cc54bd6"
      },
      "execution_count": 73,
      "outputs": [
        {
          "output_type": "stream",
          "name": "stdout",
          "text": [
            "Accuracy on training set for the Neural Network with scaled records: 0.989\n",
            "Accuracy on test set for the Neural Network with scaled records: 0.953\n"
          ]
        }
      ]
    },
    {
      "cell_type": "code",
      "source": [
        "mlp = MLPClassifier(max_iter=1000, alpha=1, random_state=0)\n",
        "mlp.fit(X_train, y_train)\n",
        "\n",
        "print(\"Accuracy on training set for the Neural Network with Max iterations: {:.3f}\".format(mlp.score(X_train, y_train)))\n",
        "print(\"Accuracy on test set for the Neural Network with Max iterations: {:.3f}\".format(mlp.score(X_test, y_test)))"
      ],
      "metadata": {
        "colab": {
          "base_uri": "https://localhost:8080/"
        },
        "id": "gSpg9KoXXmql",
        "outputId": "50383860-2a2b-4aa8-bccd-be59e253f090"
      },
      "execution_count": 74,
      "outputs": [
        {
          "output_type": "stream",
          "name": "stdout",
          "text": [
            "Accuracy on training set for the Neural Network with Max iterations: 0.953\n",
            "Accuracy on test set for the Neural Network with Max iterations: 0.953\n"
          ]
        }
      ]
    },
    {
      "cell_type": "code",
      "source": [
        "#!python -m pip install \"git+https://github.com/javadba/mpld3@display_fix\"\n",
        "#%matplotlib inline\n",
        "#import mpld3\n",
        "#mpld3.enable_notebook()\n",
        "# plt.figure(figsize=(20, 5))\n",
        "# plt.imshow(mlp.coefs_[0], interpolation='none', cmap='viridis')\n",
        "# plt.yticks(range(170), data_features)\n",
        "# plt.xlabel(\"Columns in weight matrix\")\n",
        "# plt.ylabel(\"Input feature\")\n",
        "# plt.colorbar()\n"
      ],
      "metadata": {
        "id": "rXODVrbQXvG_"
      },
      "execution_count": 75,
      "outputs": []
    },
    {
      "cell_type": "code",
      "source": [
        "# #!python -m pip install \"git+https://github.com/javadba/mpld3@display_fix\"\n",
        "# import mpld3\n",
        "# mpld3.enable_notebook()\n",
        "# plt.figure(figsize=(10, 15))\n",
        "# plt.imshow(mlp.coefs_[0], interpolation='none', cmap='viridis')\n",
        "# # plt.yticks(range(170), data_features)\n",
        "# # plt.xlabel(\"Columns in weight matrix\")\n",
        "# # plt.ylabel(\"Input feature\")\n",
        "# # plt.colorbar()\n",
        "\n",
        "# plt.plot(range(170),data_features)\n",
        "# plt.show()\n"
      ],
      "metadata": {
        "id": "kN9c37q6j7eX"
      },
      "execution_count": 76,
      "outputs": []
    },
    {
      "cell_type": "code",
      "source": [
        "import tensorflow as tf\n",
        "\n",
        "from tensorflow.keras import layers, models\n",
        "from keras.layers import Dropout\n",
        "from tensorflow import keras"
      ],
      "metadata": {
        "id": "i7fsgFXPRVL3"
      },
      "execution_count": 77,
      "outputs": []
    },
    {
      "cell_type": "code",
      "source": [
        "mlp = models.Sequential([\n",
        "    layers.Dense(1, activation='relu', input_shape = (input, )),\n",
        "    #Dropout(0.3),\n",
        "    # layers.Dense(500, activation='relu', input_shape = (input, )),\n",
        "    # Dropout(0.3),\n",
        "    # layers.Dense(256, activation='relu'),\n",
        "    # Dropout(0.3),\n",
        "    # layers.Dense(256, activation='relu'),\n",
        "    # Dropout(0.3),\n",
        "    # layers.Dense(8, activation='relu'),\n",
        "    # Dropout(0.3),\n",
        "    # layers.Dense(1, activation='sigmoid'),\n",
        "])"
      ],
      "metadata": {
        "id": "FnxA3C30Rm3_"
      },
      "execution_count": 78,
      "outputs": []
    },
    {
      "cell_type": "code",
      "source": [
        "mlp.summary()"
      ],
      "metadata": {
        "colab": {
          "base_uri": "https://localhost:8080/"
        },
        "id": "-7hDkK3IjJzQ",
        "outputId": "f1016241-2f0d-427b-d439-94380b1d90eb"
      },
      "execution_count": 79,
      "outputs": [
        {
          "output_type": "stream",
          "name": "stdout",
          "text": [
            "Model: \"sequential\"\n",
            "_________________________________________________________________\n",
            " Layer (type)                Output Shape              Param #   \n",
            "=================================================================\n",
            " dense (Dense)               (None, 1)                 171       \n",
            "                                                                 \n",
            "=================================================================\n",
            "Total params: 171\n",
            "Trainable params: 171\n",
            "Non-trainable params: 0\n",
            "_________________________________________________________________\n"
          ]
        }
      ]
    },
    {
      "cell_type": "code",
      "source": [
        "mlp.compile(optimizer='adam',\n",
        "           loss='binary_crossentropy',\n",
        "           metrics=['accuracy'])"
      ],
      "metadata": {
        "id": "En7YGNn2jLcf"
      },
      "execution_count": 80,
      "outputs": []
    },
    {
      "cell_type": "code",
      "source": [
        "#y_test"
      ],
      "metadata": {
        "id": "h_tsEVBWlVyB"
      },
      "execution_count": 81,
      "outputs": []
    },
    {
      "cell_type": "code",
      "source": [
        "model_history = mlp.fit(X_train_scaled, y_train, epochs=100,\n",
        "                        batch_size = 50,\n",
        "                       validation_data=(X_test_scaled, y_test))"
      ],
      "metadata": {
        "colab": {
          "base_uri": "https://localhost:8080/"
        },
        "id": "YoS0y3ItjRHA",
        "outputId": "cc0151e4-9e69-48d8-8825-c03ab0647301"
      },
      "execution_count": 82,
      "outputs": [
        {
          "output_type": "stream",
          "name": "stdout",
          "text": [
            "Epoch 1/100\n",
            "9/9 [==============================] - 1s 30ms/step - loss: 1.2872 - accuracy: 0.8646 - val_loss: 0.7840 - val_accuracy: 0.8581\n",
            "Epoch 2/100\n",
            "9/9 [==============================] - 0s 8ms/step - loss: 0.8821 - accuracy: 0.8623 - val_loss: 0.8235 - val_accuracy: 0.8514\n",
            "Epoch 3/100\n",
            "9/9 [==============================] - 0s 7ms/step - loss: 0.7540 - accuracy: 0.8510 - val_loss: 0.7457 - val_accuracy: 0.8716\n",
            "Epoch 4/100\n",
            "9/9 [==============================] - 0s 6ms/step - loss: 0.5772 - accuracy: 0.8510 - val_loss: 0.7495 - val_accuracy: 0.8581\n",
            "Epoch 5/100\n",
            "9/9 [==============================] - 0s 7ms/step - loss: 0.5127 - accuracy: 0.8533 - val_loss: 0.7431 - val_accuracy: 0.8649\n",
            "Epoch 6/100\n",
            "9/9 [==============================] - 0s 6ms/step - loss: 0.4261 - accuracy: 0.8555 - val_loss: 0.7305 - val_accuracy: 0.8716\n",
            "Epoch 7/100\n",
            "9/9 [==============================] - 0s 9ms/step - loss: 0.4136 - accuracy: 0.8555 - val_loss: 0.7152 - val_accuracy: 0.8784\n",
            "Epoch 8/100\n",
            "9/9 [==============================] - 0s 6ms/step - loss: 0.4033 - accuracy: 0.8555 - val_loss: 0.6217 - val_accuracy: 0.8784\n",
            "Epoch 9/100\n",
            "9/9 [==============================] - 0s 5ms/step - loss: 0.3927 - accuracy: 0.8578 - val_loss: 0.5949 - val_accuracy: 0.8986\n",
            "Epoch 10/100\n",
            "9/9 [==============================] - 0s 5ms/step - loss: 0.3832 - accuracy: 0.8600 - val_loss: 0.5762 - val_accuracy: 0.9054\n",
            "Epoch 11/100\n",
            "9/9 [==============================] - 0s 7ms/step - loss: 0.3473 - accuracy: 0.8623 - val_loss: 0.4957 - val_accuracy: 0.9122\n",
            "Epoch 12/100\n",
            "9/9 [==============================] - 0s 6ms/step - loss: 0.3377 - accuracy: 0.8691 - val_loss: 0.3796 - val_accuracy: 0.9054\n",
            "Epoch 13/100\n",
            "9/9 [==============================] - 0s 9ms/step - loss: 0.3293 - accuracy: 0.8668 - val_loss: 0.2880 - val_accuracy: 0.8986\n",
            "Epoch 14/100\n",
            "9/9 [==============================] - 0s 6ms/step - loss: 0.3221 - accuracy: 0.8691 - val_loss: 0.2661 - val_accuracy: 0.9054\n",
            "Epoch 15/100\n",
            "9/9 [==============================] - 0s 7ms/step - loss: 0.3150 - accuracy: 0.8691 - val_loss: 0.2574 - val_accuracy: 0.9122\n",
            "Epoch 16/100\n",
            "9/9 [==============================] - 0s 6ms/step - loss: 0.3091 - accuracy: 0.8758 - val_loss: 0.2625 - val_accuracy: 0.9189\n",
            "Epoch 17/100\n",
            "9/9 [==============================] - 0s 5ms/step - loss: 0.3033 - accuracy: 0.8781 - val_loss: 0.3067 - val_accuracy: 0.9257\n",
            "Epoch 18/100\n",
            "9/9 [==============================] - 0s 6ms/step - loss: 0.2983 - accuracy: 0.8781 - val_loss: 0.2994 - val_accuracy: 0.9257\n",
            "Epoch 19/100\n",
            "9/9 [==============================] - 0s 8ms/step - loss: 0.2933 - accuracy: 0.8781 - val_loss: 0.2923 - val_accuracy: 0.9257\n",
            "Epoch 20/100\n",
            "9/9 [==============================] - 0s 6ms/step - loss: 0.2881 - accuracy: 0.8781 - val_loss: 0.2874 - val_accuracy: 0.9122\n",
            "Epoch 21/100\n",
            "9/9 [==============================] - 0s 6ms/step - loss: 0.2839 - accuracy: 0.8781 - val_loss: 0.2828 - val_accuracy: 0.9122\n",
            "Epoch 22/100\n",
            "9/9 [==============================] - 0s 9ms/step - loss: 0.2797 - accuracy: 0.8804 - val_loss: 0.2801 - val_accuracy: 0.9189\n",
            "Epoch 23/100\n",
            "9/9 [==============================] - 0s 7ms/step - loss: 0.2760 - accuracy: 0.8804 - val_loss: 0.2761 - val_accuracy: 0.9257\n",
            "Epoch 24/100\n",
            "9/9 [==============================] - 0s 8ms/step - loss: 0.2724 - accuracy: 0.8826 - val_loss: 0.2724 - val_accuracy: 0.9257\n",
            "Epoch 25/100\n",
            "9/9 [==============================] - 0s 6ms/step - loss: 0.2685 - accuracy: 0.8826 - val_loss: 0.2741 - val_accuracy: 0.9257\n",
            "Epoch 26/100\n",
            "9/9 [==============================] - 0s 8ms/step - loss: 0.2652 - accuracy: 0.8849 - val_loss: 0.2748 - val_accuracy: 0.9257\n",
            "Epoch 27/100\n",
            "9/9 [==============================] - 0s 6ms/step - loss: 0.2618 - accuracy: 0.8916 - val_loss: 0.2925 - val_accuracy: 0.9324\n",
            "Epoch 28/100\n",
            "9/9 [==============================] - 0s 9ms/step - loss: 0.2587 - accuracy: 0.8962 - val_loss: 0.2965 - val_accuracy: 0.9324\n",
            "Epoch 29/100\n",
            "9/9 [==============================] - 0s 6ms/step - loss: 0.2557 - accuracy: 0.8962 - val_loss: 0.3405 - val_accuracy: 0.9392\n",
            "Epoch 30/100\n",
            "9/9 [==============================] - 0s 6ms/step - loss: 0.2527 - accuracy: 0.8962 - val_loss: 0.4083 - val_accuracy: 0.9392\n",
            "Epoch 31/100\n",
            "9/9 [==============================] - 0s 6ms/step - loss: 0.2500 - accuracy: 0.8962 - val_loss: 0.4061 - val_accuracy: 0.9392\n",
            "Epoch 32/100\n",
            "9/9 [==============================] - 0s 6ms/step - loss: 0.2472 - accuracy: 0.8962 - val_loss: 0.4040 - val_accuracy: 0.9392\n",
            "Epoch 33/100\n",
            "9/9 [==============================] - 0s 6ms/step - loss: 0.2445 - accuracy: 0.8962 - val_loss: 0.4021 - val_accuracy: 0.9392\n",
            "Epoch 34/100\n",
            "9/9 [==============================] - 0s 6ms/step - loss: 0.2420 - accuracy: 0.8962 - val_loss: 0.4004 - val_accuracy: 0.9392\n",
            "Epoch 35/100\n",
            "9/9 [==============================] - 0s 7ms/step - loss: 0.2395 - accuracy: 0.8962 - val_loss: 0.3988 - val_accuracy: 0.9392\n",
            "Epoch 36/100\n",
            "9/9 [==============================] - 0s 7ms/step - loss: 0.2371 - accuracy: 0.9007 - val_loss: 0.3972 - val_accuracy: 0.9392\n",
            "Epoch 37/100\n",
            "9/9 [==============================] - 0s 6ms/step - loss: 0.2347 - accuracy: 0.9007 - val_loss: 0.3961 - val_accuracy: 0.9459\n",
            "Epoch 38/100\n",
            "9/9 [==============================] - 0s 8ms/step - loss: 0.2058 - accuracy: 0.9007 - val_loss: 0.4035 - val_accuracy: 0.9324\n",
            "Epoch 39/100\n",
            "9/9 [==============================] - 0s 6ms/step - loss: 0.1972 - accuracy: 0.9029 - val_loss: 0.4106 - val_accuracy: 0.9324\n",
            "Epoch 40/100\n",
            "9/9 [==============================] - 0s 5ms/step - loss: 0.1945 - accuracy: 0.9052 - val_loss: 0.4123 - val_accuracy: 0.9392\n",
            "Epoch 41/100\n",
            "9/9 [==============================] - 0s 6ms/step - loss: 0.1921 - accuracy: 0.9074 - val_loss: 0.4134 - val_accuracy: 0.9392\n",
            "Epoch 42/100\n",
            "9/9 [==============================] - 0s 6ms/step - loss: 0.1898 - accuracy: 0.9074 - val_loss: 0.4125 - val_accuracy: 0.9392\n",
            "Epoch 43/100\n",
            "9/9 [==============================] - 0s 6ms/step - loss: 0.1879 - accuracy: 0.9052 - val_loss: 0.4097 - val_accuracy: 0.9392\n",
            "Epoch 44/100\n",
            "9/9 [==============================] - 0s 6ms/step - loss: 0.1859 - accuracy: 0.9074 - val_loss: 0.4096 - val_accuracy: 0.9392\n",
            "Epoch 45/100\n",
            "9/9 [==============================] - 0s 6ms/step - loss: 0.1841 - accuracy: 0.9097 - val_loss: 0.4107 - val_accuracy: 0.9392\n",
            "Epoch 46/100\n",
            "9/9 [==============================] - 0s 6ms/step - loss: 0.1823 - accuracy: 0.9097 - val_loss: 0.4121 - val_accuracy: 0.9392\n",
            "Epoch 47/100\n",
            "9/9 [==============================] - 0s 5ms/step - loss: 0.1804 - accuracy: 0.9142 - val_loss: 0.4110 - val_accuracy: 0.9392\n",
            "Epoch 48/100\n",
            "9/9 [==============================] - 0s 6ms/step - loss: 0.1788 - accuracy: 0.9097 - val_loss: 0.4121 - val_accuracy: 0.9392\n",
            "Epoch 49/100\n",
            "9/9 [==============================] - 0s 6ms/step - loss: 0.1772 - accuracy: 0.9165 - val_loss: 0.4111 - val_accuracy: 0.9392\n",
            "Epoch 50/100\n",
            "9/9 [==============================] - 0s 6ms/step - loss: 0.1755 - accuracy: 0.9142 - val_loss: 0.4116 - val_accuracy: 0.9392\n",
            "Epoch 51/100\n",
            "9/9 [==============================] - 0s 6ms/step - loss: 0.1740 - accuracy: 0.9187 - val_loss: 0.4097 - val_accuracy: 0.9392\n",
            "Epoch 52/100\n",
            "9/9 [==============================] - 0s 8ms/step - loss: 0.1723 - accuracy: 0.9187 - val_loss: 0.4095 - val_accuracy: 0.9392\n",
            "Epoch 53/100\n",
            "9/9 [==============================] - 0s 7ms/step - loss: 0.1712 - accuracy: 0.9187 - val_loss: 0.4070 - val_accuracy: 0.9392\n",
            "Epoch 54/100\n",
            "9/9 [==============================] - 0s 10ms/step - loss: 0.1694 - accuracy: 0.9187 - val_loss: 0.4072 - val_accuracy: 0.9392\n",
            "Epoch 55/100\n",
            "9/9 [==============================] - 0s 9ms/step - loss: 0.1680 - accuracy: 0.9187 - val_loss: 0.4075 - val_accuracy: 0.9392\n",
            "Epoch 56/100\n",
            "9/9 [==============================] - 0s 12ms/step - loss: 0.1667 - accuracy: 0.9187 - val_loss: 0.4076 - val_accuracy: 0.9392\n",
            "Epoch 57/100\n",
            "9/9 [==============================] - 0s 10ms/step - loss: 0.1654 - accuracy: 0.9187 - val_loss: 0.4074 - val_accuracy: 0.9392\n",
            "Epoch 58/100\n",
            "9/9 [==============================] - 0s 8ms/step - loss: 0.1643 - accuracy: 0.9187 - val_loss: 0.4042 - val_accuracy: 0.9392\n",
            "Epoch 59/100\n",
            "9/9 [==============================] - 0s 11ms/step - loss: 0.1627 - accuracy: 0.9187 - val_loss: 0.4040 - val_accuracy: 0.9392\n",
            "Epoch 60/100\n",
            "9/9 [==============================] - 0s 8ms/step - loss: 0.1614 - accuracy: 0.9187 - val_loss: 0.4045 - val_accuracy: 0.9392\n",
            "Epoch 61/100\n",
            "9/9 [==============================] - 0s 9ms/step - loss: 0.1601 - accuracy: 0.9210 - val_loss: 0.4043 - val_accuracy: 0.9392\n",
            "Epoch 62/100\n",
            "9/9 [==============================] - 0s 8ms/step - loss: 0.1589 - accuracy: 0.9210 - val_loss: 0.4032 - val_accuracy: 0.9392\n",
            "Epoch 63/100\n",
            "9/9 [==============================] - 0s 8ms/step - loss: 0.1578 - accuracy: 0.9210 - val_loss: 0.4000 - val_accuracy: 0.9392\n",
            "Epoch 64/100\n",
            "9/9 [==============================] - 0s 11ms/step - loss: 0.1566 - accuracy: 0.9233 - val_loss: 0.3986 - val_accuracy: 0.9459\n",
            "Epoch 65/100\n",
            "9/9 [==============================] - 0s 10ms/step - loss: 0.1554 - accuracy: 0.9255 - val_loss: 0.3982 - val_accuracy: 0.9459\n",
            "Epoch 66/100\n",
            "9/9 [==============================] - 0s 10ms/step - loss: 0.1542 - accuracy: 0.9255 - val_loss: 0.3981 - val_accuracy: 0.9459\n",
            "Epoch 67/100\n",
            "9/9 [==============================] - 0s 10ms/step - loss: 0.1532 - accuracy: 0.9255 - val_loss: 0.3974 - val_accuracy: 0.9459\n",
            "Epoch 68/100\n",
            "9/9 [==============================] - 0s 8ms/step - loss: 0.1520 - accuracy: 0.9255 - val_loss: 0.3965 - val_accuracy: 0.9459\n",
            "Epoch 69/100\n",
            "9/9 [==============================] - 0s 9ms/step - loss: 0.1512 - accuracy: 0.9255 - val_loss: 0.3950 - val_accuracy: 0.9459\n",
            "Epoch 70/100\n",
            "9/9 [==============================] - 0s 11ms/step - loss: 0.1498 - accuracy: 0.9255 - val_loss: 0.3977 - val_accuracy: 0.9459\n",
            "Epoch 71/100\n",
            "9/9 [==============================] - 0s 8ms/step - loss: 0.1487 - accuracy: 0.9255 - val_loss: 0.3972 - val_accuracy: 0.9459\n",
            "Epoch 72/100\n",
            "9/9 [==============================] - 0s 10ms/step - loss: 0.1475 - accuracy: 0.9255 - val_loss: 0.3967 - val_accuracy: 0.9459\n",
            "Epoch 73/100\n",
            "9/9 [==============================] - 0s 8ms/step - loss: 0.1465 - accuracy: 0.9255 - val_loss: 0.3954 - val_accuracy: 0.9459\n",
            "Epoch 74/100\n",
            "9/9 [==============================] - 0s 8ms/step - loss: 0.1454 - accuracy: 0.9255 - val_loss: 0.3948 - val_accuracy: 0.9459\n",
            "Epoch 75/100\n",
            "9/9 [==============================] - 0s 10ms/step - loss: 0.1444 - accuracy: 0.9255 - val_loss: 0.3947 - val_accuracy: 0.9459\n",
            "Epoch 76/100\n",
            "9/9 [==============================] - 0s 8ms/step - loss: 0.1434 - accuracy: 0.9300 - val_loss: 0.3931 - val_accuracy: 0.9459\n",
            "Epoch 77/100\n",
            "9/9 [==============================] - 0s 6ms/step - loss: 0.1424 - accuracy: 0.9323 - val_loss: 0.3939 - val_accuracy: 0.9459\n",
            "Epoch 78/100\n",
            "9/9 [==============================] - 0s 9ms/step - loss: 0.1415 - accuracy: 0.9323 - val_loss: 0.3921 - val_accuracy: 0.9459\n",
            "Epoch 79/100\n",
            "9/9 [==============================] - 0s 6ms/step - loss: 0.1405 - accuracy: 0.9345 - val_loss: 0.3910 - val_accuracy: 0.9459\n",
            "Epoch 80/100\n",
            "9/9 [==============================] - 0s 7ms/step - loss: 0.1395 - accuracy: 0.9391 - val_loss: 0.3295 - val_accuracy: 0.9459\n",
            "Epoch 81/100\n",
            "9/9 [==============================] - 0s 8ms/step - loss: 0.1386 - accuracy: 0.9391 - val_loss: 0.3256 - val_accuracy: 0.9459\n",
            "Epoch 82/100\n",
            "9/9 [==============================] - 0s 8ms/step - loss: 0.1378 - accuracy: 0.9391 - val_loss: 0.3270 - val_accuracy: 0.9459\n",
            "Epoch 83/100\n",
            "9/9 [==============================] - 0s 6ms/step - loss: 0.1369 - accuracy: 0.9391 - val_loss: 0.3246 - val_accuracy: 0.9459\n",
            "Epoch 84/100\n",
            "9/9 [==============================] - 0s 5ms/step - loss: 0.1361 - accuracy: 0.9391 - val_loss: 0.3182 - val_accuracy: 0.9459\n",
            "Epoch 85/100\n",
            "9/9 [==============================] - 0s 8ms/step - loss: 0.1352 - accuracy: 0.9391 - val_loss: 0.3188 - val_accuracy: 0.9459\n",
            "Epoch 86/100\n",
            "9/9 [==============================] - 0s 6ms/step - loss: 0.1345 - accuracy: 0.9391 - val_loss: 0.3227 - val_accuracy: 0.9459\n",
            "Epoch 87/100\n",
            "9/9 [==============================] - 0s 7ms/step - loss: 0.1336 - accuracy: 0.9391 - val_loss: 0.3214 - val_accuracy: 0.9459\n",
            "Epoch 88/100\n",
            "9/9 [==============================] - 0s 8ms/step - loss: 0.1327 - accuracy: 0.9391 - val_loss: 0.3160 - val_accuracy: 0.9459\n",
            "Epoch 89/100\n",
            "9/9 [==============================] - 0s 7ms/step - loss: 0.1318 - accuracy: 0.9368 - val_loss: 0.3117 - val_accuracy: 0.9459\n",
            "Epoch 90/100\n",
            "9/9 [==============================] - 0s 8ms/step - loss: 0.1311 - accuracy: 0.9368 - val_loss: 0.3089 - val_accuracy: 0.9527\n",
            "Epoch 91/100\n",
            "9/9 [==============================] - 0s 8ms/step - loss: 0.1301 - accuracy: 0.9368 - val_loss: 0.3087 - val_accuracy: 0.9527\n",
            "Epoch 92/100\n",
            "9/9 [==============================] - 0s 7ms/step - loss: 0.1293 - accuracy: 0.9368 - val_loss: 0.3094 - val_accuracy: 0.9527\n",
            "Epoch 93/100\n",
            "9/9 [==============================] - 0s 6ms/step - loss: 0.1285 - accuracy: 0.9368 - val_loss: 0.3084 - val_accuracy: 0.9527\n",
            "Epoch 94/100\n",
            "9/9 [==============================] - 0s 6ms/step - loss: 0.1278 - accuracy: 0.9368 - val_loss: 0.3070 - val_accuracy: 0.9527\n",
            "Epoch 95/100\n",
            "9/9 [==============================] - 0s 8ms/step - loss: 0.1270 - accuracy: 0.9368 - val_loss: 0.3075 - val_accuracy: 0.9527\n",
            "Epoch 96/100\n",
            "9/9 [==============================] - 0s 6ms/step - loss: 0.1262 - accuracy: 0.9368 - val_loss: 0.3059 - val_accuracy: 0.9527\n",
            "Epoch 97/100\n",
            "9/9 [==============================] - 0s 7ms/step - loss: 0.1254 - accuracy: 0.9391 - val_loss: 0.3036 - val_accuracy: 0.9527\n",
            "Epoch 98/100\n",
            "9/9 [==============================] - 0s 6ms/step - loss: 0.1247 - accuracy: 0.9391 - val_loss: 0.3043 - val_accuracy: 0.9527\n",
            "Epoch 99/100\n",
            "9/9 [==============================] - 0s 6ms/step - loss: 0.1240 - accuracy: 0.9391 - val_loss: 0.3056 - val_accuracy: 0.9527\n",
            "Epoch 100/100\n",
            "9/9 [==============================] - 0s 8ms/step - loss: 0.1232 - accuracy: 0.9413 - val_loss: 0.3041 - val_accuracy: 0.9527\n"
          ]
        }
      ]
    },
    {
      "cell_type": "code",
      "source": [],
      "metadata": {
        "id": "FUyEmbtwk7bz"
      },
      "execution_count": 82,
      "outputs": []
    },
    {
      "cell_type": "code",
      "source": [
        "#from imblearn.over_sampling import SMOTE"
      ],
      "metadata": {
        "id": "z4eGSGvFeAnk"
      },
      "execution_count": 83,
      "outputs": []
    },
    {
      "cell_type": "code",
      "source": [
        "# from imblearn.over_sampling import SMOTE\n",
        "# # sm = SMOTE()\n",
        "# # x_train_new, y_train_new = sm.fit_resample(X_train, y_train)\n",
        "# # x_train_scaled_new, y_train_scaled_new = sm.fit_resample(X_train_scaled, y_train)\n",
        "\n",
        "# sm = SMOTE()\n",
        "# x_train_new, y_train_new = sm.fit_resample(X_train, y_train)\n",
        "# x_train_scaled_new, y_train_scaled_new = sm.fit_resample(X_train_scaled, y_train)"
      ],
      "metadata": {
        "id": "_drKwvk2ZmmW"
      },
      "execution_count": 84,
      "outputs": []
    },
    {
      "cell_type": "code",
      "source": [],
      "metadata": {
        "id": "8U1EfaVuh4c1"
      },
      "execution_count": 84,
      "outputs": []
    },
    {
      "cell_type": "code",
      "source": [
        "#y_train_new.value_counts()\n",
        "# sns.countplot(y_train_new,label=\"Count\")"
      ],
      "metadata": {
        "id": "2FgpCjaoh7eb"
      },
      "execution_count": 85,
      "outputs": []
    },
    {
      "cell_type": "code",
      "source": [],
      "metadata": {
        "id": "yNHswT-Jh_-E"
      },
      "execution_count": 85,
      "outputs": []
    },
    {
      "cell_type": "code",
      "source": [
        "# test_data = pd.read_csv(\"/content/aps_failure_test_set.csv\", on_bad_lines='skip')\n",
        "# test_data.head()"
      ],
      "metadata": {
        "id": "FN3rX152nSeQ"
      },
      "execution_count": 86,
      "outputs": []
    },
    {
      "cell_type": "code",
      "source": [
        "#test_data.tail()"
      ],
      "metadata": {
        "id": "Pf5tAp9PnzEt"
      },
      "execution_count": 87,
      "outputs": []
    },
    {
      "cell_type": "code",
      "source": [
        "#test_data.describe()"
      ],
      "metadata": {
        "id": "ym9wDqICn5y_"
      },
      "execution_count": 88,
      "outputs": []
    },
    {
      "cell_type": "code",
      "source": [
        "#test_data.isna().sum()"
      ],
      "metadata": {
        "id": "dmz3JM4Wn_YG"
      },
      "execution_count": 89,
      "outputs": []
    },
    {
      "cell_type": "code",
      "source": [
        "#test_data['class'].value_counts()"
      ],
      "metadata": {
        "id": "wah9zPCAoDPc"
      },
      "execution_count": 90,
      "outputs": []
    },
    {
      "cell_type": "code",
      "source": [
        "#print(test_data.groupby('class').size())"
      ],
      "metadata": {
        "id": "qn7nvuEj7aCT"
      },
      "execution_count": 91,
      "outputs": []
    },
    {
      "cell_type": "code",
      "source": [
        "# import seaborn as sns\n",
        "\n",
        "# sns.countplot(test_data['class'],label=\"Count\")"
      ],
      "metadata": {
        "id": "FJPRNztN7fJd"
      },
      "execution_count": 92,
      "outputs": []
    },
    {
      "cell_type": "code",
      "source": [
        "# X_test = test_data.drop(columns=\"class\", axis = 1)\n",
        "# Y_test = test_data['class']"
      ],
      "metadata": {
        "id": "x-cOGUBDoR3G"
      },
      "execution_count": 93,
      "outputs": []
    },
    {
      "cell_type": "code",
      "source": [
        "#X_test"
      ],
      "metadata": {
        "id": "WedoNXf3oWi9"
      },
      "execution_count": 94,
      "outputs": []
    },
    {
      "cell_type": "code",
      "source": [
        "#Y_test"
      ],
      "metadata": {
        "id": "MIA_zkrUoeN-"
      },
      "execution_count": 95,
      "outputs": []
    },
    {
      "cell_type": "code",
      "source": [
        "# from sklearn.preprocessing import LabelEncoder\n",
        "# encoder = LabelEncoder()"
      ],
      "metadata": {
        "id": "j2Z2rkPZonPp"
      },
      "execution_count": 96,
      "outputs": []
    },
    {
      "cell_type": "code",
      "source": [
        "#(test_data == \"?\").sum()"
      ],
      "metadata": {
        "id": "WDh2Etghpy-N"
      },
      "execution_count": 97,
      "outputs": []
    },
    {
      "cell_type": "code",
      "source": [
        "# def drop_missing_values(df, miss):\n",
        "\n",
        "       \n",
        "    \n",
        "#     df = pd.DataFrame(df, columns = df.columns) \n",
        "#     df5 = df.replace(miss, np.NAN)\n",
        "#     data_dropped =  df5.dropna(axis = 0)\n",
        "\n",
        "    \n",
        "\n",
        "#     return data_dropped"
      ],
      "metadata": {
        "id": "spBCQSkyTVlr"
      },
      "execution_count": 98,
      "outputs": []
    },
    {
      "cell_type": "code",
      "source": [
        "#test_data_dropped = drop_missing_values(test_data, \"na\")"
      ],
      "metadata": {
        "id": "0i4i_3L5TkvV"
      },
      "execution_count": 99,
      "outputs": []
    },
    {
      "cell_type": "code",
      "source": [
        "#test_data_dropped"
      ],
      "metadata": {
        "id": "8BvB_NpDTruD"
      },
      "execution_count": 100,
      "outputs": []
    },
    {
      "cell_type": "code",
      "source": [
        "#test_data_dropped['class'].value_counts()\n"
      ],
      "metadata": {
        "id": "cM_WrEkMT2ib"
      },
      "execution_count": 101,
      "outputs": []
    },
    {
      "cell_type": "code",
      "source": [
        "#confusion_matrix(y_test,logreg.predict(X_test),x='Logistic regression')"
      ],
      "metadata": {
        "id": "UTBtGDa-T6ZB"
      },
      "execution_count": 102,
      "outputs": []
    }
  ],
  "metadata": {
    "colab": {
      "provenance": [],
      "collapsed_sections": []
    },
    "kernelspec": {
      "display_name": "Python 3",
      "name": "python3"
    },
    "language_info": {
      "name": "python"
    }
  },
  "nbformat": 4,
  "nbformat_minor": 0
}