{
 "cells": [
  {
   "cell_type": "code",
   "execution_count": 1,
   "metadata": {},
   "outputs": [],
   "source": [
    "import pandas as pd\n",
    "import datetime\n",
    "import matplotlib.pyplot as plt\n",
    "import wntr\n",
    "import numpy as np\n",
    "import csv\n",
    "import pickle\n",
    "import seaborn as sns\n",
    "\n",
    "from matplotlib.pyplot import figure\n",
    "from sklearn.model_selection import train_test_split \n",
    "from sklearn.tree import DecisionTreeClassifier \n",
    "from sklearn.metrics import accuracy_score\n",
    "from sklearn.svm import SVC\n",
    "from sklearn.metrics import precision_score, recall_score, f1_score\n",
    "from sklearn.ensemble import GradientBoostingClassifier\n",
    "from xgboost import XGBClassifier\n",
    "from sklearn.ensemble import RandomForestClassifier\n",
    "from sklearn.model_selection import KFold\n",
    "from sklearn.metrics import classification_report, confusion_matrix\n",
    "from sklearn.model_selection import GridSearchCV\n",
    "import warnings\n",
    "warnings.filterwarnings('ignore')"
   ]
  },
  {
   "cell_type": "code",
   "execution_count": 2,
   "metadata": {},
   "outputs": [],
   "source": [
    "# Get the L_TOWN network:\n",
    "\n",
    "inp_file = 'C:/Users/GODWIN-PC/Documents/DAMI Lab sessions/BattLeDIM/Dataset Generator/L-TOWN.inp'\n",
    "\n",
    "wn = wntr.network.WaterNetworkModel(inp_file)"
   ]
  },
  {
   "cell_type": "code",
   "execution_count": 3,
   "metadata": {},
   "outputs": [
    {
     "name": "stdout",
     "output_type": "stream",
     "text": [
      "NODES: ['n218', 'n219', 'n220', 'n221', 'n222']\n",
      "PIPES: ['p683', 'p681', 'p682', 'p690', 'p208', 'p687', 'p686', 'p57']\n"
     ]
    }
   ],
   "source": [
    "\n",
    "\n",
    "# Bigger network chosen for  thesis picture\n",
    "# nodes = ['n186','n180','n178','n174', 'n173','n189','n195', 'n197', 'n194','n193']\n",
    "# pipes = ['p138','p612','p140','p625','p626','p613', 'p85','p94','p628','p143','p630','p629','p616','p141',\n",
    "#          'p605','p93','p134','p132','p601','p131','p203','p595','p136','p139']\n",
    "\n",
    "# Second large dataset:\n",
    "#nodes = ['n170', 'n167', 'n163', 'n161','n168','n171', 'n173','n174']\n",
    "#pipes = ['p203','p131','p134','p132','p88','p128', 'p578', 'p601', 'p596','p580','p129','p201','p126','p572','p559','p546']\n",
    "\n",
    "#network on the top\n",
    "nodes =  ['n218', 'n219', 'n220', 'n221', 'n222']\n",
    "pipes = ['p683', 'p681', 'p682', 'p690', 'p208', 'p687', 'p686', 'p57']\n",
    "\n",
    "# Daniel Network\n",
    "#nodes = ['n321', 'n312', 'n317', 'n313']\n",
    "#pipes = ['p56', 'p187', 'p811', 'p871', 'p872', 'p885', 'p190', 'p870', 'p869','p219']\n",
    "\n",
    "pipe_diameter = {pipe: wn.get_link(pipe).diameter for pipe in pipes}\n",
    "\n",
    "# One hour time step for tests.\n",
    "#DEFAULT_TIMESTEP =  1 * 60 * 60\n",
    "\n",
    "# For every 5 minutes\n",
    "DEFAULT_TIMESTEP =  5 * 60\n",
    "\n",
    "\n",
    "print(\"NODES:\",nodes)\n",
    "print(\"PIPES:\",pipes)"
   ]
  },
  {
   "cell_type": "code",
   "execution_count": 4,
   "metadata": {},
   "outputs": [],
   "source": [
    "def createNetwork(duration, timestep):\n",
    "    wn = wntr.network.WaterNetworkModel(inp_file) \n",
    "    wn.options.hydraulic.demand_model = 'PDD' \n",
    "    wn.options.time.duration = duration \n",
    "    wn.options.time.hydraulic_timestep = timestep \n",
    "    wn.options.time.report_timestep = timestep \n",
    "    return wn\n",
    "\n",
    "\n",
    "def getLeakArea(pipe, percent): \n",
    "    d = pipe_diameter[pipe]\n",
    "    d *= percent\n",
    "    area = 3.14159 * (d / 2) ** 2 \n",
    "    return area\n",
    "\n",
    "\n",
    "def addLeak(wn, pipe, leak_area, leak_start, leak_duration): \n",
    "    node_leak = f'{pipe}_leaknode'\n",
    "    wn = wntr.morph.split_pipe(wn, pipe, f'{pipe}_X', node_leak) \n",
    "    node_leak_ref = wn.get_node(node_leak) \n",
    "    node_leak_ref.add_leak(wn, discharge_coeff=0.75, area=leak_area,\n",
    "        start_time=leak_start, end_time=(leak_start+leak_duration))\n",
    "    return wn, node_leak\n",
    "\n",
    "\n",
    "def leakResult(wn, pipe, leak_area, leak_start, leak_duration):\n",
    "    wn, leak_node = addLeak(wn, pipe, leak_area, leak_start, leak_duration) \n",
    "    sim = wntr.sim.WNTRSimulator(wn)\n",
    "    res = sim.run_sim()\n",
    "    \n",
    "    # All the pressure values for the sensors\n",
    "    data = res.node['pressure'].loc[:,nodes]\n",
    "    \n",
    "    # Get leakage in l/m\n",
    "    leak_data = res.node['leak_demand'].loc[:,leak_node].values \n",
    "    leak_data = [e * 3600 for e in leak_data]\n",
    "    \n",
    "    leak_or_no_leak = ['leak' if e > 0 else 'no_leak' for e in leak_data] \n",
    "    \n",
    "    pipe_as_str = 'pipe_id: ' + str(pipe)\n",
    "    pipe_or_no_leak = [pipe_as_str if e > 0 else 'no_leak' for e in leak_data] \n",
    "    \n",
    "    data['leak_occurance'] = leak_or_no_leak\n",
    "    data['pipe_leak_id'] = pipe_or_no_leak \n",
    "    \n",
    "    # Maybe use for some regression method\n",
    "    data['leak_amount'] = leak_data \n",
    "    return data"
   ]
  },
  {
   "cell_type": "code",
   "execution_count": 5,
   "metadata": {},
   "outputs": [],
   "source": [
    "# Generate Training data:\n",
    "def generateTrainData():\n",
    "    # If we want to use TOWN_Real.inp we dont want\n",
    "    # to load the network every time for each reset\n",
    "    # so we use pickle\n",
    "    wn = createNetwork(2 * 24 * 60 * 60, DEFAULT_TIMESTEP) \n",
    "    with open('temp_network.pickle', 'wb') as f:\n",
    "        pickle.dump(wn, f)\n",
    "    \n",
    "    leak_start = 12 * 60 * 60 \n",
    "    leak_duration = 24 * 60 * 60 \n",
    "    all_results = []\n",
    "    \n",
    "    for pipe in pipes:\n",
    "        print(pipe)\n",
    "        \n",
    "        # Use only one leak size for now.. \n",
    "        for leak_fraction in [0.15]:\n",
    "            with open('temp_network.pickle', 'rb') as f:\n",
    "                wn = pickle.load(f)\n",
    "            leak_area = getLeakArea(pipe, leak_fraction)\n",
    "            all_results.append( leakResult(wn, pipe, leak_area, leak_start,leak_duration) )\n",
    "    \n",
    "    # Make on big Dataframe\n",
    "    big_frame = pd.concat(all_results, axis=0) \n",
    "    # Store the data in a csv-file\n",
    "    with open('train_data_small.csv', 'w') as f:\n",
    "            w = csv.writer(f)\n",
    "            w.writerow(big_frame.columns)\n",
    "            w.writerows(big_frame.values)\n"
   ]
  },
  {
   "cell_type": "code",
   "execution_count": 6,
   "metadata": {},
   "outputs": [
    {
     "name": "stdout",
     "output_type": "stream",
     "text": [
      "p683\n",
      "p681\n",
      "p682\n",
      "p690\n",
      "p208\n",
      "p687\n",
      "p686\n",
      "p57\n"
     ]
    }
   ],
   "source": [
    "generateTrainData()"
   ]
  },
  {
   "cell_type": "code",
   "execution_count": 7,
   "metadata": {},
   "outputs": [
    {
     "data": {
      "text/html": [
       "<div>\n",
       "<style scoped>\n",
       "    .dataframe tbody tr th:only-of-type {\n",
       "        vertical-align: middle;\n",
       "    }\n",
       "\n",
       "    .dataframe tbody tr th {\n",
       "        vertical-align: top;\n",
       "    }\n",
       "\n",
       "    .dataframe thead th {\n",
       "        text-align: right;\n",
       "    }\n",
       "</style>\n",
       "<table border=\"1\" class=\"dataframe\">\n",
       "  <thead>\n",
       "    <tr style=\"text-align: right;\">\n",
       "      <th></th>\n",
       "      <th>n218</th>\n",
       "      <th>n219</th>\n",
       "      <th>n220</th>\n",
       "      <th>n221</th>\n",
       "      <th>n222</th>\n",
       "      <th>leak_occurance</th>\n",
       "      <th>pipe_leak_id</th>\n",
       "      <th>leak_amount</th>\n",
       "    </tr>\n",
       "  </thead>\n",
       "  <tbody>\n",
       "    <tr>\n",
       "      <th>0</th>\n",
       "      <td>44.524665</td>\n",
       "      <td>45.672155</td>\n",
       "      <td>43.410023</td>\n",
       "      <td>45.937154</td>\n",
       "      <td>46.100140</td>\n",
       "      <td>no_leak</td>\n",
       "      <td>no_leak</td>\n",
       "      <td>0.0</td>\n",
       "    </tr>\n",
       "    <tr>\n",
       "      <th>1</th>\n",
       "      <td>44.549740</td>\n",
       "      <td>45.697296</td>\n",
       "      <td>43.434387</td>\n",
       "      <td>45.961637</td>\n",
       "      <td>46.124665</td>\n",
       "      <td>no_leak</td>\n",
       "      <td>no_leak</td>\n",
       "      <td>0.0</td>\n",
       "    </tr>\n",
       "    <tr>\n",
       "      <th>2</th>\n",
       "      <td>44.574699</td>\n",
       "      <td>45.722321</td>\n",
       "      <td>43.458635</td>\n",
       "      <td>45.986003</td>\n",
       "      <td>46.149073</td>\n",
       "      <td>no_leak</td>\n",
       "      <td>no_leak</td>\n",
       "      <td>0.0</td>\n",
       "    </tr>\n",
       "    <tr>\n",
       "      <th>3</th>\n",
       "      <td>44.599029</td>\n",
       "      <td>45.746715</td>\n",
       "      <td>43.482270</td>\n",
       "      <td>46.009753</td>\n",
       "      <td>46.172865</td>\n",
       "      <td>no_leak</td>\n",
       "      <td>no_leak</td>\n",
       "      <td>0.0</td>\n",
       "    </tr>\n",
       "    <tr>\n",
       "      <th>4</th>\n",
       "      <td>44.622479</td>\n",
       "      <td>45.770226</td>\n",
       "      <td>43.505047</td>\n",
       "      <td>46.032640</td>\n",
       "      <td>46.195793</td>\n",
       "      <td>no_leak</td>\n",
       "      <td>no_leak</td>\n",
       "      <td>0.0</td>\n",
       "    </tr>\n",
       "  </tbody>\n",
       "</table>\n",
       "</div>"
      ],
      "text/plain": [
       "        n218       n219       n220       n221       n222 leak_occurance  \\\n",
       "0  44.524665  45.672155  43.410023  45.937154  46.100140        no_leak   \n",
       "1  44.549740  45.697296  43.434387  45.961637  46.124665        no_leak   \n",
       "2  44.574699  45.722321  43.458635  45.986003  46.149073        no_leak   \n",
       "3  44.599029  45.746715  43.482270  46.009753  46.172865        no_leak   \n",
       "4  44.622479  45.770226  43.505047  46.032640  46.195793        no_leak   \n",
       "\n",
       "  pipe_leak_id  leak_amount  \n",
       "0      no_leak          0.0  \n",
       "1      no_leak          0.0  \n",
       "2      no_leak          0.0  \n",
       "3      no_leak          0.0  \n",
       "4      no_leak          0.0  "
      ]
     },
     "execution_count": 7,
     "metadata": {},
     "output_type": "execute_result"
    }
   ],
   "source": [
    "# Use all sensors\n",
    "data = pd.read_csv('train_data_small.csv')\n",
    "\n",
    "#data.drop_duplicates(inplace=True)\n",
    "data.head()"
   ]
  },
  {
   "cell_type": "code",
   "execution_count": 8,
   "metadata": {},
   "outputs": [
    {
     "data": {
      "text/html": [
       "<div>\n",
       "<style scoped>\n",
       "    .dataframe tbody tr th:only-of-type {\n",
       "        vertical-align: middle;\n",
       "    }\n",
       "\n",
       "    .dataframe tbody tr th {\n",
       "        vertical-align: top;\n",
       "    }\n",
       "\n",
       "    .dataframe thead th {\n",
       "        text-align: right;\n",
       "    }\n",
       "</style>\n",
       "<table border=\"1\" class=\"dataframe\">\n",
       "  <thead>\n",
       "    <tr style=\"text-align: right;\">\n",
       "      <th></th>\n",
       "      <th>n218</th>\n",
       "      <th>n219</th>\n",
       "      <th>n220</th>\n",
       "      <th>n221</th>\n",
       "      <th>n222</th>\n",
       "      <th>leak_amount</th>\n",
       "    </tr>\n",
       "  </thead>\n",
       "  <tbody>\n",
       "    <tr>\n",
       "      <th>count</th>\n",
       "      <td>4616.000000</td>\n",
       "      <td>4616.000000</td>\n",
       "      <td>4616.000000</td>\n",
       "      <td>4616.000000</td>\n",
       "      <td>4616.000000</td>\n",
       "      <td>4616.000000</td>\n",
       "    </tr>\n",
       "    <tr>\n",
       "      <th>mean</th>\n",
       "      <td>44.232634</td>\n",
       "      <td>45.380858</td>\n",
       "      <td>43.114275</td>\n",
       "      <td>45.636350</td>\n",
       "      <td>45.799200</td>\n",
       "      <td>19.598869</td>\n",
       "    </tr>\n",
       "    <tr>\n",
       "      <th>std</th>\n",
       "      <td>0.596952</td>\n",
       "      <td>0.593824</td>\n",
       "      <td>0.579310</td>\n",
       "      <td>0.578765</td>\n",
       "      <td>0.579333</td>\n",
       "      <td>23.172005</td>\n",
       "    </tr>\n",
       "    <tr>\n",
       "      <th>min</th>\n",
       "      <td>42.764098</td>\n",
       "      <td>43.933768</td>\n",
       "      <td>41.721993</td>\n",
       "      <td>44.254507</td>\n",
       "      <td>44.416884</td>\n",
       "      <td>0.000000</td>\n",
       "    </tr>\n",
       "    <tr>\n",
       "      <th>25%</th>\n",
       "      <td>43.884276</td>\n",
       "      <td>45.029414</td>\n",
       "      <td>42.764407</td>\n",
       "      <td>45.279067</td>\n",
       "      <td>45.441139</td>\n",
       "      <td>0.000000</td>\n",
       "    </tr>\n",
       "    <tr>\n",
       "      <th>50%</th>\n",
       "      <td>44.345015</td>\n",
       "      <td>45.499846</td>\n",
       "      <td>43.233054</td>\n",
       "      <td>45.749309</td>\n",
       "      <td>45.912473</td>\n",
       "      <td>0.000000</td>\n",
       "    </tr>\n",
       "    <tr>\n",
       "      <th>75%</th>\n",
       "      <td>44.601180</td>\n",
       "      <td>45.746715</td>\n",
       "      <td>43.470888</td>\n",
       "      <td>45.988847</td>\n",
       "      <td>46.151863</td>\n",
       "      <td>32.141739</td>\n",
       "    </tr>\n",
       "    <tr>\n",
       "      <th>max</th>\n",
       "      <td>45.335894</td>\n",
       "      <td>46.484161</td>\n",
       "      <td>44.185442</td>\n",
       "      <td>46.713168</td>\n",
       "      <td>46.877622</td>\n",
       "      <td>56.848770</td>\n",
       "    </tr>\n",
       "  </tbody>\n",
       "</table>\n",
       "</div>"
      ],
      "text/plain": [
       "              n218         n219         n220         n221         n222  \\\n",
       "count  4616.000000  4616.000000  4616.000000  4616.000000  4616.000000   \n",
       "mean     44.232634    45.380858    43.114275    45.636350    45.799200   \n",
       "std       0.596952     0.593824     0.579310     0.578765     0.579333   \n",
       "min      42.764098    43.933768    41.721993    44.254507    44.416884   \n",
       "25%      43.884276    45.029414    42.764407    45.279067    45.441139   \n",
       "50%      44.345015    45.499846    43.233054    45.749309    45.912473   \n",
       "75%      44.601180    45.746715    43.470888    45.988847    46.151863   \n",
       "max      45.335894    46.484161    44.185442    46.713168    46.877622   \n",
       "\n",
       "       leak_amount  \n",
       "count  4616.000000  \n",
       "mean     19.598869  \n",
       "std      23.172005  \n",
       "min       0.000000  \n",
       "25%       0.000000  \n",
       "50%       0.000000  \n",
       "75%      32.141739  \n",
       "max      56.848770  "
      ]
     },
     "execution_count": 8,
     "metadata": {},
     "output_type": "execute_result"
    }
   ],
   "source": [
    "data.describe()"
   ]
  },
  {
   "cell_type": "code",
   "execution_count": 9,
   "metadata": {},
   "outputs": [
    {
     "data": {
      "text/plain": [
       "n218              0\n",
       "n219              0\n",
       "n220              0\n",
       "n221              0\n",
       "n222              0\n",
       "leak_occurance    0\n",
       "pipe_leak_id      0\n",
       "leak_amount       0\n",
       "dtype: int64"
      ]
     },
     "execution_count": 9,
     "metadata": {},
     "output_type": "execute_result"
    }
   ],
   "source": [
    "data.isna().sum()"
   ]
  },
  {
   "cell_type": "code",
   "execution_count": 10,
   "metadata": {},
   "outputs": [
    {
     "name": "stdout",
     "output_type": "stream",
     "text": [
      "Ziro values:  n218                 0\n",
      "n219                 0\n",
      "n220                 0\n",
      "n221                 0\n",
      "n222                 0\n",
      "leak_occurance       0\n",
      "pipe_leak_id         0\n",
      "leak_amount       2312\n",
      "dtype: int64\n"
     ]
    }
   ],
   "source": [
    "data_zero_value = (data == 0).sum(axis=0)\n",
    "print('Ziro values: ', data_zero_value)"
   ]
  },
  {
   "cell_type": "code",
   "execution_count": 11,
   "metadata": {},
   "outputs": [
    {
     "data": {
      "image/png": "[encoded data removed]",
      "text/plain": [
       "<Figure size 648x360 with 2 Axes>"
      ]
     },
     "metadata": {
      "needs_background": "light"
     },
     "output_type": "display_data"
    }
   ],
   "source": [
    "# Create a figure with two subplots\n",
    "fig, axes = plt.subplots(1, 2, figsize=(9, 5))\n",
    "\n",
    "# Scatter plot\n",
    "axes[0].scatter(range(data.shape[0]), np.sort(data['leak_amount'].values))\n",
    "axes[0].set_xlabel('index')\n",
    "axes[0].set_ylabel('leak amount')\n",
    "axes[0].set_title(\"Leak Amounts\")\n",
    "sns.despine(ax=axes[0])\n",
    "\n",
    "# Distribution plot\n",
    "sns.distplot(data['leak_amount'], ax=axes[1])\n",
    "axes[1].set_title(\"Distribution of Leak Amount\")\n",
    "sns.despine(ax=axes[1])\n",
    "\n",
    "# Adjust spacing between subplots\n",
    "plt.tight_layout()\n",
    "\n",
    "# Show the merged plots\n",
    "plt.show()"
   ]
  },
  {
   "cell_type": "code",
   "execution_count": 12,
   "metadata": {},
   "outputs": [
    {
     "name": "stdout",
     "output_type": "stream",
     "text": [
      "           n218       n219       n220       n221       n222\n",
      "0     44.524665  45.672155  43.410023  45.937154  46.100140\n",
      "1     44.549740  45.697296  43.434387  45.961637  46.124665\n",
      "2     44.574699  45.722321  43.458635  45.986003  46.149073\n",
      "3     44.599029  45.746715  43.482270  46.009753  46.172865\n",
      "4     44.622479  45.770226  43.505047  46.032640  46.195793\n",
      "...         ...        ...        ...        ...        ...\n",
      "4611  44.407425  45.554510  43.295973  45.822226  45.984915\n",
      "4612  44.425719  45.572854  43.313755  45.840097  46.002814\n",
      "4613  44.444460  45.591647  43.331971  45.858407  46.021154\n",
      "4614  44.463885  45.611126  43.350850  45.877385  46.040163\n",
      "4615  44.483988  45.631284  43.370388  45.897024  46.059835\n",
      "\n",
      "[4616 rows x 5 columns]\n"
     ]
    }
   ],
   "source": [
    "# Use all sensors\n",
    "X = data[nodes]\n",
    "\n",
    "# 'leak' .. 'no_leak'\n",
    "y = data['leak_occurance']\n",
    "\n",
    "print(X)\n"
   ]
  },
  {
   "cell_type": "code",
   "execution_count": 13,
   "metadata": {},
   "outputs": [
    {
     "name": "stdout",
     "output_type": "stream",
     "text": [
      "no_leak    2312\n",
      "leak       2304\n",
      "Name: leak_occurance, dtype: int64\n"
     ]
    }
   ],
   "source": [
    "print(y.value_counts()) # Shows if the dataset is balanced"
   ]
  },
  {
   "cell_type": "code",
   "execution_count": null,
   "metadata": {},
   "outputs": [],
   "source": []
  },
  {
   "cell_type": "code",
   "execution_count": 14,
   "metadata": {},
   "outputs": [],
   "source": [
    "#y= y.map({'leak': 1, 'no_leak': 0}).astype(int)"
   ]
  },
  {
   "cell_type": "code",
   "execution_count": 15,
   "metadata": {},
   "outputs": [
    {
     "data": {
      "text/plain": [
       "<AxesSubplot:xlabel='leak_occurance', ylabel='count'>"
      ]
     },
     "execution_count": 15,
     "metadata": {},
     "output_type": "execute_result"
    },
    {
     "data": {
      "image/png": "[encoded data removed]",
      "text/plain": [
       "<Figure size 432x288 with 1 Axes>"
      ]
     },
     "metadata": {
      "needs_background": "light"
     },
     "output_type": "display_data"
    }
   ],
   "source": [
    "\n",
    "sns.countplot(x = data['leak_occurance'],label=\"Count\")\n"
   ]
  },
  {
   "cell_type": "code",
   "execution_count": 16,
   "metadata": {},
   "outputs": [
    {
     "data": {
      "text/plain": [
       "no_leak    2312\n",
       "leak       2304\n",
       "Name: leak_occurance, dtype: int64"
      ]
     },
     "execution_count": 16,
     "metadata": {},
     "output_type": "execute_result"
    }
   ],
   "source": [
    "data['leak_occurance'].value_counts()"
   ]
  },
  {
   "cell_type": "code",
   "execution_count": 17,
   "metadata": {},
   "outputs": [
    {
     "name": "stdout",
     "output_type": "stream",
     "text": [
      "0.8630825401487139\n",
      "0.8890814558058926\n",
      "              precision    recall  f1-score   support\n",
      "\n",
      "           0       0.84      0.96      0.90       581\n",
      "           1       0.95      0.82      0.88       573\n",
      "\n",
      "    accuracy                           0.89      1154\n",
      "   macro avg       0.90      0.89      0.89      1154\n",
      "weighted avg       0.90      0.89      0.89      1154\n",
      "\n"
     ]
    }
   ],
   "source": [
    "y = y.map({'leak': 1, 'no_leak': 0}).astype(int)\n",
    "X_train, X_test, y_train, y_test = train_test_split(X, y)\n",
    "tuned_params =  {'C': [0.1, 1, 10, 100, 1000], \n",
    "              'gamma': [1, 0.1, 0.01, 0.001, 0.0001],\n",
    "              'kernel': ['rbf']} \n",
    "\n",
    "cv_method = KFold(n_splits=4, shuffle=True)\n",
    "model = SVC()\n",
    "grid = GridSearchCV(estimator=model, param_grid=tuned_params, cv=cv_method, scoring='accuracy')\n",
    "grid.fit(X_train, y_train)\n",
    "y_pred = grid.predict(X_test)\n",
    "print(grid.best_score_)\n",
    "print(accuracy_score(y_test, y_pred))\n",
    "print(classification_report(y_test, y_pred))"
   ]
  },
  {
   "cell_type": "code",
   "execution_count": 18,
   "metadata": {},
   "outputs": [
    {
     "name": "stdout",
     "output_type": "stream",
     "text": [
      "0.9422292381422792\n",
      "0.9610051993067591\n",
      "              precision    recall  f1-score   support\n",
      "\n",
      "           0       0.93      1.00      0.96       581\n",
      "           1       1.00      0.92      0.96       573\n",
      "\n",
      "    accuracy                           0.96      1154\n",
      "   macro avg       0.96      0.96      0.96      1154\n",
      "weighted avg       0.96      0.96      0.96      1154\n",
      "\n"
     ]
    }
   ],
   "source": [
    "forest_params = [{'max_depth': list(range(10, 15)), 'max_features': list(range(1,14))}]\n",
    "rfc = RandomForestClassifier()\n",
    "grid_rf = GridSearchCV(estimator=rfc, param_grid=forest_params,  cv=cv_method, scoring='accuracy')\n",
    "grid_rf.fit(X_train, y_train)\n",
    "y_pred = grid_rf.predict(X_test)\n",
    "print(grid_rf.best_score_)\n",
    "print(accuracy_score(y_test, y_pred))\n",
    "print(classification_report(y_test, y_pred))"
   ]
  },
  {
   "cell_type": "code",
   "execution_count": 19,
   "metadata": {},
   "outputs": [
    {
     "name": "stdout",
     "output_type": "stream",
     "text": [
      "0.9485846160007476\n",
      "0.962738301559792\n",
      "              precision    recall  f1-score   support\n",
      "\n",
      "           0       0.94      0.99      0.96       581\n",
      "           1       0.99      0.93      0.96       573\n",
      "\n",
      "    accuracy                           0.96      1154\n",
      "   macro avg       0.96      0.96      0.96      1154\n",
      "weighted avg       0.96      0.96      0.96      1154\n",
      "\n"
     ]
    }
   ],
   "source": [
    "dtr = DecisionTreeClassifier()\n",
    "parameters = {'splitter' : ['best', 'random'],\n",
    "'criterion' : ['gini', 'entropy'],\n",
    "'max_features': ['log2', 'sqrt','auto'],\n",
    "'max_depth': [2, 3, 5, 10, 17],\n",
    "'min_samples_split': [2, 3, 5, 7, 9],\n",
    "'min_samples_leaf': [1,5,8,11],\n",
    "'random_state' : [0,1,2,3,4,5]\n",
    "}\n",
    "grid_dt = GridSearchCV(estimator=dtr, param_grid=parameters,  cv=cv_method, scoring='accuracy')\n",
    "grid_dt.fit(X_train, y_train)\n",
    "y_pred = grid_dt.predict(X_test)\n",
    "print(grid_dt.best_score_)\n",
    "print(accuracy_score(y_test, y_pred))\n",
    "print(classification_report(y_test, y_pred))"
   ]
  },
  {
   "cell_type": "code",
   "execution_count": 20,
   "metadata": {},
   "outputs": [
    {
     "name": "stdout",
     "output_type": "stream",
     "text": [
      "0.9300998544901147\n",
      "0.9610051993067591\n",
      "              precision    recall  f1-score   support\n",
      "\n",
      "           0       0.93      0.99      0.96       581\n",
      "           1       0.99      0.93      0.96       573\n",
      "\n",
      "    accuracy                           0.96      1154\n",
      "   macro avg       0.96      0.96      0.96      1154\n",
      "weighted avg       0.96      0.96      0.96      1154\n",
      "\n"
     ]
    }
   ],
   "source": [
    "#y = y.map({'leak': 1, 'no_leak': 0}).astype(int)\n",
    "params = {\n",
    "        'min_child_weight': [1, 5, 10],\n",
    "        'gamma': [0.5, 1, 1.5, 2, 5],\n",
    "        'subsample': [0.6, 0.8, 1.0],\n",
    "        'colsample_bytree': [0.6, 0.8, 1.0],\n",
    "        'max_depth': [3, 4, 5]\n",
    "        }\n",
    "xgboost = XGBClassifier()\n",
    "grid_xg = GridSearchCV(estimator=xgboost, param_grid=params,  cv=cv_method, scoring='accuracy')\n",
    "grid_xg.fit(X_train, y_train)\n",
    "y_pred = grid_xg.predict(X_test)\n",
    "print(grid_xg.best_score_)\n",
    "print(accuracy_score(y_test, y_pred))\n",
    "print(classification_report(y_test, y_pred))"
   ]
  },
  {
   "cell_type": "code",
   "execution_count": 21,
   "metadata": {},
   "outputs": [],
   "source": [
    "# DecisionTree\n",
    "#y = y.map({'leak': 1, 'no_leak': 0}).astype(int)\n",
    "def test_tree(X, y):\n",
    "    X_train, X_test, y_train, y_test = train_test_split(X, y, test_size=0.2, random_state=3)\n",
    "    dt = DecisionTreeClassifier() \n",
    "    dt.fit(X_train, y_train)\n",
    "    y_pred = dt.predict(X_test)\n",
    "    score = accuracy_score(y_test, y_pred) # accuracy of the model\n",
    "    precision = precision_score(y_test, y_pred) # precision of the model\n",
    "    recall = recall_score(y_test, y_pred) # recall of the model\n",
    "    f1Score = f1_score(y_test, y_pred) # f1_score of the model\n",
    "    return score, precision,recall, f1Score"
   ]
  },
  {
   "cell_type": "code",
   "execution_count": 22,
   "metadata": {},
   "outputs": [
    {
     "name": "stdout",
     "output_type": "stream",
     "text": [
      "Leak detection DTC accuracy\t: 96.8%\n",
      "Leak detection DTC precision\t: 100.0%\n",
      "Leak detection DTC recall\t: 93.6%\n",
      "Leak detection DTC f1_score\t: 96.7%\n"
     ]
    }
   ],
   "source": [
    "score, precision, recall, f1Score = test_tree(X,y)\n",
    "print(\"Leak detection DTC accuracy\\t: {:.1f}%\".format(score*100))\n",
    "print(\"Leak detection DTC precision\\t: {:.1f}%\".format(precision*100))\n",
    "print(\"Leak detection DTC recall\\t: {:.1f}%\".format(recall*100))\n",
    "print(\"Leak detection DTC f1_score\\t: {:.1f}%\".format(f1Score*100))"
   ]
  },
  {
   "cell_type": "code",
   "execution_count": 23,
   "metadata": {},
   "outputs": [],
   "source": [
    "# SVC\n",
    "def test_svc(X, y):\n",
    "    X_train, X_test, y_train, y_test = train_test_split(X, y, test_size=0.2,random_state=3)\n",
    "    model = SVC()\n",
    "    model.fit(X_train, y_train)\n",
    "    y_pred = model.predict(X_test)\n",
    "    score = accuracy_score(y_test, y_pred) # accuracy of the model\n",
    "    precision = precision_score(y_test, y_pred) # precision of the model\n",
    "    recall = recall_score(y_test, y_pred) # recall of the model\n",
    "    f1Score = f1_score(y_test, y_pred) # f1_score of the model\n",
    "    return score, precision, recall, f1Score\n"
   ]
  },
  {
   "cell_type": "code",
   "execution_count": 24,
   "metadata": {},
   "outputs": [
    {
     "name": "stdout",
     "output_type": "stream",
     "text": [
      "Leak detection SVC accuracy\t: 70.9%\n",
      "Leak detection SVC precision\t: 78.6%\n",
      "Leak detection SVC recall\t: 58.2%\n",
      "Leak detection SVC f1_score\t: 66.9%\n"
     ]
    }
   ],
   "source": [
    "score , precision, recall, f1Score= test_svc(X,y)\n",
    "print(\"Leak detection SVC accuracy\\t: {:.1f}%\".format(score*100))\n",
    "print(\"Leak detection SVC precision\\t: {:.1f}%\".format(precision*100))\n",
    "print(\"Leak detection SVC recall\\t: {:.1f}%\".format(recall*100))\n",
    "print(\"Leak detection SVC f1_score\\t: {:.1f}%\".format(f1Score*100))"
   ]
  },
  {
   "cell_type": "code",
   "execution_count": 25,
   "metadata": {},
   "outputs": [],
   "source": [
    "# XGBoost\n",
    "def test_gb(X, y):\n",
    "    X_train, X_test, y_train, y_test = train_test_split(X, y, test_size=0.2,random_state=3)\n",
    "    clf1 = XGBClassifier()\n",
    "    clf1.fit(X_train, y_train)\n",
    "    y_pred = clf1.predict(X_test)\n",
    "    score = accuracy_score(y_test, y_pred)\n",
    "    precision = precision_score(y_test, y_pred) # precision of the model\n",
    "    recall = recall_score(y_test, y_pred) # recall of the model\n",
    "    f1Score = f1_score(y_test, y_pred) # f1_score of the model\n",
    "    return score, precision, recall, f1Score"
   ]
  },
  {
   "cell_type": "code",
   "execution_count": 26,
   "metadata": {},
   "outputs": [
    {
     "name": "stdout",
     "output_type": "stream",
     "text": [
      "Leak detection XGBoost accuracy\t: 95.1%\n",
      "Leak detection XGBoost precision\t: 100.0%\n",
      "Leak detection XGBoost recall\t: 90.4%\n",
      "Leak detection XGBoost f1_score\t: 94.9%\n"
     ]
    }
   ],
   "source": [
    "score, precision, recall, f1Score = test_gb(X,y)\n",
    "print(\"Leak detection XGBoost accuracy\\t: {:.1f}%\".format(score*100))\n",
    "print(\"Leak detection XGBoost precision\\t: {:.1f}%\".format(precision*100))\n",
    "print(\"Leak detection XGBoost recall\\t: {:.1f}%\".format(recall*100))\n",
    "print(\"Leak detection XGBoost f1_score\\t: {:.1f}%\".format(f1Score*100))"
   ]
  },
  {
   "cell_type": "code",
   "execution_count": 27,
   "metadata": {},
   "outputs": [],
   "source": [
    "# Random forest\n",
    "def test_rf(X, y):\n",
    "    X_train, X_test, y_train, y_test = train_test_split(X, y, test_size=0.2,random_state=3)\n",
    "    clf = RandomForestClassifier()\n",
    "    clf.fit(X_train, y_train)\n",
    "    y_pred = clf.predict(X_test)\n",
    "    score = accuracy_score(y_test, y_pred) \n",
    "    precision = precision_score(y_test, y_pred) # precision of the model\n",
    "    recall = recall_score(y_test, y_pred) # recall of the model\n",
    "    f1Score = f1_score(y_test, y_pred) # f1_score of the model\n",
    "    return score, precision, recall, f1Score"
   ]
  },
  {
   "cell_type": "code",
   "execution_count": 28,
   "metadata": {},
   "outputs": [
    {
     "name": "stdout",
     "output_type": "stream",
     "text": [
      "Leak detection RandomForest Accuracy\t: 96.6%\n",
      "Leak detection RandomForest precision\t: 100.0%\n",
      "Leak detection RandomForest recall\t: 93.4%\n",
      "Leak detection RandomForest f1_score\t: 96.6%\n"
     ]
    }
   ],
   "source": [
    "score, precision, recall, f1Score = test_rf(X,y)\n",
    "print(\"Leak detection RandomForest Accuracy\\t: {:.1f}%\".format(score*100))\n",
    "print(\"Leak detection RandomForest precision\\t: {:.1f}%\".format(precision*100))\n",
    "print(\"Leak detection RandomForest recall\\t: {:.1f}%\".format(recall*100))\n",
    "print(\"Leak detection RandomForest f1_score\\t: {:.1f}%\".format(f1Score*100))"
   ]
  },
  {
   "cell_type": "code",
   "execution_count": 29,
   "metadata": {},
   "outputs": [
    {
     "name": "stdout",
     "output_type": "stream",
     "text": [
      "Leak detection DTC accuracy\t: 96.1%\n",
      "Leak detection DTC precision\t: 100.0%\n",
      "Leak detection DTC recall\t: 92.3%\n",
      "Leak detection DTC f1_score\t: 96.0%\n",
      "-------------------------------------------------------------\n",
      "Leak detection SVC accuracy\t: 70.9%\n",
      "Leak detection SVC precision\t: 78.6%\n",
      "Leak detection SVC recall\t: 58.2%\n",
      "Leak detection SVC f1_score\t: 66.9%\n",
      "-------------------------------------------------------------\n",
      "Leak detection XGBoost accuracy\t: 95.1%\n",
      "Leak detection XGBoost precision\t: 100.0%\n",
      "Leak detection XGBoost recall\t: 90.4%\n",
      "Leak detection XGBoost f1_score\t: 94.9%\n",
      "-------------------------------------------------------------\n",
      "Leak detection RandomForest Accuracy\t: 96.6%\n",
      "Leak detection RandomForest precision\t: 100.0%\n",
      "Leak detection RandomForest recall\t: 93.4%\n",
      "Leak detection RandomForest f1_score\t: 96.6%\n"
     ]
    }
   ],
   "source": [
    "\n",
    "score_DT, precision_DT, recall_DT, f1Score_DT = test_tree(X,y)\n",
    "print(\"Leak detection DTC accuracy\\t: {:.1f}%\".format(score_DT*100))\n",
    "print(\"Leak detection DTC precision\\t: {:.1f}%\".format(precision_DT*100))\n",
    "print(\"Leak detection DTC recall\\t: {:.1f}%\".format(recall_DT*100))\n",
    "print(\"Leak detection DTC f1_score\\t: {:.1f}%\".format(f1Score_DT*100))\n",
    "print('-------------------------------------------------------------')\n",
    "score_SVC , precision_SVC, recall_SVC, f1Score_SVC= test_svc(X,y)\n",
    "print(\"Leak detection SVC accuracy\\t: {:.1f}%\".format(score_SVC*100))\n",
    "print(\"Leak detection SVC precision\\t: {:.1f}%\".format(precision_SVC*100))\n",
    "print(\"Leak detection SVC recall\\t: {:.1f}%\".format(recall_SVC*100))\n",
    "print(\"Leak detection SVC f1_score\\t: {:.1f}%\".format(f1Score_SVC*100))\n",
    "print('-------------------------------------------------------------')\n",
    "score_XG, precision_XG, recall_XG, f1Score_XG = test_gb(X,y)\n",
    "print(\"Leak detection XGBoost accuracy\\t: {:.1f}%\".format(score_XG*100))\n",
    "print(\"Leak detection XGBoost precision\\t: {:.1f}%\".format(precision_XG*100))\n",
    "print(\"Leak detection XGBoost recall\\t: {:.1f}%\".format(recall_XG*100))\n",
    "print(\"Leak detection XGBoost f1_score\\t: {:.1f}%\".format(f1Score_XG*100))\n",
    "print('-------------------------------------------------------------')\n",
    "score_RF, precision_RF, recall_RF, f1Score_RF = test_rf(X,y)\n",
    "print(\"Leak detection RandomForest Accuracy\\t: {:.1f}%\".format(score_RF*100))\n",
    "print(\"Leak detection RandomForest precision\\t: {:.1f}%\".format(precision_RF*100))\n",
    "print(\"Leak detection RandomForest recall\\t: {:.1f}%\".format(recall_RF*100))\n",
    "print(\"Leak detection RandomForest f1_score\\t: {:.1f}%\".format(f1Score_RF*100))"
   ]
  }
 ],
 "metadata": {
  "kernelspec": {
   "display_name": "Python 3",
   "language": "python",
   "name": "python3"
  },
  "language_info": {
   "codemirror_mode": {
    "name": "ipython",
    "version": 3
   },
   "file_extension": ".py",
   "mimetype": "text/x-python",
   "name": "python",
   "nbconvert_exporter": "python",
   "pygments_lexer": "ipython3",
   "version": "3.10.2"
  },
  "orig_nbformat": 4,
  "vscode": {
   "interpreter": {
    "hash": "369f2c481f4da34e4445cda3fffd2e751bd1c4d706f27375911949ba6bb62e1c"
   }
  }
 },
 "nbformat": 4,
 "nbformat_minor": 2
}
