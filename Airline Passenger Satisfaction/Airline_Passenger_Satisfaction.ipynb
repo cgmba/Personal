{
  "nbformat": 4,
  "nbformat_minor": 0,
  "metadata": {
    "colab": {
      "provenance": []
    },
    "kernelspec": {
      "name": "python3",
      "display_name": "Python 3"
    },
    "language_info": {
      "name": "python"
    }
  },
  "cells": [
    {
      "cell_type": "code",
      "execution_count": 1,
      "metadata": {
        "id": "5VDnEqI43qr8"
      },
      "outputs": [],
      "source": [
        "import numpy as np \n",
        "import pandas as pd\n",
        "\n",
        "import matplotlib.pyplot as plt \n",
        "import seaborn as sns\n",
        "%matplotlib inline\n",
        "\n",
        "from sklearn.impute import SimpleImputer\n",
        "from sklearn.preprocessing import StandardScaler\n",
        "from sklearn.decomposition import PCA\n",
        "from sklearn.manifold import MDS\n",
        "from sklearn import metrics\n",
        "from sklearn.linear_model import LogisticRegression\n",
        "\n",
        "from sklearn.cluster import KMeans\n",
        "RSEED = 8 \n",
        "# to filter out warnings\n",
        "import warnings\n",
        "warnings.filterwarnings('ignore')\n",
        "warnings.simplefilter('ignore')"
      ]
    },
    {
      "cell_type": "code",
      "source": [
        "data = pd.read_excel(\"/content/satisfaction.xlsx\")\n",
        "data.head()"
      ],
      "metadata": {
        "colab": {
          "base_uri": "https://localhost:8080/",
          "height": 438
        },
        "id": "D_W9E5viF9Cx",
        "outputId": "c0df22cb-19b9-4564-816d-a44f84757066"
      },
      "execution_count": 6,
      "outputs": [
        {
          "output_type": "execute_result",
          "data": {
            "text/plain": [
              "       id satisfaction_v2  Gender   Customer Type  Age   Type of Travel  \\\n",
              "0   11112       satisfied  Female  Loyal Customer   65  Personal Travel   \n",
              "1  110278       satisfied    Male  Loyal Customer   47  Personal Travel   \n",
              "2  103199       satisfied  Female  Loyal Customer   15  Personal Travel   \n",
              "3   47462       satisfied  Female  Loyal Customer   60  Personal Travel   \n",
              "4  120011       satisfied  Female  Loyal Customer   70  Personal Travel   \n",
              "\n",
              "      Class  Flight Distance  Seat comfort  Departure/Arrival time convenient  \\\n",
              "0       Eco              265             0                                  0   \n",
              "1  Business             2464             0                                  0   \n",
              "2       Eco             2138             0                                  0   \n",
              "3       Eco              623             0                                  0   \n",
              "4       Eco              354             0                                  0   \n",
              "\n",
              "   ...  Online support  Ease of Online booking  On-board service  \\\n",
              "0  ...               2                       3                 3   \n",
              "1  ...               2                       3                 4   \n",
              "2  ...               2                       2                 3   \n",
              "3  ...               3                       1                 1   \n",
              "4  ...               4                       2                 2   \n",
              "\n",
              "   Leg room service  Baggage handling  Checkin service  Cleanliness  \\\n",
              "0                 0                 3                5            3   \n",
              "1                 4                 4                2            3   \n",
              "2                 3                 4                4            4   \n",
              "3                 0                 1                4            1   \n",
              "4                 0                 2                4            2   \n",
              "\n",
              "   Online boarding  Departure Delay in Minutes  Arrival Delay in Minutes  \n",
              "0                2                           0                       0.0  \n",
              "1                2                         310                     305.0  \n",
              "2                2                           0                       0.0  \n",
              "3                3                           0                       0.0  \n",
              "4                5                           0                       0.0  \n",
              "\n",
              "[5 rows x 24 columns]"
            ],
            "text/html": [
              "\n",
              "  <div id=\"df-a164198f-bddc-4451-a85b-f71ebbc249d5\">\n",
              "    <div class=\"colab-df-container\">\n",
              "      <div>\n",
              "<style scoped>\n",
              "    .dataframe tbody tr th:only-of-type {\n",
              "        vertical-align: middle;\n",
              "    }\n",
              "\n",
              "    .dataframe tbody tr th {\n",
              "        vertical-align: top;\n",
              "    }\n",
              "\n",
              "    .dataframe thead th {\n",
              "        text-align: right;\n",
              "    }\n",
              "</style>\n",
              "<table border=\"1\" class=\"dataframe\">\n",
              "  <thead>\n",
              "    <tr style=\"text-align: right;\">\n",
              "      <th></th>\n",
              "      <th>id</th>\n",
              "      <th>satisfaction_v2</th>\n",
              "      <th>Gender</th>\n",
              "      <th>Customer Type</th>\n",
              "      <th>Age</th>\n",
              "      <th>Type of Travel</th>\n",
              "      <th>Class</th>\n",
              "      <th>Flight Distance</th>\n",
              "      <th>Seat comfort</th>\n",
              "      <th>Departure/Arrival time convenient</th>\n",
              "      <th>...</th>\n",
              "      <th>Online support</th>\n",
              "      <th>Ease of Online booking</th>\n",
              "      <th>On-board service</th>\n",
              "      <th>Leg room service</th>\n",
              "      <th>Baggage handling</th>\n",
              "      <th>Checkin service</th>\n",
              "      <th>Cleanliness</th>\n",
              "      <th>Online boarding</th>\n",
              "      <th>Departure Delay in Minutes</th>\n",
              "      <th>Arrival Delay in Minutes</th>\n",
              "    </tr>\n",
              "  </thead>\n",
              "  <tbody>\n",
              "    <tr>\n",
              "      <th>0</th>\n",
              "      <td>11112</td>\n",
              "      <td>satisfied</td>\n",
              "      <td>Female</td>\n",
              "      <td>Loyal Customer</td>\n",
              "      <td>65</td>\n",
              "      <td>Personal Travel</td>\n",
              "      <td>Eco</td>\n",
              "      <td>265</td>\n",
              "      <td>0</td>\n",
              "      <td>0</td>\n",
              "      <td>...</td>\n",
              "      <td>2</td>\n",
              "      <td>3</td>\n",
              "      <td>3</td>\n",
              "      <td>0</td>\n",
              "      <td>3</td>\n",
              "      <td>5</td>\n",
              "      <td>3</td>\n",
              "      <td>2</td>\n",
              "      <td>0</td>\n",
              "      <td>0.0</td>\n",
              "    </tr>\n",
              "    <tr>\n",
              "      <th>1</th>\n",
              "      <td>110278</td>\n",
              "      <td>satisfied</td>\n",
              "      <td>Male</td>\n",
              "      <td>Loyal Customer</td>\n",
              "      <td>47</td>\n",
              "      <td>Personal Travel</td>\n",
              "      <td>Business</td>\n",
              "      <td>2464</td>\n",
              "      <td>0</td>\n",
              "      <td>0</td>\n",
              "      <td>...</td>\n",
              "      <td>2</td>\n",
              "      <td>3</td>\n",
              "      <td>4</td>\n",
              "      <td>4</td>\n",
              "      <td>4</td>\n",
              "      <td>2</td>\n",
              "      <td>3</td>\n",
              "      <td>2</td>\n",
              "      <td>310</td>\n",
              "      <td>305.0</td>\n",
              "    </tr>\n",
              "    <tr>\n",
              "      <th>2</th>\n",
              "      <td>103199</td>\n",
              "      <td>satisfied</td>\n",
              "      <td>Female</td>\n",
              "      <td>Loyal Customer</td>\n",
              "      <td>15</td>\n",
              "      <td>Personal Travel</td>\n",
              "      <td>Eco</td>\n",
              "      <td>2138</td>\n",
              "      <td>0</td>\n",
              "      <td>0</td>\n",
              "      <td>...</td>\n",
              "      <td>2</td>\n",
              "      <td>2</td>\n",
              "      <td>3</td>\n",
              "      <td>3</td>\n",
              "      <td>4</td>\n",
              "      <td>4</td>\n",
              "      <td>4</td>\n",
              "      <td>2</td>\n",
              "      <td>0</td>\n",
              "      <td>0.0</td>\n",
              "    </tr>\n",
              "    <tr>\n",
              "      <th>3</th>\n",
              "      <td>47462</td>\n",
              "      <td>satisfied</td>\n",
              "      <td>Female</td>\n",
              "      <td>Loyal Customer</td>\n",
              "      <td>60</td>\n",
              "      <td>Personal Travel</td>\n",
              "      <td>Eco</td>\n",
              "      <td>623</td>\n",
              "      <td>0</td>\n",
              "      <td>0</td>\n",
              "      <td>...</td>\n",
              "      <td>3</td>\n",
              "      <td>1</td>\n",
              "      <td>1</td>\n",
              "      <td>0</td>\n",
              "      <td>1</td>\n",
              "      <td>4</td>\n",
              "      <td>1</td>\n",
              "      <td>3</td>\n",
              "      <td>0</td>\n",
              "      <td>0.0</td>\n",
              "    </tr>\n",
              "    <tr>\n",
              "      <th>4</th>\n",
              "      <td>120011</td>\n",
              "      <td>satisfied</td>\n",
              "      <td>Female</td>\n",
              "      <td>Loyal Customer</td>\n",
              "      <td>70</td>\n",
              "      <td>Personal Travel</td>\n",
              "      <td>Eco</td>\n",
              "      <td>354</td>\n",
              "      <td>0</td>\n",
              "      <td>0</td>\n",
              "      <td>...</td>\n",
              "      <td>4</td>\n",
              "      <td>2</td>\n",
              "      <td>2</td>\n",
              "      <td>0</td>\n",
              "      <td>2</td>\n",
              "      <td>4</td>\n",
              "      <td>2</td>\n",
              "      <td>5</td>\n",
              "      <td>0</td>\n",
              "      <td>0.0</td>\n",
              "    </tr>\n",
              "  </tbody>\n",
              "</table>\n",
              "<p>5 rows × 24 columns</p>\n",
              "</div>\n",
              "      <button class=\"colab-df-convert\" onclick=\"convertToInteractive('df-a164198f-bddc-4451-a85b-f71ebbc249d5')\"\n",
              "              title=\"Convert this dataframe to an interactive table.\"\n",
              "              style=\"display:none;\">\n",
              "        \n",
              "  <svg xmlns=\"http://www.w3.org/2000/svg\" height=\"24px\"viewBox=\"0 0 24 24\"\n",
              "       width=\"24px\">\n",
              "    <path d=\"M0 0h24v24H0V0z\" fill=\"none\"/>\n",
              "    <path d=\"M18.56 5.44l.94 2.06.94-2.06 2.06-.94-2.06-.94-.94-2.06-.94 2.06-2.06.94zm-11 1L8.5 8.5l.94-2.06 2.06-.94-2.06-.94L8.5 2.5l-.94 2.06-2.06.94zm10 10l.94 2.06.94-2.06 2.06-.94-2.06-.94-.94-2.06-.94 2.06-2.06.94z\"/><path d=\"M17.41 7.96l-1.37-1.37c-.4-.4-.92-.59-1.43-.59-.52 0-1.04.2-1.43.59L10.3 9.45l-7.72 7.72c-.78.78-.78 2.05 0 2.83L4 21.41c.39.39.9.59 1.41.59.51 0 1.02-.2 1.41-.59l7.78-7.78 2.81-2.81c.8-.78.8-2.07 0-2.86zM5.41 20L4 18.59l7.72-7.72 1.47 1.35L5.41 20z\"/>\n",
              "  </svg>\n",
              "      </button>\n",
              "      \n",
              "  <style>\n",
              "    .colab-df-container {\n",
              "      display:flex;\n",
              "      flex-wrap:wrap;\n",
              "      gap: 12px;\n",
              "    }\n",
              "\n",
              "    .colab-df-convert {\n",
              "      background-color: #E8F0FE;\n",
              "      border: none;\n",
              "      border-radius: 50%;\n",
              "      cursor: pointer;\n",
              "      display: none;\n",
              "      fill: #1967D2;\n",
              "      height: 32px;\n",
              "      padding: 0 0 0 0;\n",
              "      width: 32px;\n",
              "    }\n",
              "\n",
              "    .colab-df-convert:hover {\n",
              "      background-color: #E2EBFA;\n",
              "      box-shadow: 0px 1px 2px rgba(60, 64, 67, 0.3), 0px 1px 3px 1px rgba(60, 64, 67, 0.15);\n",
              "      fill: #174EA6;\n",
              "    }\n",
              "\n",
              "    [theme=dark] .colab-df-convert {\n",
              "      background-color: #3B4455;\n",
              "      fill: #D2E3FC;\n",
              "    }\n",
              "\n",
              "    [theme=dark] .colab-df-convert:hover {\n",
              "      background-color: #434B5C;\n",
              "      box-shadow: 0px 1px 3px 1px rgba(0, 0, 0, 0.15);\n",
              "      filter: drop-shadow(0px 1px 2px rgba(0, 0, 0, 0.3));\n",
              "      fill: #FFFFFF;\n",
              "    }\n",
              "  </style>\n",
              "\n",
              "      <script>\n",
              "        const buttonEl =\n",
              "          document.querySelector('#df-a164198f-bddc-4451-a85b-f71ebbc249d5 button.colab-df-convert');\n",
              "        buttonEl.style.display =\n",
              "          google.colab.kernel.accessAllowed ? 'block' : 'none';\n",
              "\n",
              "        async function convertToInteractive(key) {\n",
              "          const element = document.querySelector('#df-a164198f-bddc-4451-a85b-f71ebbc249d5');\n",
              "          const dataTable =\n",
              "            await google.colab.kernel.invokeFunction('convertToInteractive',\n",
              "                                                     [key], {});\n",
              "          if (!dataTable) return;\n",
              "\n",
              "          const docLinkHtml = 'Like what you see? Visit the ' +\n",
              "            '<a target=\"_blank\" href=https://colab.research.google.com/notebooks/data_table.ipynb>data table notebook</a>'\n",
              "            + ' to learn more about interactive tables.';\n",
              "          element.innerHTML = '';\n",
              "          dataTable['output_type'] = 'display_data';\n",
              "          await google.colab.output.renderOutput(dataTable, element);\n",
              "          const docLink = document.createElement('div');\n",
              "          docLink.innerHTML = docLinkHtml;\n",
              "          element.appendChild(docLink);\n",
              "        }\n",
              "      </script>\n",
              "    </div>\n",
              "  </div>\n",
              "  "
            ]
          },
          "metadata": {},
          "execution_count": 6
        }
      ]
    },
    {
      "cell_type": "code",
      "source": [
        "data.info()"
      ],
      "metadata": {
        "colab": {
          "base_uri": "https://localhost:8080/"
        },
        "id": "hP-5ulbuHVKb",
        "outputId": "3fedb8b8-ee9a-44d0-d9cc-e9142c006fb1"
      },
      "execution_count": 8,
      "outputs": [
        {
          "output_type": "stream",
          "name": "stdout",
          "text": [
            "<class 'pandas.core.frame.DataFrame'>\n",
            "RangeIndex: 129880 entries, 0 to 129879\n",
            "Data columns (total 24 columns):\n",
            " #   Column                             Non-Null Count   Dtype  \n",
            "---  ------                             --------------   -----  \n",
            " 0   id                                 129880 non-null  int64  \n",
            " 1   satisfaction_v2                    129880 non-null  object \n",
            " 2   Gender                             129880 non-null  object \n",
            " 3   Customer Type                      129880 non-null  object \n",
            " 4   Age                                129880 non-null  int64  \n",
            " 5   Type of Travel                     129880 non-null  object \n",
            " 6   Class                              129880 non-null  object \n",
            " 7   Flight Distance                    129880 non-null  int64  \n",
            " 8   Seat comfort                       129880 non-null  int64  \n",
            " 9   Departure/Arrival time convenient  129880 non-null  int64  \n",
            " 10  Food and drink                     129880 non-null  int64  \n",
            " 11  Gate location                      129880 non-null  int64  \n",
            " 12  Inflight wifi service              129880 non-null  int64  \n",
            " 13  Inflight entertainment             129880 non-null  int64  \n",
            " 14  Online support                     129880 non-null  int64  \n",
            " 15  Ease of Online booking             129880 non-null  int64  \n",
            " 16  On-board service                   129880 non-null  int64  \n",
            " 17  Leg room service                   129880 non-null  int64  \n",
            " 18  Baggage handling                   129880 non-null  int64  \n",
            " 19  Checkin service                    129880 non-null  int64  \n",
            " 20  Cleanliness                        129880 non-null  int64  \n",
            " 21  Online boarding                    129880 non-null  int64  \n",
            " 22  Departure Delay in Minutes         129880 non-null  int64  \n",
            " 23  Arrival Delay in Minutes           129487 non-null  float64\n",
            "dtypes: float64(1), int64(18), object(5)\n",
            "memory usage: 23.8+ MB\n"
          ]
        }
      ]
    },
    {
      "cell_type": "code",
      "source": [
        "data.isnull().sum()"
      ],
      "metadata": {
        "colab": {
          "base_uri": "https://localhost:8080/"
        },
        "id": "3taVdIcEHitt",
        "outputId": "ab34cfef-13a7-40c4-ab0a-16fd3104d3e1"
      },
      "execution_count": 10,
      "outputs": [
        {
          "output_type": "execute_result",
          "data": {
            "text/plain": [
              "id                                     0\n",
              "satisfaction_v2                        0\n",
              "Gender                                 0\n",
              "Customer Type                          0\n",
              "Age                                    0\n",
              "Type of Travel                         0\n",
              "Class                                  0\n",
              "Flight Distance                        0\n",
              "Seat comfort                           0\n",
              "Departure/Arrival time convenient      0\n",
              "Food and drink                         0\n",
              "Gate location                          0\n",
              "Inflight wifi service                  0\n",
              "Inflight entertainment                 0\n",
              "Online support                         0\n",
              "Ease of Online booking                 0\n",
              "On-board service                       0\n",
              "Leg room service                       0\n",
              "Baggage handling                       0\n",
              "Checkin service                        0\n",
              "Cleanliness                            0\n",
              "Online boarding                        0\n",
              "Departure Delay in Minutes             0\n",
              "Arrival Delay in Minutes             393\n",
              "dtype: int64"
            ]
          },
          "metadata": {},
          "execution_count": 10
        }
      ]
    },
    {
      "cell_type": "code",
      "source": [
        "data.isna().sum()"
      ],
      "metadata": {
        "colab": {
          "base_uri": "https://localhost:8080/"
        },
        "id": "lgnatcFDHvGe",
        "outputId": "68adc123-b48d-49ee-d734-3190608fef97"
      },
      "execution_count": 11,
      "outputs": [
        {
          "output_type": "execute_result",
          "data": {
            "text/plain": [
              "id                                     0\n",
              "satisfaction_v2                        0\n",
              "Gender                                 0\n",
              "Customer Type                          0\n",
              "Age                                    0\n",
              "Type of Travel                         0\n",
              "Class                                  0\n",
              "Flight Distance                        0\n",
              "Seat comfort                           0\n",
              "Departure/Arrival time convenient      0\n",
              "Food and drink                         0\n",
              "Gate location                          0\n",
              "Inflight wifi service                  0\n",
              "Inflight entertainment                 0\n",
              "Online support                         0\n",
              "Ease of Online booking                 0\n",
              "On-board service                       0\n",
              "Leg room service                       0\n",
              "Baggage handling                       0\n",
              "Checkin service                        0\n",
              "Cleanliness                            0\n",
              "Online boarding                        0\n",
              "Departure Delay in Minutes             0\n",
              "Arrival Delay in Minutes             393\n",
              "dtype: int64"
            ]
          },
          "metadata": {},
          "execution_count": 11
        }
      ]
    },
    {
      "cell_type": "code",
      "source": [
        "(data == \"na\").sum()"
      ],
      "metadata": {
        "colab": {
          "base_uri": "https://localhost:8080/"
        },
        "id": "QNKewdJEHz-j",
        "outputId": "2eaa40b5-0687-4147-dea3-e9945cf7cd9e"
      },
      "execution_count": 13,
      "outputs": [
        {
          "output_type": "execute_result",
          "data": {
            "text/plain": [
              "id                                   0\n",
              "satisfaction_v2                      0\n",
              "Gender                               0\n",
              "Customer Type                        0\n",
              "Age                                  0\n",
              "Type of Travel                       0\n",
              "Class                                0\n",
              "Flight Distance                      0\n",
              "Seat comfort                         0\n",
              "Departure/Arrival time convenient    0\n",
              "Food and drink                       0\n",
              "Gate location                        0\n",
              "Inflight wifi service                0\n",
              "Inflight entertainment               0\n",
              "Online support                       0\n",
              "Ease of Online booking               0\n",
              "On-board service                     0\n",
              "Leg room service                     0\n",
              "Baggage handling                     0\n",
              "Checkin service                      0\n",
              "Cleanliness                          0\n",
              "Online boarding                      0\n",
              "Departure Delay in Minutes           0\n",
              "Arrival Delay in Minutes             0\n",
              "dtype: int64"
            ]
          },
          "metadata": {},
          "execution_count": 13
        }
      ]
    },
    {
      "cell_type": "code",
      "source": [
        "data.shape"
      ],
      "metadata": {
        "colab": {
          "base_uri": "https://localhost:8080/"
        },
        "id": "jpWfLhyJIoKw",
        "outputId": "31d29d47-8848-4ca2-f008-f9cfbd3f137a"
      },
      "execution_count": 14,
      "outputs": [
        {
          "output_type": "execute_result",
          "data": {
            "text/plain": [
              "(129880, 24)"
            ]
          },
          "metadata": {},
          "execution_count": 14
        }
      ]
    },
    {
      "cell_type": "code",
      "source": [
        "data.rename(columns={\"satisfaction_v2\": \"satisfaction\"},inplace=True)"
      ],
      "metadata": {
        "id": "U5DLuzM1JWfr"
      },
      "execution_count": 19,
      "outputs": []
    },
    {
      "cell_type": "code",
      "source": [
        "data.info()"
      ],
      "metadata": {
        "colab": {
          "base_uri": "https://localhost:8080/"
        },
        "id": "OZ6uwmgOKf5S",
        "outputId": "2f20e4e8-771a-4e50-f3b6-bb8dd67ae4cf"
      },
      "execution_count": 20,
      "outputs": [
        {
          "output_type": "stream",
          "name": "stdout",
          "text": [
            "<class 'pandas.core.frame.DataFrame'>\n",
            "RangeIndex: 129880 entries, 0 to 129879\n",
            "Data columns (total 24 columns):\n",
            " #   Column                             Non-Null Count   Dtype  \n",
            "---  ------                             --------------   -----  \n",
            " 0   id                                 129880 non-null  int64  \n",
            " 1   satisfaction                       129880 non-null  object \n",
            " 2   Gender                             129880 non-null  object \n",
            " 3   Customer Type                      129880 non-null  object \n",
            " 4   Age                                129880 non-null  int64  \n",
            " 5   Type of Travel                     129880 non-null  object \n",
            " 6   Class                              129880 non-null  object \n",
            " 7   Flight Distance                    129880 non-null  int64  \n",
            " 8   Seat comfort                       129880 non-null  int64  \n",
            " 9   Departure/Arrival time convenient  129880 non-null  int64  \n",
            " 10  Food and drink                     129880 non-null  int64  \n",
            " 11  Gate location                      129880 non-null  int64  \n",
            " 12  Inflight wifi service              129880 non-null  int64  \n",
            " 13  Inflight entertainment             129880 non-null  int64  \n",
            " 14  Online support                     129880 non-null  int64  \n",
            " 15  Ease of Online booking             129880 non-null  int64  \n",
            " 16  On-board service                   129880 non-null  int64  \n",
            " 17  Leg room service                   129880 non-null  int64  \n",
            " 18  Baggage handling                   129880 non-null  int64  \n",
            " 19  Checkin service                    129880 non-null  int64  \n",
            " 20  Cleanliness                        129880 non-null  int64  \n",
            " 21  Online boarding                    129880 non-null  int64  \n",
            " 22  Departure Delay in Minutes         129880 non-null  int64  \n",
            " 23  Arrival Delay in Minutes           129487 non-null  float64\n",
            "dtypes: float64(1), int64(18), object(5)\n",
            "memory usage: 23.8+ MB\n"
          ]
        }
      ]
    },
    {
      "cell_type": "code",
      "source": [
        "data['satisfaction'].value_counts()"
      ],
      "metadata": {
        "colab": {
          "base_uri": "https://localhost:8080/"
        },
        "id": "W9NvWeVZIyIL",
        "outputId": "3cdf843d-b63a-4c15-a77b-a6c6f5d6e1b3"
      },
      "execution_count": 21,
      "outputs": [
        {
          "output_type": "execute_result",
          "data": {
            "text/plain": [
              "satisfied                  71087\n",
              "neutral or dissatisfied    58793\n",
              "Name: satisfaction, dtype: int64"
            ]
          },
          "metadata": {},
          "execution_count": 21
        }
      ]
    },
    {
      "cell_type": "code",
      "source": [
        "listColumn = ['satisfaction']"
      ],
      "metadata": {
        "id": "Li8k_HCjLTRT"
      },
      "execution_count": 22,
      "outputs": []
    },
    {
      "cell_type": "code",
      "source": [
        "data.describe()"
      ],
      "metadata": {
        "colab": {
          "base_uri": "https://localhost:8080/",
          "height": 399
        },
        "id": "nJp3qKCxNtBr",
        "outputId": "f80e42cf-96b7-45e1-cbf1-a807208ad362"
      },
      "execution_count": 27,
      "outputs": [
        {
          "output_type": "execute_result",
          "data": {
            "text/plain": [
              "                  id            Age  Flight Distance   Seat comfort  \\\n",
              "count  129880.000000  129880.000000    129880.000000  129880.000000   \n",
              "mean    64940.500000      39.427957      1981.409055       2.838597   \n",
              "std     37493.270818      15.119360      1027.115606       1.392983   \n",
              "min         1.000000       7.000000        50.000000       0.000000   \n",
              "25%     32470.750000      27.000000      1359.000000       2.000000   \n",
              "50%     64940.500000      40.000000      1925.000000       3.000000   \n",
              "75%     97410.250000      51.000000      2544.000000       4.000000   \n",
              "max    129880.000000      85.000000      6951.000000       5.000000   \n",
              "\n",
              "       Departure/Arrival time convenient  Food and drink  Gate location  \\\n",
              "count                      129880.000000   129880.000000  129880.000000   \n",
              "mean                            2.990645        2.851994       2.990422   \n",
              "std                             1.527224        1.443729       1.305970   \n",
              "min                             0.000000        0.000000       0.000000   \n",
              "25%                             2.000000        2.000000       2.000000   \n",
              "50%                             3.000000        3.000000       3.000000   \n",
              "75%                             4.000000        4.000000       4.000000   \n",
              "max                             5.000000        5.000000       5.000000   \n",
              "\n",
              "       Inflight wifi service  Inflight entertainment  Online support  \\\n",
              "count          129880.000000           129880.000000   129880.000000   \n",
              "mean                3.249130                3.383477        3.519703   \n",
              "std                 1.318818                1.346059        1.306511   \n",
              "min                 0.000000                0.000000        0.000000   \n",
              "25%                 2.000000                2.000000        3.000000   \n",
              "50%                 3.000000                4.000000        4.000000   \n",
              "75%                 4.000000                4.000000        5.000000   \n",
              "max                 5.000000                5.000000        5.000000   \n",
              "\n",
              "       Ease of Online booking  On-board service  Leg room service  \\\n",
              "count           129880.000000     129880.000000     129880.000000   \n",
              "mean                 3.472105          3.465075          3.485902   \n",
              "std                  1.305560          1.270836          1.292226   \n",
              "min                  0.000000          0.000000          0.000000   \n",
              "25%                  2.000000          3.000000          2.000000   \n",
              "50%                  4.000000          4.000000          4.000000   \n",
              "75%                  5.000000          4.000000          5.000000   \n",
              "max                  5.000000          5.000000          5.000000   \n",
              "\n",
              "       Baggage handling  Checkin service    Cleanliness  Online boarding  \\\n",
              "count     129880.000000    129880.000000  129880.000000    129880.000000   \n",
              "mean           3.695673         3.340807       3.705759         3.352587   \n",
              "std            1.156483         1.260582       1.151774         1.298715   \n",
              "min            1.000000         0.000000       0.000000         0.000000   \n",
              "25%            3.000000         3.000000       3.000000         2.000000   \n",
              "50%            4.000000         3.000000       4.000000         4.000000   \n",
              "75%            5.000000         4.000000       5.000000         4.000000   \n",
              "max            5.000000         5.000000       5.000000         5.000000   \n",
              "\n",
              "       Departure Delay in Minutes  Arrival Delay in Minutes  \n",
              "count               129880.000000             129880.000000  \n",
              "mean                    14.713713                 15.045465  \n",
              "std                     38.071126                 38.416353  \n",
              "min                      0.000000                  0.000000  \n",
              "25%                      0.000000                  0.000000  \n",
              "50%                      0.000000                  0.000000  \n",
              "75%                     12.000000                 13.000000  \n",
              "max                   1592.000000               1584.000000  "
            ],
            "text/html": [
              "\n",
              "  <div id=\"df-7a05cdca-25fb-4529-a436-7e3ca382a9a9\">\n",
              "    <div class=\"colab-df-container\">\n",
              "      <div>\n",
              "<style scoped>\n",
              "    .dataframe tbody tr th:only-of-type {\n",
              "        vertical-align: middle;\n",
              "    }\n",
              "\n",
              "    .dataframe tbody tr th {\n",
              "        vertical-align: top;\n",
              "    }\n",
              "\n",
              "    .dataframe thead th {\n",
              "        text-align: right;\n",
              "    }\n",
              "</style>\n",
              "<table border=\"1\" class=\"dataframe\">\n",
              "  <thead>\n",
              "    <tr style=\"text-align: right;\">\n",
              "      <th></th>\n",
              "      <th>id</th>\n",
              "      <th>Age</th>\n",
              "      <th>Flight Distance</th>\n",
              "      <th>Seat comfort</th>\n",
              "      <th>Departure/Arrival time convenient</th>\n",
              "      <th>Food and drink</th>\n",
              "      <th>Gate location</th>\n",
              "      <th>Inflight wifi service</th>\n",
              "      <th>Inflight entertainment</th>\n",
              "      <th>Online support</th>\n",
              "      <th>Ease of Online booking</th>\n",
              "      <th>On-board service</th>\n",
              "      <th>Leg room service</th>\n",
              "      <th>Baggage handling</th>\n",
              "      <th>Checkin service</th>\n",
              "      <th>Cleanliness</th>\n",
              "      <th>Online boarding</th>\n",
              "      <th>Departure Delay in Minutes</th>\n",
              "      <th>Arrival Delay in Minutes</th>\n",
              "    </tr>\n",
              "  </thead>\n",
              "  <tbody>\n",
              "    <tr>\n",
              "      <th>count</th>\n",
              "      <td>129880.000000</td>\n",
              "      <td>129880.000000</td>\n",
              "      <td>129880.000000</td>\n",
              "      <td>129880.000000</td>\n",
              "      <td>129880.000000</td>\n",
              "      <td>129880.000000</td>\n",
              "      <td>129880.000000</td>\n",
              "      <td>129880.000000</td>\n",
              "      <td>129880.000000</td>\n",
              "      <td>129880.000000</td>\n",
              "      <td>129880.000000</td>\n",
              "      <td>129880.000000</td>\n",
              "      <td>129880.000000</td>\n",
              "      <td>129880.000000</td>\n",
              "      <td>129880.000000</td>\n",
              "      <td>129880.000000</td>\n",
              "      <td>129880.000000</td>\n",
              "      <td>129880.000000</td>\n",
              "      <td>129880.000000</td>\n",
              "    </tr>\n",
              "    <tr>\n",
              "      <th>mean</th>\n",
              "      <td>64940.500000</td>\n",
              "      <td>39.427957</td>\n",
              "      <td>1981.409055</td>\n",
              "      <td>2.838597</td>\n",
              "      <td>2.990645</td>\n",
              "      <td>2.851994</td>\n",
              "      <td>2.990422</td>\n",
              "      <td>3.249130</td>\n",
              "      <td>3.383477</td>\n",
              "      <td>3.519703</td>\n",
              "      <td>3.472105</td>\n",
              "      <td>3.465075</td>\n",
              "      <td>3.485902</td>\n",
              "      <td>3.695673</td>\n",
              "      <td>3.340807</td>\n",
              "      <td>3.705759</td>\n",
              "      <td>3.352587</td>\n",
              "      <td>14.713713</td>\n",
              "      <td>15.045465</td>\n",
              "    </tr>\n",
              "    <tr>\n",
              "      <th>std</th>\n",
              "      <td>37493.270818</td>\n",
              "      <td>15.119360</td>\n",
              "      <td>1027.115606</td>\n",
              "      <td>1.392983</td>\n",
              "      <td>1.527224</td>\n",
              "      <td>1.443729</td>\n",
              "      <td>1.305970</td>\n",
              "      <td>1.318818</td>\n",
              "      <td>1.346059</td>\n",
              "      <td>1.306511</td>\n",
              "      <td>1.305560</td>\n",
              "      <td>1.270836</td>\n",
              "      <td>1.292226</td>\n",
              "      <td>1.156483</td>\n",
              "      <td>1.260582</td>\n",
              "      <td>1.151774</td>\n",
              "      <td>1.298715</td>\n",
              "      <td>38.071126</td>\n",
              "      <td>38.416353</td>\n",
              "    </tr>\n",
              "    <tr>\n",
              "      <th>min</th>\n",
              "      <td>1.000000</td>\n",
              "      <td>7.000000</td>\n",
              "      <td>50.000000</td>\n",
              "      <td>0.000000</td>\n",
              "      <td>0.000000</td>\n",
              "      <td>0.000000</td>\n",
              "      <td>0.000000</td>\n",
              "      <td>0.000000</td>\n",
              "      <td>0.000000</td>\n",
              "      <td>0.000000</td>\n",
              "      <td>0.000000</td>\n",
              "      <td>0.000000</td>\n",
              "      <td>0.000000</td>\n",
              "      <td>1.000000</td>\n",
              "      <td>0.000000</td>\n",
              "      <td>0.000000</td>\n",
              "      <td>0.000000</td>\n",
              "      <td>0.000000</td>\n",
              "      <td>0.000000</td>\n",
              "    </tr>\n",
              "    <tr>\n",
              "      <th>25%</th>\n",
              "      <td>32470.750000</td>\n",
              "      <td>27.000000</td>\n",
              "      <td>1359.000000</td>\n",
              "      <td>2.000000</td>\n",
              "      <td>2.000000</td>\n",
              "      <td>2.000000</td>\n",
              "      <td>2.000000</td>\n",
              "      <td>2.000000</td>\n",
              "      <td>2.000000</td>\n",
              "      <td>3.000000</td>\n",
              "      <td>2.000000</td>\n",
              "      <td>3.000000</td>\n",
              "      <td>2.000000</td>\n",
              "      <td>3.000000</td>\n",
              "      <td>3.000000</td>\n",
              "      <td>3.000000</td>\n",
              "      <td>2.000000</td>\n",
              "      <td>0.000000</td>\n",
              "      <td>0.000000</td>\n",
              "    </tr>\n",
              "    <tr>\n",
              "      <th>50%</th>\n",
              "      <td>64940.500000</td>\n",
              "      <td>40.000000</td>\n",
              "      <td>1925.000000</td>\n",
              "      <td>3.000000</td>\n",
              "      <td>3.000000</td>\n",
              "      <td>3.000000</td>\n",
              "      <td>3.000000</td>\n",
              "      <td>3.000000</td>\n",
              "      <td>4.000000</td>\n",
              "      <td>4.000000</td>\n",
              "      <td>4.000000</td>\n",
              "      <td>4.000000</td>\n",
              "      <td>4.000000</td>\n",
              "      <td>4.000000</td>\n",
              "      <td>3.000000</td>\n",
              "      <td>4.000000</td>\n",
              "      <td>4.000000</td>\n",
              "      <td>0.000000</td>\n",
              "      <td>0.000000</td>\n",
              "    </tr>\n",
              "    <tr>\n",
              "      <th>75%</th>\n",
              "      <td>97410.250000</td>\n",
              "      <td>51.000000</td>\n",
              "      <td>2544.000000</td>\n",
              "      <td>4.000000</td>\n",
              "      <td>4.000000</td>\n",
              "      <td>4.000000</td>\n",
              "      <td>4.000000</td>\n",
              "      <td>4.000000</td>\n",
              "      <td>4.000000</td>\n",
              "      <td>5.000000</td>\n",
              "      <td>5.000000</td>\n",
              "      <td>4.000000</td>\n",
              "      <td>5.000000</td>\n",
              "      <td>5.000000</td>\n",
              "      <td>4.000000</td>\n",
              "      <td>5.000000</td>\n",
              "      <td>4.000000</td>\n",
              "      <td>12.000000</td>\n",
              "      <td>13.000000</td>\n",
              "    </tr>\n",
              "    <tr>\n",
              "      <th>max</th>\n",
              "      <td>129880.000000</td>\n",
              "      <td>85.000000</td>\n",
              "      <td>6951.000000</td>\n",
              "      <td>5.000000</td>\n",
              "      <td>5.000000</td>\n",
              "      <td>5.000000</td>\n",
              "      <td>5.000000</td>\n",
              "      <td>5.000000</td>\n",
              "      <td>5.000000</td>\n",
              "      <td>5.000000</td>\n",
              "      <td>5.000000</td>\n",
              "      <td>5.000000</td>\n",
              "      <td>5.000000</td>\n",
              "      <td>5.000000</td>\n",
              "      <td>5.000000</td>\n",
              "      <td>5.000000</td>\n",
              "      <td>5.000000</td>\n",
              "      <td>1592.000000</td>\n",
              "      <td>1584.000000</td>\n",
              "    </tr>\n",
              "  </tbody>\n",
              "</table>\n",
              "</div>\n",
              "      <button class=\"colab-df-convert\" onclick=\"convertToInteractive('df-7a05cdca-25fb-4529-a436-7e3ca382a9a9')\"\n",
              "              title=\"Convert this dataframe to an interactive table.\"\n",
              "              style=\"display:none;\">\n",
              "        \n",
              "  <svg xmlns=\"http://www.w3.org/2000/svg\" height=\"24px\"viewBox=\"0 0 24 24\"\n",
              "       width=\"24px\">\n",
              "    <path d=\"M0 0h24v24H0V0z\" fill=\"none\"/>\n",
              "    <path d=\"M18.56 5.44l.94 2.06.94-2.06 2.06-.94-2.06-.94-.94-2.06-.94 2.06-2.06.94zm-11 1L8.5 8.5l.94-2.06 2.06-.94-2.06-.94L8.5 2.5l-.94 2.06-2.06.94zm10 10l.94 2.06.94-2.06 2.06-.94-2.06-.94-.94-2.06-.94 2.06-2.06.94z\"/><path d=\"M17.41 7.96l-1.37-1.37c-.4-.4-.92-.59-1.43-.59-.52 0-1.04.2-1.43.59L10.3 9.45l-7.72 7.72c-.78.78-.78 2.05 0 2.83L4 21.41c.39.39.9.59 1.41.59.51 0 1.02-.2 1.41-.59l7.78-7.78 2.81-2.81c.8-.78.8-2.07 0-2.86zM5.41 20L4 18.59l7.72-7.72 1.47 1.35L5.41 20z\"/>\n",
              "  </svg>\n",
              "      </button>\n",
              "      \n",
              "  <style>\n",
              "    .colab-df-container {\n",
              "      display:flex;\n",
              "      flex-wrap:wrap;\n",
              "      gap: 12px;\n",
              "    }\n",
              "\n",
              "    .colab-df-convert {\n",
              "      background-color: #E8F0FE;\n",
              "      border: none;\n",
              "      border-radius: 50%;\n",
              "      cursor: pointer;\n",
              "      display: none;\n",
              "      fill: #1967D2;\n",
              "      height: 32px;\n",
              "      padding: 0 0 0 0;\n",
              "      width: 32px;\n",
              "    }\n",
              "\n",
              "    .colab-df-convert:hover {\n",
              "      background-color: #E2EBFA;\n",
              "      box-shadow: 0px 1px 2px rgba(60, 64, 67, 0.3), 0px 1px 3px 1px rgba(60, 64, 67, 0.15);\n",
              "      fill: #174EA6;\n",
              "    }\n",
              "\n",
              "    [theme=dark] .colab-df-convert {\n",
              "      background-color: #3B4455;\n",
              "      fill: #D2E3FC;\n",
              "    }\n",
              "\n",
              "    [theme=dark] .colab-df-convert:hover {\n",
              "      background-color: #434B5C;\n",
              "      box-shadow: 0px 1px 3px 1px rgba(0, 0, 0, 0.15);\n",
              "      filter: drop-shadow(0px 1px 2px rgba(0, 0, 0, 0.3));\n",
              "      fill: #FFFFFF;\n",
              "    }\n",
              "  </style>\n",
              "\n",
              "      <script>\n",
              "        const buttonEl =\n",
              "          document.querySelector('#df-7a05cdca-25fb-4529-a436-7e3ca382a9a9 button.colab-df-convert');\n",
              "        buttonEl.style.display =\n",
              "          google.colab.kernel.accessAllowed ? 'block' : 'none';\n",
              "\n",
              "        async function convertToInteractive(key) {\n",
              "          const element = document.querySelector('#df-7a05cdca-25fb-4529-a436-7e3ca382a9a9');\n",
              "          const dataTable =\n",
              "            await google.colab.kernel.invokeFunction('convertToInteractive',\n",
              "                                                     [key], {});\n",
              "          if (!dataTable) return;\n",
              "\n",
              "          const docLinkHtml = 'Like what you see? Visit the ' +\n",
              "            '<a target=\"_blank\" href=https://colab.research.google.com/notebooks/data_table.ipynb>data table notebook</a>'\n",
              "            + ' to learn more about interactive tables.';\n",
              "          element.innerHTML = '';\n",
              "          dataTable['output_type'] = 'display_data';\n",
              "          await google.colab.output.renderOutput(dataTable, element);\n",
              "          const docLink = document.createElement('div');\n",
              "          docLink.innerHTML = docLinkHtml;\n",
              "          element.appendChild(docLink);\n",
              "        }\n",
              "      </script>\n",
              "    </div>\n",
              "  </div>\n",
              "  "
            ]
          },
          "metadata": {},
          "execution_count": 27
        }
      ]
    },
    {
      "cell_type": "code",
      "source": [
        "data.columns\n",
        "series = (data.isnull()).sum(axis=0)\n",
        "series.plot.bar(stacked = True)\n",
        "\n",
        "#sns.histplot(data=series, x=\"flipper_length_mm\")"
      ],
      "metadata": {
        "colab": {
          "base_uri": "https://localhost:8080/",
          "height": 443
        },
        "id": "q1j8WAzZLh0S",
        "outputId": "e9da8c24-b656-4bbc-ecae-b38ea153e533"
      },
      "execution_count": 23,
      "outputs": [
        {
          "output_type": "execute_result",
          "data": {
            "text/plain": [
              "<matplotlib.axes._subplots.AxesSubplot at 0x7fc8c9154820>"
            ]
          },
          "metadata": {},
          "execution_count": 23
        },
        {
          "output_type": "display_data",
          "data": {
            "text/plain": [
              "<Figure size 432x288 with 1 Axes>"
            ],
            "image/png": "[encoded data removed]"
          },
          "metadata": {
            "needs_background": "light"
          }
        }
      ]
    },
    {
      "cell_type": "code",
      "source": [
        "data['Arrival Delay in Minutes'].fillna(data['Arrival Delay in Minutes'].median(axis = 0), inplace = True)\n",
        "data.isnull().sum()"
      ],
      "metadata": {
        "colab": {
          "base_uri": "https://localhost:8080/"
        },
        "id": "nlwxeu-vM1QF",
        "outputId": "3af12ed7-2f68-498e-86ca-dd4a109eb131"
      },
      "execution_count": 24,
      "outputs": [
        {
          "output_type": "execute_result",
          "data": {
            "text/plain": [
              "id                                   0\n",
              "satisfaction                         0\n",
              "Gender                               0\n",
              "Customer Type                        0\n",
              "Age                                  0\n",
              "Type of Travel                       0\n",
              "Class                                0\n",
              "Flight Distance                      0\n",
              "Seat comfort                         0\n",
              "Departure/Arrival time convenient    0\n",
              "Food and drink                       0\n",
              "Gate location                        0\n",
              "Inflight wifi service                0\n",
              "Inflight entertainment               0\n",
              "Online support                       0\n",
              "Ease of Online booking               0\n",
              "On-board service                     0\n",
              "Leg room service                     0\n",
              "Baggage handling                     0\n",
              "Checkin service                      0\n",
              "Cleanliness                          0\n",
              "Online boarding                      0\n",
              "Departure Delay in Minutes           0\n",
              "Arrival Delay in Minutes             0\n",
              "dtype: int64"
            ]
          },
          "metadata": {},
          "execution_count": 24
        }
      ]
    },
    {
      "cell_type": "markdown",
      "source": [
        "The Arrival Delay with null values were replaced by the median of the values in the column"
      ],
      "metadata": {
        "id": "6xBYQhxZNOTM"
      }
    },
    {
      "cell_type": "code",
      "source": [
        "data.describe()"
      ],
      "metadata": {
        "colab": {
          "base_uri": "https://localhost:8080/",
          "height": 399
        },
        "id": "xO-BkoqeM-DD",
        "outputId": "edf3d807-66df-4dc0-f793-a9616de3ef66"
      },
      "execution_count": 26,
      "outputs": [
        {
          "output_type": "execute_result",
          "data": {
            "text/plain": [
              "                  id            Age  Flight Distance   Seat comfort  \\\n",
              "count  129880.000000  129880.000000    129880.000000  129880.000000   \n",
              "mean    64940.500000      39.427957      1981.409055       2.838597   \n",
              "std     37493.270818      15.119360      1027.115606       1.392983   \n",
              "min         1.000000       7.000000        50.000000       0.000000   \n",
              "25%     32470.750000      27.000000      1359.000000       2.000000   \n",
              "50%     64940.500000      40.000000      1925.000000       3.000000   \n",
              "75%     97410.250000      51.000000      2544.000000       4.000000   \n",
              "max    129880.000000      85.000000      6951.000000       5.000000   \n",
              "\n",
              "       Departure/Arrival time convenient  Food and drink  Gate location  \\\n",
              "count                      129880.000000   129880.000000  129880.000000   \n",
              "mean                            2.990645        2.851994       2.990422   \n",
              "std                             1.527224        1.443729       1.305970   \n",
              "min                             0.000000        0.000000       0.000000   \n",
              "25%                             2.000000        2.000000       2.000000   \n",
              "50%                             3.000000        3.000000       3.000000   \n",
              "75%                             4.000000        4.000000       4.000000   \n",
              "max                             5.000000        5.000000       5.000000   \n",
              "\n",
              "       Inflight wifi service  Inflight entertainment  Online support  \\\n",
              "count          129880.000000           129880.000000   129880.000000   \n",
              "mean                3.249130                3.383477        3.519703   \n",
              "std                 1.318818                1.346059        1.306511   \n",
              "min                 0.000000                0.000000        0.000000   \n",
              "25%                 2.000000                2.000000        3.000000   \n",
              "50%                 3.000000                4.000000        4.000000   \n",
              "75%                 4.000000                4.000000        5.000000   \n",
              "max                 5.000000                5.000000        5.000000   \n",
              "\n",
              "       Ease of Online booking  On-board service  Leg room service  \\\n",
              "count           129880.000000     129880.000000     129880.000000   \n",
              "mean                 3.472105          3.465075          3.485902   \n",
              "std                  1.305560          1.270836          1.292226   \n",
              "min                  0.000000          0.000000          0.000000   \n",
              "25%                  2.000000          3.000000          2.000000   \n",
              "50%                  4.000000          4.000000          4.000000   \n",
              "75%                  5.000000          4.000000          5.000000   \n",
              "max                  5.000000          5.000000          5.000000   \n",
              "\n",
              "       Baggage handling  Checkin service    Cleanliness  Online boarding  \\\n",
              "count     129880.000000    129880.000000  129880.000000    129880.000000   \n",
              "mean           3.695673         3.340807       3.705759         3.352587   \n",
              "std            1.156483         1.260582       1.151774         1.298715   \n",
              "min            1.000000         0.000000       0.000000         0.000000   \n",
              "25%            3.000000         3.000000       3.000000         2.000000   \n",
              "50%            4.000000         3.000000       4.000000         4.000000   \n",
              "75%            5.000000         4.000000       5.000000         4.000000   \n",
              "max            5.000000         5.000000       5.000000         5.000000   \n",
              "\n",
              "       Departure Delay in Minutes  Arrival Delay in Minutes  \n",
              "count               129880.000000             129880.000000  \n",
              "mean                    14.713713                 15.045465  \n",
              "std                     38.071126                 38.416353  \n",
              "min                      0.000000                  0.000000  \n",
              "25%                      0.000000                  0.000000  \n",
              "50%                      0.000000                  0.000000  \n",
              "75%                     12.000000                 13.000000  \n",
              "max                   1592.000000               1584.000000  "
            ],
            "text/html": [
              "\n",
              "  <div id=\"df-337f6d6c-ca2b-449a-9ee8-1db1072760ab\">\n",
              "    <div class=\"colab-df-container\">\n",
              "      <div>\n",
              "<style scoped>\n",
              "    .dataframe tbody tr th:only-of-type {\n",
              "        vertical-align: middle;\n",
              "    }\n",
              "\n",
              "    .dataframe tbody tr th {\n",
              "        vertical-align: top;\n",
              "    }\n",
              "\n",
              "    .dataframe thead th {\n",
              "        text-align: right;\n",
              "    }\n",
              "</style>\n",
              "<table border=\"1\" class=\"dataframe\">\n",
              "  <thead>\n",
              "    <tr style=\"text-align: right;\">\n",
              "      <th></th>\n",
              "      <th>id</th>\n",
              "      <th>Age</th>\n",
              "      <th>Flight Distance</th>\n",
              "      <th>Seat comfort</th>\n",
              "      <th>Departure/Arrival time convenient</th>\n",
              "      <th>Food and drink</th>\n",
              "      <th>Gate location</th>\n",
              "      <th>Inflight wifi service</th>\n",
              "      <th>Inflight entertainment</th>\n",
              "      <th>Online support</th>\n",
              "      <th>Ease of Online booking</th>\n",
              "      <th>On-board service</th>\n",
              "      <th>Leg room service</th>\n",
              "      <th>Baggage handling</th>\n",
              "      <th>Checkin service</th>\n",
              "      <th>Cleanliness</th>\n",
              "      <th>Online boarding</th>\n",
              "      <th>Departure Delay in Minutes</th>\n",
              "      <th>Arrival Delay in Minutes</th>\n",
              "    </tr>\n",
              "  </thead>\n",
              "  <tbody>\n",
              "    <tr>\n",
              "      <th>count</th>\n",
              "      <td>129880.000000</td>\n",
              "      <td>129880.000000</td>\n",
              "      <td>129880.000000</td>\n",
              "      <td>129880.000000</td>\n",
              "      <td>129880.000000</td>\n",
              "      <td>129880.000000</td>\n",
              "      <td>129880.000000</td>\n",
              "      <td>129880.000000</td>\n",
              "      <td>129880.000000</td>\n",
              "      <td>129880.000000</td>\n",
              "      <td>129880.000000</td>\n",
              "      <td>129880.000000</td>\n",
              "      <td>129880.000000</td>\n",
              "      <td>129880.000000</td>\n",
              "      <td>129880.000000</td>\n",
              "      <td>129880.000000</td>\n",
              "      <td>129880.000000</td>\n",
              "      <td>129880.000000</td>\n",
              "      <td>129880.000000</td>\n",
              "    </tr>\n",
              "    <tr>\n",
              "      <th>mean</th>\n",
              "      <td>64940.500000</td>\n",
              "      <td>39.427957</td>\n",
              "      <td>1981.409055</td>\n",
              "      <td>2.838597</td>\n",
              "      <td>2.990645</td>\n",
              "      <td>2.851994</td>\n",
              "      <td>2.990422</td>\n",
              "      <td>3.249130</td>\n",
              "      <td>3.383477</td>\n",
              "      <td>3.519703</td>\n",
              "      <td>3.472105</td>\n",
              "      <td>3.465075</td>\n",
              "      <td>3.485902</td>\n",
              "      <td>3.695673</td>\n",
              "      <td>3.340807</td>\n",
              "      <td>3.705759</td>\n",
              "      <td>3.352587</td>\n",
              "      <td>14.713713</td>\n",
              "      <td>15.045465</td>\n",
              "    </tr>\n",
              "    <tr>\n",
              "      <th>std</th>\n",
              "      <td>37493.270818</td>\n",
              "      <td>15.119360</td>\n",
              "      <td>1027.115606</td>\n",
              "      <td>1.392983</td>\n",
              "      <td>1.527224</td>\n",
              "      <td>1.443729</td>\n",
              "      <td>1.305970</td>\n",
              "      <td>1.318818</td>\n",
              "      <td>1.346059</td>\n",
              "      <td>1.306511</td>\n",
              "      <td>1.305560</td>\n",
              "      <td>1.270836</td>\n",
              "      <td>1.292226</td>\n",
              "      <td>1.156483</td>\n",
              "      <td>1.260582</td>\n",
              "      <td>1.151774</td>\n",
              "      <td>1.298715</td>\n",
              "      <td>38.071126</td>\n",
              "      <td>38.416353</td>\n",
              "    </tr>\n",
              "    <tr>\n",
              "      <th>min</th>\n",
              "      <td>1.000000</td>\n",
              "      <td>7.000000</td>\n",
              "      <td>50.000000</td>\n",
              "      <td>0.000000</td>\n",
              "      <td>0.000000</td>\n",
              "      <td>0.000000</td>\n",
              "      <td>0.000000</td>\n",
              "      <td>0.000000</td>\n",
              "      <td>0.000000</td>\n",
              "      <td>0.000000</td>\n",
              "      <td>0.000000</td>\n",
              "      <td>0.000000</td>\n",
              "      <td>0.000000</td>\n",
              "      <td>1.000000</td>\n",
              "      <td>0.000000</td>\n",
              "      <td>0.000000</td>\n",
              "      <td>0.000000</td>\n",
              "      <td>0.000000</td>\n",
              "      <td>0.000000</td>\n",
              "    </tr>\n",
              "    <tr>\n",
              "      <th>25%</th>\n",
              "      <td>32470.750000</td>\n",
              "      <td>27.000000</td>\n",
              "      <td>1359.000000</td>\n",
              "      <td>2.000000</td>\n",
              "      <td>2.000000</td>\n",
              "      <td>2.000000</td>\n",
              "      <td>2.000000</td>\n",
              "      <td>2.000000</td>\n",
              "      <td>2.000000</td>\n",
              "      <td>3.000000</td>\n",
              "      <td>2.000000</td>\n",
              "      <td>3.000000</td>\n",
              "      <td>2.000000</td>\n",
              "      <td>3.000000</td>\n",
              "      <td>3.000000</td>\n",
              "      <td>3.000000</td>\n",
              "      <td>2.000000</td>\n",
              "      <td>0.000000</td>\n",
              "      <td>0.000000</td>\n",
              "    </tr>\n",
              "    <tr>\n",
              "      <th>50%</th>\n",
              "      <td>64940.500000</td>\n",
              "      <td>40.000000</td>\n",
              "      <td>1925.000000</td>\n",
              "      <td>3.000000</td>\n",
              "      <td>3.000000</td>\n",
              "      <td>3.000000</td>\n",
              "      <td>3.000000</td>\n",
              "      <td>3.000000</td>\n",
              "      <td>4.000000</td>\n",
              "      <td>4.000000</td>\n",
              "      <td>4.000000</td>\n",
              "      <td>4.000000</td>\n",
              "      <td>4.000000</td>\n",
              "      <td>4.000000</td>\n",
              "      <td>3.000000</td>\n",
              "      <td>4.000000</td>\n",
              "      <td>4.000000</td>\n",
              "      <td>0.000000</td>\n",
              "      <td>0.000000</td>\n",
              "    </tr>\n",
              "    <tr>\n",
              "      <th>75%</th>\n",
              "      <td>97410.250000</td>\n",
              "      <td>51.000000</td>\n",
              "      <td>2544.000000</td>\n",
              "      <td>4.000000</td>\n",
              "      <td>4.000000</td>\n",
              "      <td>4.000000</td>\n",
              "      <td>4.000000</td>\n",
              "      <td>4.000000</td>\n",
              "      <td>4.000000</td>\n",
              "      <td>5.000000</td>\n",
              "      <td>5.000000</td>\n",
              "      <td>4.000000</td>\n",
              "      <td>5.000000</td>\n",
              "      <td>5.000000</td>\n",
              "      <td>4.000000</td>\n",
              "      <td>5.000000</td>\n",
              "      <td>4.000000</td>\n",
              "      <td>12.000000</td>\n",
              "      <td>13.000000</td>\n",
              "    </tr>\n",
              "    <tr>\n",
              "      <th>max</th>\n",
              "      <td>129880.000000</td>\n",
              "      <td>85.000000</td>\n",
              "      <td>6951.000000</td>\n",
              "      <td>5.000000</td>\n",
              "      <td>5.000000</td>\n",
              "      <td>5.000000</td>\n",
              "      <td>5.000000</td>\n",
              "      <td>5.000000</td>\n",
              "      <td>5.000000</td>\n",
              "      <td>5.000000</td>\n",
              "      <td>5.000000</td>\n",
              "      <td>5.000000</td>\n",
              "      <td>5.000000</td>\n",
              "      <td>5.000000</td>\n",
              "      <td>5.000000</td>\n",
              "      <td>5.000000</td>\n",
              "      <td>5.000000</td>\n",
              "      <td>1592.000000</td>\n",
              "      <td>1584.000000</td>\n",
              "    </tr>\n",
              "  </tbody>\n",
              "</table>\n",
              "</div>\n",
              "      <button class=\"colab-df-convert\" onclick=\"convertToInteractive('df-337f6d6c-ca2b-449a-9ee8-1db1072760ab')\"\n",
              "              title=\"Convert this dataframe to an interactive table.\"\n",
              "              style=\"display:none;\">\n",
              "        \n",
              "  <svg xmlns=\"http://www.w3.org/2000/svg\" height=\"24px\"viewBox=\"0 0 24 24\"\n",
              "       width=\"24px\">\n",
              "    <path d=\"M0 0h24v24H0V0z\" fill=\"none\"/>\n",
              "    <path d=\"M18.56 5.44l.94 2.06.94-2.06 2.06-.94-2.06-.94-.94-2.06-.94 2.06-2.06.94zm-11 1L8.5 8.5l.94-2.06 2.06-.94-2.06-.94L8.5 2.5l-.94 2.06-2.06.94zm10 10l.94 2.06.94-2.06 2.06-.94-2.06-.94-.94-2.06-.94 2.06-2.06.94z\"/><path d=\"M17.41 7.96l-1.37-1.37c-.4-.4-.92-.59-1.43-.59-.52 0-1.04.2-1.43.59L10.3 9.45l-7.72 7.72c-.78.78-.78 2.05 0 2.83L4 21.41c.39.39.9.59 1.41.59.51 0 1.02-.2 1.41-.59l7.78-7.78 2.81-2.81c.8-.78.8-2.07 0-2.86zM5.41 20L4 18.59l7.72-7.72 1.47 1.35L5.41 20z\"/>\n",
              "  </svg>\n",
              "      </button>\n",
              "      \n",
              "  <style>\n",
              "    .colab-df-container {\n",
              "      display:flex;\n",
              "      flex-wrap:wrap;\n",
              "      gap: 12px;\n",
              "    }\n",
              "\n",
              "    .colab-df-convert {\n",
              "      background-color: #E8F0FE;\n",
              "      border: none;\n",
              "      border-radius: 50%;\n",
              "      cursor: pointer;\n",
              "      display: none;\n",
              "      fill: #1967D2;\n",
              "      height: 32px;\n",
              "      padding: 0 0 0 0;\n",
              "      width: 32px;\n",
              "    }\n",
              "\n",
              "    .colab-df-convert:hover {\n",
              "      background-color: #E2EBFA;\n",
              "      box-shadow: 0px 1px 2px rgba(60, 64, 67, 0.3), 0px 1px 3px 1px rgba(60, 64, 67, 0.15);\n",
              "      fill: #174EA6;\n",
              "    }\n",
              "\n",
              "    [theme=dark] .colab-df-convert {\n",
              "      background-color: #3B4455;\n",
              "      fill: #D2E3FC;\n",
              "    }\n",
              "\n",
              "    [theme=dark] .colab-df-convert:hover {\n",
              "      background-color: #434B5C;\n",
              "      box-shadow: 0px 1px 3px 1px rgba(0, 0, 0, 0.15);\n",
              "      filter: drop-shadow(0px 1px 2px rgba(0, 0, 0, 0.3));\n",
              "      fill: #FFFFFF;\n",
              "    }\n",
              "  </style>\n",
              "\n",
              "      <script>\n",
              "        const buttonEl =\n",
              "          document.querySelector('#df-337f6d6c-ca2b-449a-9ee8-1db1072760ab button.colab-df-convert');\n",
              "        buttonEl.style.display =\n",
              "          google.colab.kernel.accessAllowed ? 'block' : 'none';\n",
              "\n",
              "        async function convertToInteractive(key) {\n",
              "          const element = document.querySelector('#df-337f6d6c-ca2b-449a-9ee8-1db1072760ab');\n",
              "          const dataTable =\n",
              "            await google.colab.kernel.invokeFunction('convertToInteractive',\n",
              "                                                     [key], {});\n",
              "          if (!dataTable) return;\n",
              "\n",
              "          const docLinkHtml = 'Like what you see? Visit the ' +\n",
              "            '<a target=\"_blank\" href=https://colab.research.google.com/notebooks/data_table.ipynb>data table notebook</a>'\n",
              "            + ' to learn more about interactive tables.';\n",
              "          element.innerHTML = '';\n",
              "          dataTable['output_type'] = 'display_data';\n",
              "          await google.colab.output.renderOutput(dataTable, element);\n",
              "          const docLink = document.createElement('div');\n",
              "          docLink.innerHTML = docLinkHtml;\n",
              "          element.appendChild(docLink);\n",
              "        }\n",
              "      </script>\n",
              "    </div>\n",
              "  </div>\n",
              "  "
            ]
          },
          "metadata": {},
          "execution_count": 26
        }
      ]
    },
    {
      "cell_type": "code",
      "source": [
        "print(data.groupby('satisfaction').size())"
      ],
      "metadata": {
        "colab": {
          "base_uri": "https://localhost:8080/"
        },
        "id": "vKRuQ_XJN0ob",
        "outputId": "7436a745-a586-4361-9037-845887d09fae"
      },
      "execution_count": 28,
      "outputs": [
        {
          "output_type": "stream",
          "name": "stdout",
          "text": [
            "satisfaction\n",
            "neutral or dissatisfied    58793\n",
            "satisfied                  71087\n",
            "dtype: int64\n"
          ]
        }
      ]
    },
    {
      "cell_type": "code",
      "source": [
        "import seaborn as sns\n",
        "\n",
        "sns.countplot(data['satisfaction'],label=\"Count\")"
      ],
      "metadata": {
        "colab": {
          "base_uri": "https://localhost:8080/",
          "height": 296
        },
        "id": "a7hQ7DrjODJk",
        "outputId": "11291783-e029-450c-af6f-91fbf15717ba"
      },
      "execution_count": 30,
      "outputs": [
        {
          "output_type": "execute_result",
          "data": {
            "text/plain": [
              "<matplotlib.axes._subplots.AxesSubplot at 0x7fc8cd6887c0>"
            ]
          },
          "metadata": {},
          "execution_count": 30
        },
        {
          "output_type": "display_data",
          "data": {
            "text/plain": [
              "<Figure size 432x288 with 1 Axes>"
            ],
            "image/png": "[encoded data removed]"
          },
          "metadata": {
            "needs_background": "light"
          }
        }
      ]
    },
    {
      "cell_type": "code",
      "source": [
        "import matplotlib.pyplot as plt\n",
        "\n",
        "\n",
        "def autopct_format(values):\n",
        "        def my_format(pct):\n",
        "            total = sum(values)\n",
        "            val = int(round(pct*total/100.0))\n",
        "            return '{:.1f}%\\n({v:d})'.format(pct, v=val)\n",
        "        return my_format\n",
        "\n",
        "\n",
        "s = data['satisfaction'].value_counts()\n",
        "plt.pie(s,labels = s.index, autopct=autopct_format(s))"
      ],
      "metadata": {
        "colab": {
          "base_uri": "https://localhost:8080/",
          "height": 352
        },
        "id": "SPLpsBcFP4m-",
        "outputId": "3976b616-fe84-468d-a6fd-0b6d2c29446b"
      },
      "execution_count": 35,
      "outputs": [
        {
          "output_type": "execute_result",
          "data": {
            "text/plain": [
              "([<matplotlib.patches.Wedge at 0x7fc8cb6ad3d0>,\n",
              "  <matplotlib.patches.Wedge at 0x7fc8cb6ad8b0>],\n",
              " [Text(-0.16295287232566041, 1.0878632089563547, 'satisfied'),\n",
              "  Text(0.16295287232566005, -1.0878632089563547, 'neutral or dissatisfied')],\n",
              " [Text(-0.08888338490490567, 0.5933799321580115, '54.7%\\n(71087)'),\n",
              "  Text(0.08888338490490547, -0.5933799321580115, '45.3%\\n(58793)')])"
            ]
          },
          "metadata": {},
          "execution_count": 35
        },
        {
          "output_type": "display_data",
          "data": {
            "text/plain": [
              "<Figure size 432x288 with 1 Axes>"
            ],
            "image/png": "[encoded data removed]"
          },
          "metadata": {}
        }
      ]
    },
    {
      "cell_type": "code",
      "source": [
        "from sklearn.preprocessing import LabelEncoder\n",
        "encoder = LabelEncoder()"
      ],
      "metadata": {
        "id": "cpDjFV3AOKSD"
      },
      "execution_count": 36,
      "outputs": []
    },
    {
      "cell_type": "code",
      "source": [
        "def encodeColumn(parameter):\n",
        "    data[parameter] = encoder.fit_transform(data[parameter])"
      ],
      "metadata": {
        "id": "qYlNTvF4Uv19"
      },
      "execution_count": 37,
      "outputs": []
    },
    {
      "cell_type": "code",
      "source": [
        "listColumn = ['satisfaction']\n",
        "\n",
        "for i in listColumn:\n",
        "    encodeColumn(i)\n",
        "data.info()"
      ],
      "metadata": {
        "colab": {
          "base_uri": "https://localhost:8080/"
        },
        "id": "YdAhdDuiU9Yv",
        "outputId": "c7d2bb05-de42-43f2-8749-6415c9cd3dab"
      },
      "execution_count": 38,
      "outputs": [
        {
          "output_type": "stream",
          "name": "stdout",
          "text": [
            "<class 'pandas.core.frame.DataFrame'>\n",
            "RangeIndex: 129880 entries, 0 to 129879\n",
            "Data columns (total 24 columns):\n",
            " #   Column                             Non-Null Count   Dtype  \n",
            "---  ------                             --------------   -----  \n",
            " 0   id                                 129880 non-null  int64  \n",
            " 1   satisfaction                       129880 non-null  int64  \n",
            " 2   Gender                             129880 non-null  object \n",
            " 3   Customer Type                      129880 non-null  object \n",
            " 4   Age                                129880 non-null  int64  \n",
            " 5   Type of Travel                     129880 non-null  object \n",
            " 6   Class                              129880 non-null  object \n",
            " 7   Flight Distance                    129880 non-null  int64  \n",
            " 8   Seat comfort                       129880 non-null  int64  \n",
            " 9   Departure/Arrival time convenient  129880 non-null  int64  \n",
            " 10  Food and drink                     129880 non-null  int64  \n",
            " 11  Gate location                      129880 non-null  int64  \n",
            " 12  Inflight wifi service              129880 non-null  int64  \n",
            " 13  Inflight entertainment             129880 non-null  int64  \n",
            " 14  Online support                     129880 non-null  int64  \n",
            " 15  Ease of Online booking             129880 non-null  int64  \n",
            " 16  On-board service                   129880 non-null  int64  \n",
            " 17  Leg room service                   129880 non-null  int64  \n",
            " 18  Baggage handling                   129880 non-null  int64  \n",
            " 19  Checkin service                    129880 non-null  int64  \n",
            " 20  Cleanliness                        129880 non-null  int64  \n",
            " 21  Online boarding                    129880 non-null  int64  \n",
            " 22  Departure Delay in Minutes         129880 non-null  int64  \n",
            " 23  Arrival Delay in Minutes           129880 non-null  float64\n",
            "dtypes: float64(1), int64(19), object(4)\n",
            "memory usage: 23.8+ MB\n"
          ]
        }
      ]
    },
    {
      "cell_type": "code",
      "source": [
        "#data.drop(['id'], axis=1, inplace=True)\n",
        "data.info()"
      ],
      "metadata": {
        "colab": {
          "base_uri": "https://localhost:8080/"
        },
        "id": "3XERcSiDX_Zu",
        "outputId": "00b081e3-f078-4dda-da71-49371a0699c4"
      },
      "execution_count": 48,
      "outputs": [
        {
          "output_type": "stream",
          "name": "stdout",
          "text": [
            "<class 'pandas.core.frame.DataFrame'>\n",
            "RangeIndex: 129880 entries, 0 to 129879\n",
            "Data columns (total 23 columns):\n",
            " #   Column                             Non-Null Count   Dtype  \n",
            "---  ------                             --------------   -----  \n",
            " 0   satisfaction                       129880 non-null  int64  \n",
            " 1   Gender                             129880 non-null  object \n",
            " 2   Customer Type                      129880 non-null  object \n",
            " 3   Age                                129880 non-null  int64  \n",
            " 4   Type of Travel                     129880 non-null  object \n",
            " 5   Class                              129880 non-null  object \n",
            " 6   Flight Distance                    129880 non-null  int64  \n",
            " 7   Seat comfort                       129880 non-null  int64  \n",
            " 8   Departure/Arrival time convenient  129880 non-null  int64  \n",
            " 9   Food and drink                     129880 non-null  int64  \n",
            " 10  Gate location                      129880 non-null  int64  \n",
            " 11  Inflight wifi service              129880 non-null  int64  \n",
            " 12  Inflight entertainment             129880 non-null  int64  \n",
            " 13  Online support                     129880 non-null  int64  \n",
            " 14  Ease of Online booking             129880 non-null  int64  \n",
            " 15  On-board service                   129880 non-null  int64  \n",
            " 16  Leg room service                   129880 non-null  int64  \n",
            " 17  Baggage handling                   129880 non-null  int64  \n",
            " 18  Checkin service                    129880 non-null  int64  \n",
            " 19  Cleanliness                        129880 non-null  int64  \n",
            " 20  Online boarding                    129880 non-null  int64  \n",
            " 21  Departure Delay in Minutes         129880 non-null  int64  \n",
            " 22  Arrival Delay in Minutes           129880 non-null  float64\n",
            "dtypes: float64(1), int64(18), object(4)\n",
            "memory usage: 22.8+ MB\n"
          ]
        }
      ]
    },
    {
      "cell_type": "code",
      "source": [
        "from sklearn.model_selection import train_test_split\n",
        "\n",
        "X_train, X_test, y_train, y_test = train_test_split(data.loc[:, data.columns != 'satisfaction'], data['satisfaction'], stratify=data['satisfaction'], random_state=66)\n",
        "     "
      ],
      "metadata": {
        "id": "qKXRSg_ZZjJY"
      },
      "execution_count": 49,
      "outputs": []
    },
    {
      "cell_type": "code",
      "source": [
        "data.Class.value_counts(normalize=True)\n",
        "\n"
      ],
      "metadata": {
        "colab": {
          "base_uri": "https://localhost:8080/"
        },
        "id": "6f75Af5Nawfd",
        "outputId": "27dfa94d-5024-4c26-f163-8058b0c260a8"
      },
      "execution_count": 52,
      "outputs": [
        {
          "output_type": "execute_result",
          "data": {
            "text/plain": [
              "Business    0.478596\n",
              "Eco         0.448945\n",
              "Eco Plus    0.072459\n",
              "Name: Class, dtype: float64"
            ]
          },
          "metadata": {},
          "execution_count": 52
        }
      ]
    },
    {
      "cell_type": "code",
      "source": [
        "data_eco = data[data['Class']=='Eco']\n",
        "data_eco1 = data[data['Class']=='Eco Plus']\n",
        "data_bus = data[data['Class']=='Business']"
      ],
      "metadata": {
        "id": "XFquSx0Ugc5L"
      },
      "execution_count": 53,
      "outputs": []
    },
    {
      "cell_type": "code",
      "source": [
        "sns.set_style('whitegrid')\n",
        "sns.set_context(\"paper\", font_scale=1.3)\n",
        "fig,ax = plt.subplots(1,1,figsize=(18,9))\n",
        "sns.countplot(data=data_eco1,x='Age')\n",
        "ax.set_title('Customer Count by Age in Economy Plus Class')\n",
        "plt.tight_layout()\n",
        "plt.show()"
      ],
      "metadata": {
        "colab": {
          "base_uri": "https://localhost:8080/",
          "height": 484
        },
        "id": "_5r_HhNCZyO-",
        "outputId": "5d2e2474-ea51-441f-946b-22ae9de9cd40"
      },
      "execution_count": 54,
      "outputs": [
        {
          "output_type": "display_data",
          "data": {
            "text/plain": [
              "<Figure size 1296x648 with 1 Axes>"
            ],
            "image/png": "[encoded data removed]"
          },
          "metadata": {}
        }
      ]
    },
    {
      "cell_type": "code",
      "source": [
        "sns.set_style('whitegrid')\n",
        "sns.set_context(\"paper\", font_scale=1.3)\n",
        "fig,ax = plt.subplots(1,1,figsize=(18,9))\n",
        "sns.countplot(data=data_eco,x='Age')\n",
        "ax.set_title('Customer Count by Age in Economy Class')\n",
        "plt.tight_layout()\n",
        "plt.show()"
      ],
      "metadata": {
        "colab": {
          "base_uri": "https://localhost:8080/",
          "height": 672
        },
        "id": "APH98FxlhcKg",
        "outputId": "752d6dcf-91c4-4633-b53c-0dd7e8cc81a3"
      },
      "execution_count": 55,
      "outputs": [
        {
          "output_type": "display_data",
          "data": {
            "text/plain": [
              "<Figure size 1296x648 with 1 Axes>"
            ],
            "image/png": "[encoded data removed]"
          },
          "metadata": {}
        }
      ]
    },
    {
      "cell_type": "code",
      "source": [
        "sns.set_style('whitegrid')\n",
        "sns.set_context(\"paper\", font_scale=1.3)\n",
        "fig,ax = plt.subplots(1,1,figsize=(18,9))\n",
        "sns.countplot(data=data_bus,x='Age')\n",
        "ax.set_title('Customer Count by Age in Business Class')\n",
        "plt.tight_layout()\n",
        "plt.show()"
      ],
      "metadata": {
        "colab": {
          "base_uri": "https://localhost:8080/",
          "height": 672
        },
        "id": "eVf_PSDOhyFw",
        "outputId": "eaa33048-9e4e-4cfd-df41-88357c078d87"
      },
      "execution_count": 57,
      "outputs": [
        {
          "output_type": "display_data",
          "data": {
            "text/plain": [
              "<Figure size 1296x648 with 1 Axes>"
            ],
            "image/png": "[encoded data removed]"
          },
          "metadata": {}
        }
      ]
    },
    {
      "cell_type": "code",
      "source": [
        "data['Customer Type'].value_counts()"
      ],
      "metadata": {
        "colab": {
          "base_uri": "https://localhost:8080/"
        },
        "id": "JaWzoF91iX5Y",
        "outputId": "6ab0aca0-cff1-4ab4-ea51-546b565f4057"
      },
      "execution_count": 59,
      "outputs": [
        {
          "output_type": "execute_result",
          "data": {
            "text/plain": [
              "Loyal Customer       106100\n",
              "disloyal Customer     23780\n",
              "Name: Customer Type, dtype: int64"
            ]
          },
          "metadata": {},
          "execution_count": 59
        }
      ]
    },
    {
      "cell_type": "code",
      "source": [
        "data['Class'].value_counts()"
      ],
      "metadata": {
        "colab": {
          "base_uri": "https://localhost:8080/"
        },
        "id": "wbEistpfjp8w",
        "outputId": "016dc1ef-0327-4ec0-9f12-5261c2f1fd46"
      },
      "execution_count": 60,
      "outputs": [
        {
          "output_type": "execute_result",
          "data": {
            "text/plain": [
              "Business    62160\n",
              "Eco         58309\n",
              "Eco Plus     9411\n",
              "Name: Class, dtype: int64"
            ]
          },
          "metadata": {},
          "execution_count": 60
        }
      ]
    },
    {
      "cell_type": "code",
      "source": [
        "data['Type of Travel'].value_counts()"
      ],
      "metadata": {
        "colab": {
          "base_uri": "https://localhost:8080/"
        },
        "id": "aeYVtxVdjxkh",
        "outputId": "d609825d-3d97-43d4-b011-52321fff3963"
      },
      "execution_count": 61,
      "outputs": [
        {
          "output_type": "execute_result",
          "data": {
            "text/plain": [
              "Business travel    89693\n",
              "Personal Travel    40187\n",
              "Name: Type of Travel, dtype: int64"
            ]
          },
          "metadata": {},
          "execution_count": 61
        }
      ]
    },
    {
      "cell_type": "code",
      "source": [
        "data_loyal = data[data['Customer Type'] == 'Loyal Customer']"
      ],
      "metadata": {
        "id": "7fXd_ToOj2q6"
      },
      "execution_count": 62,
      "outputs": []
    },
    {
      "cell_type": "code",
      "source": [
        "#Loyal Customer\n",
        "\n",
        "sns.set_style('whitegrid')\n",
        "sns.set_context(\"paper\", font_scale=1.3)\n",
        "fig,ax = plt.subplots(1,1,figsize=(18,9))\n",
        "sns.countplot(data=data_loyal,x='Age')\n",
        "ax.set_title('Customer Count by Age in Loyal Customer')\n",
        "plt.tight_layout()\n",
        "plt.show()"
      ],
      "metadata": {
        "colab": {
          "base_uri": "https://localhost:8080/",
          "height": 672
        },
        "id": "m1i0TBR8j6gS",
        "outputId": "f40aa17d-3a33-4f59-d5f1-01bcf2e22519"
      },
      "execution_count": 63,
      "outputs": [
        {
          "output_type": "display_data",
          "data": {
            "text/plain": [
              "<Figure size 1296x648 with 1 Axes>"
            ],
            "image/png": "[encoded data removed]"
          },
          "metadata": {}
        }
      ]
    },
    {
      "cell_type": "code",
      "source": [
        "data['Customer Type'].value_counts(normalize=True)"
      ],
      "metadata": {
        "colab": {
          "base_uri": "https://localhost:8080/"
        },
        "id": "8ca-cqROkk7S",
        "outputId": "37324b9b-67b2-4c4c-ca0f-8de4005504e3"
      },
      "execution_count": 66,
      "outputs": [
        {
          "output_type": "execute_result",
          "data": {
            "text/plain": [
              "Loyal Customer       0.816908\n",
              "disloyal Customer    0.183092\n",
              "Name: Customer Type, dtype: float64"
            ]
          },
          "metadata": {},
          "execution_count": 66
        }
      ]
    },
    {
      "cell_type": "code",
      "source": [
        "sns.set_style('whitegrid')\n",
        "sns.set_context(\"paper\", font_scale=1.3)\n",
        "fig,ax = plt.subplots(1,1,figsize=(8,6))\n",
        "sns.countplot(data=data_loyal,x='Class',palette='Set2')\n",
        "ax.set_title('Loyal Customer Count by Class')\n",
        "plt.tight_layout()\n",
        "plt.show()"
      ],
      "metadata": {
        "colab": {
          "base_uri": "https://localhost:8080/",
          "height": 436
        },
        "id": "NEk7TzLXk5_j",
        "outputId": "2ae9634d-a3fc-4e80-b67d-e4aa583dddbb"
      },
      "execution_count": 67,
      "outputs": [
        {
          "output_type": "display_data",
          "data": {
            "text/plain": [
              "<Figure size 576x432 with 1 Axes>"
            ],
            "image/png": "[encoded data removed]"
          },
          "metadata": {}
        }
      ]
    },
    {
      "cell_type": "code",
      "source": [
        "data['Type of Travel'].value_counts(normalize=True)"
      ],
      "metadata": {
        "colab": {
          "base_uri": "https://localhost:8080/"
        },
        "id": "KHFNNDvqlUw4",
        "outputId": "fcdf34a7-979d-418a-c8b6-f8541f8c3caf"
      },
      "execution_count": 68,
      "outputs": [
        {
          "output_type": "execute_result",
          "data": {
            "text/plain": [
              "Business travel    0.690584\n",
              "Personal Travel    0.309416\n",
              "Name: Type of Travel, dtype: float64"
            ]
          },
          "metadata": {},
          "execution_count": 68
        }
      ]
    },
    {
      "cell_type": "code",
      "source": [
        "data_typeB = data[data['Type of Travel'] == 'Business travel']\n",
        "data_typeP = data[data['Type of Travel'] == 'Personal Travel']"
      ],
      "metadata": {
        "id": "wiOqF-A2lW45"
      },
      "execution_count": 69,
      "outputs": []
    },
    {
      "cell_type": "code",
      "source": [
        "sns.set_style('whitegrid')\n",
        "sns.set_context(\"paper\", font_scale=1.3)\n",
        "fig,ax = plt.subplots(1,1,figsize=(8,6))\n",
        "sns.countplot(data=data_typeB,x='Class',palette='Set3')\n",
        "ax.set_title('Business Travel Type Count by Class')\n",
        "plt.tight_layout()\n",
        "plt.show()"
      ],
      "metadata": {
        "colab": {
          "base_uri": "https://localhost:8080/",
          "height": 436
        },
        "id": "8Mjgz1xHlgSx",
        "outputId": "1dac2453-4f22-4a90-d873-7e7e18f15fdf"
      },
      "execution_count": 70,
      "outputs": [
        {
          "output_type": "display_data",
          "data": {
            "text/plain": [
              "<Figure size 576x432 with 1 Axes>"
            ],
            "image/png": "[encoded data removed]"
          },
          "metadata": {}
        }
      ]
    },
    {
      "cell_type": "code",
      "source": [
        "fig = plt.figure(figsize=(18,10))\n",
        "sns.heatmap(data.corr(),annot=True)\n",
        "plt.tight_layout()"
      ],
      "metadata": {
        "colab": {
          "base_uri": "https://localhost:8080/",
          "height": 744
        },
        "id": "aIhZ1o70iQxI",
        "outputId": "7b7df056-ea9a-4479-f8ce-75249311e764"
      },
      "execution_count": 58,
      "outputs": [
        {
          "output_type": "display_data",
          "data": {
            "text/plain": [
              "<Figure size 1296x720 with 2 Axes>"
            ],
            "image/png": "[encoded data removed]"
          },
          "metadata": {}
        }
      ]
    },
    {
      "cell_type": "code",
      "source": [
        "y = data['satisfaction']\n",
        "x = data.drop(columns=['satisfaction','Flight Distance','Departure/Arrival time convenient',\n",
        "                    'Gate location', 'Departure Delay in Minutes','Arrival Delay in Minutes'], axis=1)"
      ],
      "metadata": {
        "id": "S9_1AAqBmZR6"
      },
      "execution_count": 73,
      "outputs": []
    },
    {
      "cell_type": "code",
      "source": [
        "x"
      ],
      "metadata": {
        "colab": {
          "base_uri": "https://localhost:8080/",
          "height": 696
        },
        "id": "dAZuLO9VmsZp",
        "outputId": "6b3ce34f-1a95-405c-9f2c-5f5ac3ed4022"
      },
      "execution_count": 74,
      "outputs": [
        {
          "output_type": "execute_result",
          "data": {
            "text/plain": [
              "        Gender      Customer Type  Age   Type of Travel     Class  \\\n",
              "0       Female     Loyal Customer   65  Personal Travel       Eco   \n",
              "1         Male     Loyal Customer   47  Personal Travel  Business   \n",
              "2       Female     Loyal Customer   15  Personal Travel       Eco   \n",
              "3       Female     Loyal Customer   60  Personal Travel       Eco   \n",
              "4       Female     Loyal Customer   70  Personal Travel       Eco   \n",
              "...        ...                ...  ...              ...       ...   \n",
              "129875  Female  disloyal Customer   29  Personal Travel       Eco   \n",
              "129876    Male  disloyal Customer   63  Personal Travel  Business   \n",
              "129877    Male  disloyal Customer   69  Personal Travel       Eco   \n",
              "129878    Male  disloyal Customer   66  Personal Travel       Eco   \n",
              "129879  Female  disloyal Customer   38  Personal Travel       Eco   \n",
              "\n",
              "        Seat comfort  Food and drink  Inflight wifi service  \\\n",
              "0                  0               0                      2   \n",
              "1                  0               0                      0   \n",
              "2                  0               0                      2   \n",
              "3                  0               0                      3   \n",
              "4                  0               0                      4   \n",
              "...              ...             ...                    ...   \n",
              "129875             5               5                      2   \n",
              "129876             2               2                      2   \n",
              "129877             3               3                      3   \n",
              "129878             3               3                      3   \n",
              "129879             3               3                      3   \n",
              "\n",
              "        Inflight entertainment  Online support  Ease of Online booking  \\\n",
              "0                            4               2                       3   \n",
              "1                            2               2                       3   \n",
              "2                            0               2                       2   \n",
              "3                            4               3                       1   \n",
              "4                            3               4                       2   \n",
              "...                        ...             ...                     ...   \n",
              "129875                       5               2                       2   \n",
              "129876                       1               1                       3   \n",
              "129877                       2               2                       4   \n",
              "129878                       2               2                       3   \n",
              "129879                       3               3                       4   \n",
              "\n",
              "        On-board service  Leg room service  Baggage handling  Checkin service  \\\n",
              "0                      3                 0                 3                5   \n",
              "1                      4                 4                 4                2   \n",
              "2                      3                 3                 4                4   \n",
              "3                      1                 0                 1                4   \n",
              "4                      2                 0                 2                4   \n",
              "...                  ...               ...               ...              ...   \n",
              "129875                 3                 3                 4                4   \n",
              "129876                 2                 3                 3                1   \n",
              "129877                 4                 3                 4                2   \n",
              "129878                 3                 2                 3                2   \n",
              "129879                 5                 5                 5                3   \n",
              "\n",
              "        Cleanliness  Online boarding  \n",
              "0                 3                2  \n",
              "1                 3                2  \n",
              "2                 4                2  \n",
              "3                 1                3  \n",
              "4                 2                5  \n",
              "...             ...              ...  \n",
              "129875            4                2  \n",
              "129876            2                1  \n",
              "129877            3                2  \n",
              "129878            1                2  \n",
              "129879            3                3  \n",
              "\n",
              "[129880 rows x 17 columns]"
            ],
            "text/html": [
              "\n",
              "  <div id=\"df-5f95a28c-689a-4e23-a6b3-9d1dc01a1e2f\">\n",
              "    <div class=\"colab-df-container\">\n",
              "      <div>\n",
              "<style scoped>\n",
              "    .dataframe tbody tr th:only-of-type {\n",
              "        vertical-align: middle;\n",
              "    }\n",
              "\n",
              "    .dataframe tbody tr th {\n",
              "        vertical-align: top;\n",
              "    }\n",
              "\n",
              "    .dataframe thead th {\n",
              "        text-align: right;\n",
              "    }\n",
              "</style>\n",
              "<table border=\"1\" class=\"dataframe\">\n",
              "  <thead>\n",
              "    <tr style=\"text-align: right;\">\n",
              "      <th></th>\n",
              "      <th>Gender</th>\n",
              "      <th>Customer Type</th>\n",
              "      <th>Age</th>\n",
              "      <th>Type of Travel</th>\n",
              "      <th>Class</th>\n",
              "      <th>Seat comfort</th>\n",
              "      <th>Food and drink</th>\n",
              "      <th>Inflight wifi service</th>\n",
              "      <th>Inflight entertainment</th>\n",
              "      <th>Online support</th>\n",
              "      <th>Ease of Online booking</th>\n",
              "      <th>On-board service</th>\n",
              "      <th>Leg room service</th>\n",
              "      <th>Baggage handling</th>\n",
              "      <th>Checkin service</th>\n",
              "      <th>Cleanliness</th>\n",
              "      <th>Online boarding</th>\n",
              "    </tr>\n",
              "  </thead>\n",
              "  <tbody>\n",
              "    <tr>\n",
              "      <th>0</th>\n",
              "      <td>Female</td>\n",
              "      <td>Loyal Customer</td>\n",
              "      <td>65</td>\n",
              "      <td>Personal Travel</td>\n",
              "      <td>Eco</td>\n",
              "      <td>0</td>\n",
              "      <td>0</td>\n",
              "      <td>2</td>\n",
              "      <td>4</td>\n",
              "      <td>2</td>\n",
              "      <td>3</td>\n",
              "      <td>3</td>\n",
              "      <td>0</td>\n",
              "      <td>3</td>\n",
              "      <td>5</td>\n",
              "      <td>3</td>\n",
              "      <td>2</td>\n",
              "    </tr>\n",
              "    <tr>\n",
              "      <th>1</th>\n",
              "      <td>Male</td>\n",
              "      <td>Loyal Customer</td>\n",
              "      <td>47</td>\n",
              "      <td>Personal Travel</td>\n",
              "      <td>Business</td>\n",
              "      <td>0</td>\n",
              "      <td>0</td>\n",
              "      <td>0</td>\n",
              "      <td>2</td>\n",
              "      <td>2</td>\n",
              "      <td>3</td>\n",
              "      <td>4</td>\n",
              "      <td>4</td>\n",
              "      <td>4</td>\n",
              "      <td>2</td>\n",
              "      <td>3</td>\n",
              "      <td>2</td>\n",
              "    </tr>\n",
              "    <tr>\n",
              "      <th>2</th>\n",
              "      <td>Female</td>\n",
              "      <td>Loyal Customer</td>\n",
              "      <td>15</td>\n",
              "      <td>Personal Travel</td>\n",
              "      <td>Eco</td>\n",
              "      <td>0</td>\n",
              "      <td>0</td>\n",
              "      <td>2</td>\n",
              "      <td>0</td>\n",
              "      <td>2</td>\n",
              "      <td>2</td>\n",
              "      <td>3</td>\n",
              "      <td>3</td>\n",
              "      <td>4</td>\n",
              "      <td>4</td>\n",
              "      <td>4</td>\n",
              "      <td>2</td>\n",
              "    </tr>\n",
              "    <tr>\n",
              "      <th>3</th>\n",
              "      <td>Female</td>\n",
              "      <td>Loyal Customer</td>\n",
              "      <td>60</td>\n",
              "      <td>Personal Travel</td>\n",
              "      <td>Eco</td>\n",
              "      <td>0</td>\n",
              "      <td>0</td>\n",
              "      <td>3</td>\n",
              "      <td>4</td>\n",
              "      <td>3</td>\n",
              "      <td>1</td>\n",
              "      <td>1</td>\n",
              "      <td>0</td>\n",
              "      <td>1</td>\n",
              "      <td>4</td>\n",
              "      <td>1</td>\n",
              "      <td>3</td>\n",
              "    </tr>\n",
              "    <tr>\n",
              "      <th>4</th>\n",
              "      <td>Female</td>\n",
              "      <td>Loyal Customer</td>\n",
              "      <td>70</td>\n",
              "      <td>Personal Travel</td>\n",
              "      <td>Eco</td>\n",
              "      <td>0</td>\n",
              "      <td>0</td>\n",
              "      <td>4</td>\n",
              "      <td>3</td>\n",
              "      <td>4</td>\n",
              "      <td>2</td>\n",
              "      <td>2</td>\n",
              "      <td>0</td>\n",
              "      <td>2</td>\n",
              "      <td>4</td>\n",
              "      <td>2</td>\n",
              "      <td>5</td>\n",
              "    </tr>\n",
              "    <tr>\n",
              "      <th>...</th>\n",
              "      <td>...</td>\n",
              "      <td>...</td>\n",
              "      <td>...</td>\n",
              "      <td>...</td>\n",
              "      <td>...</td>\n",
              "      <td>...</td>\n",
              "      <td>...</td>\n",
              "      <td>...</td>\n",
              "      <td>...</td>\n",
              "      <td>...</td>\n",
              "      <td>...</td>\n",
              "      <td>...</td>\n",
              "      <td>...</td>\n",
              "      <td>...</td>\n",
              "      <td>...</td>\n",
              "      <td>...</td>\n",
              "      <td>...</td>\n",
              "    </tr>\n",
              "    <tr>\n",
              "      <th>129875</th>\n",
              "      <td>Female</td>\n",
              "      <td>disloyal Customer</td>\n",
              "      <td>29</td>\n",
              "      <td>Personal Travel</td>\n",
              "      <td>Eco</td>\n",
              "      <td>5</td>\n",
              "      <td>5</td>\n",
              "      <td>2</td>\n",
              "      <td>5</td>\n",
              "      <td>2</td>\n",
              "      <td>2</td>\n",
              "      <td>3</td>\n",
              "      <td>3</td>\n",
              "      <td>4</td>\n",
              "      <td>4</td>\n",
              "      <td>4</td>\n",
              "      <td>2</td>\n",
              "    </tr>\n",
              "    <tr>\n",
              "      <th>129876</th>\n",
              "      <td>Male</td>\n",
              "      <td>disloyal Customer</td>\n",
              "      <td>63</td>\n",
              "      <td>Personal Travel</td>\n",
              "      <td>Business</td>\n",
              "      <td>2</td>\n",
              "      <td>2</td>\n",
              "      <td>2</td>\n",
              "      <td>1</td>\n",
              "      <td>1</td>\n",
              "      <td>3</td>\n",
              "      <td>2</td>\n",
              "      <td>3</td>\n",
              "      <td>3</td>\n",
              "      <td>1</td>\n",
              "      <td>2</td>\n",
              "      <td>1</td>\n",
              "    </tr>\n",
              "    <tr>\n",
              "      <th>129877</th>\n",
              "      <td>Male</td>\n",
              "      <td>disloyal Customer</td>\n",
              "      <td>69</td>\n",
              "      <td>Personal Travel</td>\n",
              "      <td>Eco</td>\n",
              "      <td>3</td>\n",
              "      <td>3</td>\n",
              "      <td>3</td>\n",
              "      <td>2</td>\n",
              "      <td>2</td>\n",
              "      <td>4</td>\n",
              "      <td>4</td>\n",
              "      <td>3</td>\n",
              "      <td>4</td>\n",
              "      <td>2</td>\n",
              "      <td>3</td>\n",
              "      <td>2</td>\n",
              "    </tr>\n",
              "    <tr>\n",
              "      <th>129878</th>\n",
              "      <td>Male</td>\n",
              "      <td>disloyal Customer</td>\n",
              "      <td>66</td>\n",
              "      <td>Personal Travel</td>\n",
              "      <td>Eco</td>\n",
              "      <td>3</td>\n",
              "      <td>3</td>\n",
              "      <td>3</td>\n",
              "      <td>2</td>\n",
              "      <td>2</td>\n",
              "      <td>3</td>\n",
              "      <td>3</td>\n",
              "      <td>2</td>\n",
              "      <td>3</td>\n",
              "      <td>2</td>\n",
              "      <td>1</td>\n",
              "      <td>2</td>\n",
              "    </tr>\n",
              "    <tr>\n",
              "      <th>129879</th>\n",
              "      <td>Female</td>\n",
              "      <td>disloyal Customer</td>\n",
              "      <td>38</td>\n",
              "      <td>Personal Travel</td>\n",
              "      <td>Eco</td>\n",
              "      <td>3</td>\n",
              "      <td>3</td>\n",
              "      <td>3</td>\n",
              "      <td>3</td>\n",
              "      <td>3</td>\n",
              "      <td>4</td>\n",
              "      <td>5</td>\n",
              "      <td>5</td>\n",
              "      <td>5</td>\n",
              "      <td>3</td>\n",
              "      <td>3</td>\n",
              "      <td>3</td>\n",
              "    </tr>\n",
              "  </tbody>\n",
              "</table>\n",
              "<p>129880 rows × 17 columns</p>\n",
              "</div>\n",
              "      <button class=\"colab-df-convert\" onclick=\"convertToInteractive('df-5f95a28c-689a-4e23-a6b3-9d1dc01a1e2f')\"\n",
              "              title=\"Convert this dataframe to an interactive table.\"\n",
              "              style=\"display:none;\">\n",
              "        \n",
              "  <svg xmlns=\"http://www.w3.org/2000/svg\" height=\"24px\"viewBox=\"0 0 24 24\"\n",
              "       width=\"24px\">\n",
              "    <path d=\"M0 0h24v24H0V0z\" fill=\"none\"/>\n",
              "    <path d=\"M18.56 5.44l.94 2.06.94-2.06 2.06-.94-2.06-.94-.94-2.06-.94 2.06-2.06.94zm-11 1L8.5 8.5l.94-2.06 2.06-.94-2.06-.94L8.5 2.5l-.94 2.06-2.06.94zm10 10l.94 2.06.94-2.06 2.06-.94-2.06-.94-.94-2.06-.94 2.06-2.06.94z\"/><path d=\"M17.41 7.96l-1.37-1.37c-.4-.4-.92-.59-1.43-.59-.52 0-1.04.2-1.43.59L10.3 9.45l-7.72 7.72c-.78.78-.78 2.05 0 2.83L4 21.41c.39.39.9.59 1.41.59.51 0 1.02-.2 1.41-.59l7.78-7.78 2.81-2.81c.8-.78.8-2.07 0-2.86zM5.41 20L4 18.59l7.72-7.72 1.47 1.35L5.41 20z\"/>\n",
              "  </svg>\n",
              "      </button>\n",
              "      \n",
              "  <style>\n",
              "    .colab-df-container {\n",
              "      display:flex;\n",
              "      flex-wrap:wrap;\n",
              "      gap: 12px;\n",
              "    }\n",
              "\n",
              "    .colab-df-convert {\n",
              "      background-color: #E8F0FE;\n",
              "      border: none;\n",
              "      border-radius: 50%;\n",
              "      cursor: pointer;\n",
              "      display: none;\n",
              "      fill: #1967D2;\n",
              "      height: 32px;\n",
              "      padding: 0 0 0 0;\n",
              "      width: 32px;\n",
              "    }\n",
              "\n",
              "    .colab-df-convert:hover {\n",
              "      background-color: #E2EBFA;\n",
              "      box-shadow: 0px 1px 2px rgba(60, 64, 67, 0.3), 0px 1px 3px 1px rgba(60, 64, 67, 0.15);\n",
              "      fill: #174EA6;\n",
              "    }\n",
              "\n",
              "    [theme=dark] .colab-df-convert {\n",
              "      background-color: #3B4455;\n",
              "      fill: #D2E3FC;\n",
              "    }\n",
              "\n",
              "    [theme=dark] .colab-df-convert:hover {\n",
              "      background-color: #434B5C;\n",
              "      box-shadow: 0px 1px 3px 1px rgba(0, 0, 0, 0.15);\n",
              "      filter: drop-shadow(0px 1px 2px rgba(0, 0, 0, 0.3));\n",
              "      fill: #FFFFFF;\n",
              "    }\n",
              "  </style>\n",
              "\n",
              "      <script>\n",
              "        const buttonEl =\n",
              "          document.querySelector('#df-5f95a28c-689a-4e23-a6b3-9d1dc01a1e2f button.colab-df-convert');\n",
              "        buttonEl.style.display =\n",
              "          google.colab.kernel.accessAllowed ? 'block' : 'none';\n",
              "\n",
              "        async function convertToInteractive(key) {\n",
              "          const element = document.querySelector('#df-5f95a28c-689a-4e23-a6b3-9d1dc01a1e2f');\n",
              "          const dataTable =\n",
              "            await google.colab.kernel.invokeFunction('convertToInteractive',\n",
              "                                                     [key], {});\n",
              "          if (!dataTable) return;\n",
              "\n",
              "          const docLinkHtml = 'Like what you see? Visit the ' +\n",
              "            '<a target=\"_blank\" href=https://colab.research.google.com/notebooks/data_table.ipynb>data table notebook</a>'\n",
              "            + ' to learn more about interactive tables.';\n",
              "          element.innerHTML = '';\n",
              "          dataTable['output_type'] = 'display_data';\n",
              "          await google.colab.output.renderOutput(dataTable, element);\n",
              "          const docLink = document.createElement('div');\n",
              "          docLink.innerHTML = docLinkHtml;\n",
              "          element.appendChild(docLink);\n",
              "        }\n",
              "      </script>\n",
              "    </div>\n",
              "  </div>\n",
              "  "
            ]
          },
          "metadata": {},
          "execution_count": 74
        }
      ]
    },
    {
      "cell_type": "code",
      "source": [
        "y"
      ],
      "metadata": {
        "colab": {
          "base_uri": "https://localhost:8080/"
        },
        "id": "RIt3XVgbmv_C",
        "outputId": "548c4c70-c71c-4bfb-a3a3-b02c9fa67b9d"
      },
      "execution_count": 75,
      "outputs": [
        {
          "output_type": "execute_result",
          "data": {
            "text/plain": [
              "0         1\n",
              "1         1\n",
              "2         1\n",
              "3         1\n",
              "4         1\n",
              "         ..\n",
              "129875    1\n",
              "129876    0\n",
              "129877    0\n",
              "129878    0\n",
              "129879    0\n",
              "Name: satisfaction, Length: 129880, dtype: int64"
            ]
          },
          "metadata": {},
          "execution_count": 75
        }
      ]
    },
    {
      "cell_type": "code",
      "source": [
        "data['Class'].value_counts()"
      ],
      "metadata": {
        "colab": {
          "base_uri": "https://localhost:8080/"
        },
        "id": "V5bPtnf0m6AR",
        "outputId": "7564bf58-de4e-40b8-e077-8283cda5cf9f"
      },
      "execution_count": 76,
      "outputs": [
        {
          "output_type": "execute_result",
          "data": {
            "text/plain": [
              "Business    62160\n",
              "Eco         58309\n",
              "Eco Plus     9411\n",
              "Name: Class, dtype: int64"
            ]
          },
          "metadata": {},
          "execution_count": 76
        }
      ]
    },
    {
      "cell_type": "code",
      "source": [
        "x['Class'] = x.Class.map({\n",
        "    'Eco': 0,\n",
        "    'Eco Plus' : 1,\n",
        "    'Business' : 2})"
      ],
      "metadata": {
        "id": "jRlQQt_gm_FZ"
      },
      "execution_count": 77,
      "outputs": []
    },
    {
      "cell_type": "code",
      "source": [
        "x = pd.get_dummies(x, columns=['Gender', 'Customer Type','Type of Travel'],drop_first=True)"
      ],
      "metadata": {
        "id": "AjFaFb7bnJ1Z"
      },
      "execution_count": 78,
      "outputs": []
    },
    {
      "cell_type": "code",
      "source": [
        "#StandardScaler for column Age\n",
        "from sklearn.preprocessing import StandardScaler\n",
        "scaler = StandardScaler()\n",
        "scaler_transformer = scaler.fit(x[['Age']])\n",
        "x_scaled = scaler_transformer.transform(x[['Age']])\n",
        "x_scaled = pd.DataFrame(x_scaled,columns=['Age'])\n",
        "x.drop(['Age'],axis=1,inplace=True)\n",
        "x = pd.concat([x,x_scaled],axis=1)\n",
        "x.reset_index().drop('index',axis=1,inplace=True)"
      ],
      "metadata": {
        "id": "hFHRWh_8nLTy"
      },
      "execution_count": 79,
      "outputs": []
    },
    {
      "cell_type": "code",
      "source": [
        "x.head()"
      ],
      "metadata": {
        "colab": {
          "base_uri": "https://localhost:8080/",
          "height": 305
        },
        "id": "TLtqFUm3nOM8",
        "outputId": "beba00ac-8219-43a6-c94b-3c78bcf6e037"
      },
      "execution_count": 80,
      "outputs": [
        {
          "output_type": "execute_result",
          "data": {
            "text/plain": [
              "   Class  Seat comfort  Food and drink  Inflight wifi service  \\\n",
              "0      0             0               0                      2   \n",
              "1      2             0               0                      0   \n",
              "2      0             0               0                      2   \n",
              "3      0             0               0                      3   \n",
              "4      0             0               0                      4   \n",
              "\n",
              "   Inflight entertainment  Online support  Ease of Online booking  \\\n",
              "0                       4               2                       3   \n",
              "1                       2               2                       3   \n",
              "2                       0               2                       2   \n",
              "3                       4               3                       1   \n",
              "4                       3               4                       2   \n",
              "\n",
              "   On-board service  Leg room service  Baggage handling  Checkin service  \\\n",
              "0                 3                 0                 3                5   \n",
              "1                 4                 4                 4                2   \n",
              "2                 3                 3                 4                4   \n",
              "3                 1                 0                 1                4   \n",
              "4                 2                 0                 2                4   \n",
              "\n",
              "   Cleanliness  Online boarding  Gender_Male  Customer Type_disloyal Customer  \\\n",
              "0            3                2            0                                0   \n",
              "1            3                2            1                                0   \n",
              "2            4                2            0                                0   \n",
              "3            1                3            0                                0   \n",
              "4            2                5            0                                0   \n",
              "\n",
              "   Type of Travel_Personal Travel       Age  \n",
              "0                               1  1.691351  \n",
              "1                               1  0.500820  \n",
              "2                               1 -1.615680  \n",
              "3                               1  1.360648  \n",
              "4                               1  2.022054  "
            ],
            "text/html": [
              "\n",
              "  <div id=\"df-fb0a60bc-96b2-4aab-8229-181a87c9ef9c\">\n",
              "    <div class=\"colab-df-container\">\n",
              "      <div>\n",
              "<style scoped>\n",
              "    .dataframe tbody tr th:only-of-type {\n",
              "        vertical-align: middle;\n",
              "    }\n",
              "\n",
              "    .dataframe tbody tr th {\n",
              "        vertical-align: top;\n",
              "    }\n",
              "\n",
              "    .dataframe thead th {\n",
              "        text-align: right;\n",
              "    }\n",
              "</style>\n",
              "<table border=\"1\" class=\"dataframe\">\n",
              "  <thead>\n",
              "    <tr style=\"text-align: right;\">\n",
              "      <th></th>\n",
              "      <th>Class</th>\n",
              "      <th>Seat comfort</th>\n",
              "      <th>Food and drink</th>\n",
              "      <th>Inflight wifi service</th>\n",
              "      <th>Inflight entertainment</th>\n",
              "      <th>Online support</th>\n",
              "      <th>Ease of Online booking</th>\n",
              "      <th>On-board service</th>\n",
              "      <th>Leg room service</th>\n",
              "      <th>Baggage handling</th>\n",
              "      <th>Checkin service</th>\n",
              "      <th>Cleanliness</th>\n",
              "      <th>Online boarding</th>\n",
              "      <th>Gender_Male</th>\n",
              "      <th>Customer Type_disloyal Customer</th>\n",
              "      <th>Type of Travel_Personal Travel</th>\n",
              "      <th>Age</th>\n",
              "    </tr>\n",
              "  </thead>\n",
              "  <tbody>\n",
              "    <tr>\n",
              "      <th>0</th>\n",
              "      <td>0</td>\n",
              "      <td>0</td>\n",
              "      <td>0</td>\n",
              "      <td>2</td>\n",
              "      <td>4</td>\n",
              "      <td>2</td>\n",
              "      <td>3</td>\n",
              "      <td>3</td>\n",
              "      <td>0</td>\n",
              "      <td>3</td>\n",
              "      <td>5</td>\n",
              "      <td>3</td>\n",
              "      <td>2</td>\n",
              "      <td>0</td>\n",
              "      <td>0</td>\n",
              "      <td>1</td>\n",
              "      <td>1.691351</td>\n",
              "    </tr>\n",
              "    <tr>\n",
              "      <th>1</th>\n",
              "      <td>2</td>\n",
              "      <td>0</td>\n",
              "      <td>0</td>\n",
              "      <td>0</td>\n",
              "      <td>2</td>\n",
              "      <td>2</td>\n",
              "      <td>3</td>\n",
              "      <td>4</td>\n",
              "      <td>4</td>\n",
              "      <td>4</td>\n",
              "      <td>2</td>\n",
              "      <td>3</td>\n",
              "      <td>2</td>\n",
              "      <td>1</td>\n",
              "      <td>0</td>\n",
              "      <td>1</td>\n",
              "      <td>0.500820</td>\n",
              "    </tr>\n",
              "    <tr>\n",
              "      <th>2</th>\n",
              "      <td>0</td>\n",
              "      <td>0</td>\n",
              "      <td>0</td>\n",
              "      <td>2</td>\n",
              "      <td>0</td>\n",
              "      <td>2</td>\n",
              "      <td>2</td>\n",
              "      <td>3</td>\n",
              "      <td>3</td>\n",
              "      <td>4</td>\n",
              "      <td>4</td>\n",
              "      <td>4</td>\n",
              "      <td>2</td>\n",
              "      <td>0</td>\n",
              "      <td>0</td>\n",
              "      <td>1</td>\n",
              "      <td>-1.615680</td>\n",
              "    </tr>\n",
              "    <tr>\n",
              "      <th>3</th>\n",
              "      <td>0</td>\n",
              "      <td>0</td>\n",
              "      <td>0</td>\n",
              "      <td>3</td>\n",
              "      <td>4</td>\n",
              "      <td>3</td>\n",
              "      <td>1</td>\n",
              "      <td>1</td>\n",
              "      <td>0</td>\n",
              "      <td>1</td>\n",
              "      <td>4</td>\n",
              "      <td>1</td>\n",
              "      <td>3</td>\n",
              "      <td>0</td>\n",
              "      <td>0</td>\n",
              "      <td>1</td>\n",
              "      <td>1.360648</td>\n",
              "    </tr>\n",
              "    <tr>\n",
              "      <th>4</th>\n",
              "      <td>0</td>\n",
              "      <td>0</td>\n",
              "      <td>0</td>\n",
              "      <td>4</td>\n",
              "      <td>3</td>\n",
              "      <td>4</td>\n",
              "      <td>2</td>\n",
              "      <td>2</td>\n",
              "      <td>0</td>\n",
              "      <td>2</td>\n",
              "      <td>4</td>\n",
              "      <td>2</td>\n",
              "      <td>5</td>\n",
              "      <td>0</td>\n",
              "      <td>0</td>\n",
              "      <td>1</td>\n",
              "      <td>2.022054</td>\n",
              "    </tr>\n",
              "  </tbody>\n",
              "</table>\n",
              "</div>\n",
              "      <button class=\"colab-df-convert\" onclick=\"convertToInteractive('df-fb0a60bc-96b2-4aab-8229-181a87c9ef9c')\"\n",
              "              title=\"Convert this dataframe to an interactive table.\"\n",
              "              style=\"display:none;\">\n",
              "        \n",
              "  <svg xmlns=\"http://www.w3.org/2000/svg\" height=\"24px\"viewBox=\"0 0 24 24\"\n",
              "       width=\"24px\">\n",
              "    <path d=\"M0 0h24v24H0V0z\" fill=\"none\"/>\n",
              "    <path d=\"M18.56 5.44l.94 2.06.94-2.06 2.06-.94-2.06-.94-.94-2.06-.94 2.06-2.06.94zm-11 1L8.5 8.5l.94-2.06 2.06-.94-2.06-.94L8.5 2.5l-.94 2.06-2.06.94zm10 10l.94 2.06.94-2.06 2.06-.94-2.06-.94-.94-2.06-.94 2.06-2.06.94z\"/><path d=\"M17.41 7.96l-1.37-1.37c-.4-.4-.92-.59-1.43-.59-.52 0-1.04.2-1.43.59L10.3 9.45l-7.72 7.72c-.78.78-.78 2.05 0 2.83L4 21.41c.39.39.9.59 1.41.59.51 0 1.02-.2 1.41-.59l7.78-7.78 2.81-2.81c.8-.78.8-2.07 0-2.86zM5.41 20L4 18.59l7.72-7.72 1.47 1.35L5.41 20z\"/>\n",
              "  </svg>\n",
              "      </button>\n",
              "      \n",
              "  <style>\n",
              "    .colab-df-container {\n",
              "      display:flex;\n",
              "      flex-wrap:wrap;\n",
              "      gap: 12px;\n",
              "    }\n",
              "\n",
              "    .colab-df-convert {\n",
              "      background-color: #E8F0FE;\n",
              "      border: none;\n",
              "      border-radius: 50%;\n",
              "      cursor: pointer;\n",
              "      display: none;\n",
              "      fill: #1967D2;\n",
              "      height: 32px;\n",
              "      padding: 0 0 0 0;\n",
              "      width: 32px;\n",
              "    }\n",
              "\n",
              "    .colab-df-convert:hover {\n",
              "      background-color: #E2EBFA;\n",
              "      box-shadow: 0px 1px 2px rgba(60, 64, 67, 0.3), 0px 1px 3px 1px rgba(60, 64, 67, 0.15);\n",
              "      fill: #174EA6;\n",
              "    }\n",
              "\n",
              "    [theme=dark] .colab-df-convert {\n",
              "      background-color: #3B4455;\n",
              "      fill: #D2E3FC;\n",
              "    }\n",
              "\n",
              "    [theme=dark] .colab-df-convert:hover {\n",
              "      background-color: #434B5C;\n",
              "      box-shadow: 0px 1px 3px 1px rgba(0, 0, 0, 0.15);\n",
              "      filter: drop-shadow(0px 1px 2px rgba(0, 0, 0, 0.3));\n",
              "      fill: #FFFFFF;\n",
              "    }\n",
              "  </style>\n",
              "\n",
              "      <script>\n",
              "        const buttonEl =\n",
              "          document.querySelector('#df-fb0a60bc-96b2-4aab-8229-181a87c9ef9c button.colab-df-convert');\n",
              "        buttonEl.style.display =\n",
              "          google.colab.kernel.accessAllowed ? 'block' : 'none';\n",
              "\n",
              "        async function convertToInteractive(key) {\n",
              "          const element = document.querySelector('#df-fb0a60bc-96b2-4aab-8229-181a87c9ef9c');\n",
              "          const dataTable =\n",
              "            await google.colab.kernel.invokeFunction('convertToInteractive',\n",
              "                                                     [key], {});\n",
              "          if (!dataTable) return;\n",
              "\n",
              "          const docLinkHtml = 'Like what you see? Visit the ' +\n",
              "            '<a target=\"_blank\" href=https://colab.research.google.com/notebooks/data_table.ipynb>data table notebook</a>'\n",
              "            + ' to learn more about interactive tables.';\n",
              "          element.innerHTML = '';\n",
              "          dataTable['output_type'] = 'display_data';\n",
              "          await google.colab.output.renderOutput(dataTable, element);\n",
              "          const docLink = document.createElement('div');\n",
              "          docLink.innerHTML = docLinkHtml;\n",
              "          element.appendChild(docLink);\n",
              "        }\n",
              "      </script>\n",
              "    </div>\n",
              "  </div>\n",
              "  "
            ]
          },
          "metadata": {},
          "execution_count": 80
        }
      ]
    },
    {
      "cell_type": "code",
      "source": [
        "from sklearn.model_selection import train_test_split\n",
        "\n",
        "X_train, X_test, y_train, y_test = train_test_split(x, y,\n",
        "                                                    test_size=0.33,\n",
        "                                                    random_state=0,\n",
        "                                                    stratify=y)"
      ],
      "metadata": {
        "id": "iNWh6tSlojdJ"
      },
      "execution_count": 81,
      "outputs": []
    },
    {
      "cell_type": "code",
      "source": [
        "\n",
        "# from sklearn.neighbors import KNeighborsClassifier\n",
        "\n",
        "# training_accuracy = []\n",
        "# test_accuracy = []\n",
        "# # try n_neighbors from 1 to 10\n",
        "# neighbors_settings = range(1, 11)\n",
        "\n",
        "# for n_neighbors in neighbors_settings:\n",
        "#     # build the model\n",
        "#     knn = KNeighborsClassifier(n_neighbors=n_neighbors)\n",
        "#     knn.fit(X_train, y_train)\n",
        "#     # record training set accuracy\n",
        "#     training_accuracy.append(knn.score(X_train, y_train))\n",
        "#     # record test set accuracy\n",
        "#     test_accuracy.append(knn.score(X_test, y_test))\n",
        "\n",
        "# plt.plot(neighbors_settings, training_accuracy, label=\"training accuracy\")\n",
        "# plt.plot(neighbors_settings, test_accuracy, label=\"test accuracy\")\n",
        "# plt.ylabel(\"Accuracy\")\n",
        "# plt.xlabel(\"n_neighbors\")\n",
        "# plt.legend()\n",
        "# plt.savefig('knn_compare_model')"
      ],
      "metadata": {
        "colab": {
          "base_uri": "https://localhost:8080/",
          "height": 415
        },
        "id": "D7ikZrmmpC47",
        "outputId": "a60e778d-76ff-4c32-a86b-3ac08b42e0f2"
      },
      "execution_count": 82,
      "outputs": [
        {
          "output_type": "error",
          "ename": "KeyboardInterrupt",
          "evalue": "ignored",
          "traceback": [
            "\u001b[0;31m---------------------------------------------------------------------------\u001b[0m",
            "\u001b[0;31mKeyboardInterrupt\u001b[0m                         Traceback (most recent call last)",
            "\u001b[0;32m<ipython-input-82-9dad80802091>\u001b[0m in \u001b[0;36m<module>\u001b[0;34m\u001b[0m\n\u001b[1;32m     11\u001b[0m     \u001b[0mknn\u001b[0m\u001b[0;34m.\u001b[0m\u001b[0mfit\u001b[0m\u001b[0;34m(\u001b[0m\u001b[0mX_train\u001b[0m\u001b[0;34m,\u001b[0m \u001b[0my_train\u001b[0m\u001b[0;34m)\u001b[0m\u001b[0;34m\u001b[0m\u001b[0;34m\u001b[0m\u001b[0m\n\u001b[1;32m     12\u001b[0m     \u001b[0;31m# record training set accuracy\u001b[0m\u001b[0;34m\u001b[0m\u001b[0;34m\u001b[0m\u001b[0;34m\u001b[0m\u001b[0m\n\u001b[0;32m---> 13\u001b[0;31m     \u001b[0mtraining_accuracy\u001b[0m\u001b[0;34m.\u001b[0m\u001b[0mappend\u001b[0m\u001b[0;34m(\u001b[0m\u001b[0mknn\u001b[0m\u001b[0;34m.\u001b[0m\u001b[0mscore\u001b[0m\u001b[0;34m(\u001b[0m\u001b[0mX_train\u001b[0m\u001b[0;34m,\u001b[0m \u001b[0my_train\u001b[0m\u001b[0;34m)\u001b[0m\u001b[0;34m)\u001b[0m\u001b[0;34m\u001b[0m\u001b[0;34m\u001b[0m\u001b[0m\n\u001b[0m\u001b[1;32m     14\u001b[0m     \u001b[0;31m# record test set accuracy\u001b[0m\u001b[0;34m\u001b[0m\u001b[0;34m\u001b[0m\u001b[0;34m\u001b[0m\u001b[0m\n\u001b[1;32m     15\u001b[0m     \u001b[0mtest_accuracy\u001b[0m\u001b[0;34m.\u001b[0m\u001b[0mappend\u001b[0m\u001b[0;34m(\u001b[0m\u001b[0mknn\u001b[0m\u001b[0;34m.\u001b[0m\u001b[0mscore\u001b[0m\u001b[0;34m(\u001b[0m\u001b[0mX_test\u001b[0m\u001b[0;34m,\u001b[0m \u001b[0my_test\u001b[0m\u001b[0;34m)\u001b[0m\u001b[0;34m)\u001b[0m\u001b[0;34m\u001b[0m\u001b[0;34m\u001b[0m\u001b[0m\n",
            "\u001b[0;32m/usr/local/lib/python3.8/dist-packages/sklearn/base.py\u001b[0m in \u001b[0;36mscore\u001b[0;34m(self, X, y, sample_weight)\u001b[0m\n\u001b[1;32m    649\u001b[0m         \u001b[0;32mfrom\u001b[0m \u001b[0;34m.\u001b[0m\u001b[0mmetrics\u001b[0m \u001b[0;32mimport\u001b[0m \u001b[0maccuracy_score\u001b[0m\u001b[0;34m\u001b[0m\u001b[0;34m\u001b[0m\u001b[0m\n\u001b[1;32m    650\u001b[0m \u001b[0;34m\u001b[0m\u001b[0m\n\u001b[0;32m--> 651\u001b[0;31m         \u001b[0;32mreturn\u001b[0m \u001b[0maccuracy_score\u001b[0m\u001b[0;34m(\u001b[0m\u001b[0my\u001b[0m\u001b[0;34m,\u001b[0m \u001b[0mself\u001b[0m\u001b[0;34m.\u001b[0m\u001b[0mpredict\u001b[0m\u001b[0;34m(\u001b[0m\u001b[0mX\u001b[0m\u001b[0;34m)\u001b[0m\u001b[0;34m,\u001b[0m \u001b[0msample_weight\u001b[0m\u001b[0;34m=\u001b[0m\u001b[0msample_weight\u001b[0m\u001b[0;34m)\u001b[0m\u001b[0;34m\u001b[0m\u001b[0;34m\u001b[0m\u001b[0m\n\u001b[0m\u001b[1;32m    652\u001b[0m \u001b[0;34m\u001b[0m\u001b[0m\n\u001b[1;32m    653\u001b[0m     \u001b[0;32mdef\u001b[0m \u001b[0m_more_tags\u001b[0m\u001b[0;34m(\u001b[0m\u001b[0mself\u001b[0m\u001b[0;34m)\u001b[0m\u001b[0;34m:\u001b[0m\u001b[0;34m\u001b[0m\u001b[0;34m\u001b[0m\u001b[0m\n",
            "\u001b[0;32m/usr/local/lib/python3.8/dist-packages/sklearn/neighbors/_classification.py\u001b[0m in \u001b[0;36mpredict\u001b[0;34m(self, X)\u001b[0m\n\u001b[1;32m    212\u001b[0m             \u001b[0mClass\u001b[0m \u001b[0mlabels\u001b[0m \u001b[0;32mfor\u001b[0m \u001b[0meach\u001b[0m \u001b[0mdata\u001b[0m \u001b[0msample\u001b[0m\u001b[0;34m.\u001b[0m\u001b[0;34m\u001b[0m\u001b[0;34m\u001b[0m\u001b[0m\n\u001b[1;32m    213\u001b[0m         \"\"\"\n\u001b[0;32m--> 214\u001b[0;31m         \u001b[0mneigh_dist\u001b[0m\u001b[0;34m,\u001b[0m \u001b[0mneigh_ind\u001b[0m \u001b[0;34m=\u001b[0m \u001b[0mself\u001b[0m\u001b[0;34m.\u001b[0m\u001b[0mkneighbors\u001b[0m\u001b[0;34m(\u001b[0m\u001b[0mX\u001b[0m\u001b[0;34m)\u001b[0m\u001b[0;34m\u001b[0m\u001b[0;34m\u001b[0m\u001b[0m\n\u001b[0m\u001b[1;32m    215\u001b[0m         \u001b[0mclasses_\u001b[0m \u001b[0;34m=\u001b[0m \u001b[0mself\u001b[0m\u001b[0;34m.\u001b[0m\u001b[0mclasses_\u001b[0m\u001b[0;34m\u001b[0m\u001b[0;34m\u001b[0m\u001b[0m\n\u001b[1;32m    216\u001b[0m         \u001b[0m_y\u001b[0m \u001b[0;34m=\u001b[0m \u001b[0mself\u001b[0m\u001b[0;34m.\u001b[0m\u001b[0m_y\u001b[0m\u001b[0;34m\u001b[0m\u001b[0;34m\u001b[0m\u001b[0m\n",
            "\u001b[0;32m/usr/local/lib/python3.8/dist-packages/sklearn/neighbors/_base.py\u001b[0m in \u001b[0;36mkneighbors\u001b[0;34m(self, X, n_neighbors, return_distance)\u001b[0m\n\u001b[1;32m    750\u001b[0m                 \u001b[0mkwds\u001b[0m \u001b[0;34m=\u001b[0m \u001b[0mself\u001b[0m\u001b[0;34m.\u001b[0m\u001b[0meffective_metric_params_\u001b[0m\u001b[0;34m\u001b[0m\u001b[0;34m\u001b[0m\u001b[0m\n\u001b[1;32m    751\u001b[0m \u001b[0;34m\u001b[0m\u001b[0m\n\u001b[0;32m--> 752\u001b[0;31m             chunked_results = list(\n\u001b[0m\u001b[1;32m    753\u001b[0m                 pairwise_distances_chunked(\n\u001b[1;32m    754\u001b[0m                     \u001b[0mX\u001b[0m\u001b[0;34m,\u001b[0m\u001b[0;34m\u001b[0m\u001b[0;34m\u001b[0m\u001b[0m\n",
            "\u001b[0;32m/usr/local/lib/python3.8/dist-packages/sklearn/metrics/pairwise.py\u001b[0m in \u001b[0;36mpairwise_distances_chunked\u001b[0;34m(X, Y, reduce_func, metric, n_jobs, working_memory, **kwds)\u001b[0m\n\u001b[1;32m   1724\u001b[0m         \u001b[0;32mif\u001b[0m \u001b[0mreduce_func\u001b[0m \u001b[0;32mis\u001b[0m \u001b[0;32mnot\u001b[0m \u001b[0;32mNone\u001b[0m\u001b[0;34m:\u001b[0m\u001b[0;34m\u001b[0m\u001b[0;34m\u001b[0m\u001b[0m\n\u001b[1;32m   1725\u001b[0m             \u001b[0mchunk_size\u001b[0m \u001b[0;34m=\u001b[0m \u001b[0mD_chunk\u001b[0m\u001b[0;34m.\u001b[0m\u001b[0mshape\u001b[0m\u001b[0;34m[\u001b[0m\u001b[0;36m0\u001b[0m\u001b[0;34m]\u001b[0m\u001b[0;34m\u001b[0m\u001b[0;34m\u001b[0m\u001b[0m\n\u001b[0;32m-> 1726\u001b[0;31m             \u001b[0mD_chunk\u001b[0m \u001b[0;34m=\u001b[0m \u001b[0mreduce_func\u001b[0m\u001b[0;34m(\u001b[0m\u001b[0mD_chunk\u001b[0m\u001b[0;34m,\u001b[0m \u001b[0msl\u001b[0m\u001b[0;34m.\u001b[0m\u001b[0mstart\u001b[0m\u001b[0;34m)\u001b[0m\u001b[0;34m\u001b[0m\u001b[0;34m\u001b[0m\u001b[0m\n\u001b[0m\u001b[1;32m   1727\u001b[0m             \u001b[0m_check_chunk_size\u001b[0m\u001b[0;34m(\u001b[0m\u001b[0mD_chunk\u001b[0m\u001b[0;34m,\u001b[0m \u001b[0mchunk_size\u001b[0m\u001b[0;34m)\u001b[0m\u001b[0;34m\u001b[0m\u001b[0;34m\u001b[0m\u001b[0m\n\u001b[1;32m   1728\u001b[0m         \u001b[0;32myield\u001b[0m \u001b[0mD_chunk\u001b[0m\u001b[0;34m\u001b[0m\u001b[0;34m\u001b[0m\u001b[0m\n",
            "\u001b[0;32m/usr/local/lib/python3.8/dist-packages/sklearn/neighbors/_base.py\u001b[0m in \u001b[0;36m_kneighbors_reduce_func\u001b[0;34m(self, dist, start, n_neighbors, return_distance)\u001b[0m\n\u001b[1;32m    632\u001b[0m         \"\"\"\n\u001b[1;32m    633\u001b[0m         \u001b[0msample_range\u001b[0m \u001b[0;34m=\u001b[0m \u001b[0mnp\u001b[0m\u001b[0;34m.\u001b[0m\u001b[0marange\u001b[0m\u001b[0;34m(\u001b[0m\u001b[0mdist\u001b[0m\u001b[0;34m.\u001b[0m\u001b[0mshape\u001b[0m\u001b[0;34m[\u001b[0m\u001b[0;36m0\u001b[0m\u001b[0;34m]\u001b[0m\u001b[0;34m)\u001b[0m\u001b[0;34m[\u001b[0m\u001b[0;34m:\u001b[0m\u001b[0;34m,\u001b[0m \u001b[0;32mNone\u001b[0m\u001b[0;34m]\u001b[0m\u001b[0;34m\u001b[0m\u001b[0;34m\u001b[0m\u001b[0m\n\u001b[0;32m--> 634\u001b[0;31m         \u001b[0mneigh_ind\u001b[0m \u001b[0;34m=\u001b[0m \u001b[0mnp\u001b[0m\u001b[0;34m.\u001b[0m\u001b[0margpartition\u001b[0m\u001b[0;34m(\u001b[0m\u001b[0mdist\u001b[0m\u001b[0;34m,\u001b[0m \u001b[0mn_neighbors\u001b[0m \u001b[0;34m-\u001b[0m \u001b[0;36m1\u001b[0m\u001b[0;34m,\u001b[0m \u001b[0maxis\u001b[0m\u001b[0;34m=\u001b[0m\u001b[0;36m1\u001b[0m\u001b[0;34m)\u001b[0m\u001b[0;34m\u001b[0m\u001b[0;34m\u001b[0m\u001b[0m\n\u001b[0m\u001b[1;32m    635\u001b[0m         \u001b[0mneigh_ind\u001b[0m \u001b[0;34m=\u001b[0m \u001b[0mneigh_ind\u001b[0m\u001b[0;34m[\u001b[0m\u001b[0;34m:\u001b[0m\u001b[0;34m,\u001b[0m \u001b[0;34m:\u001b[0m\u001b[0mn_neighbors\u001b[0m\u001b[0;34m]\u001b[0m\u001b[0;34m\u001b[0m\u001b[0;34m\u001b[0m\u001b[0m\n\u001b[1;32m    636\u001b[0m         \u001b[0;31m# argpartition doesn't guarantee sorted order, so we sort again\u001b[0m\u001b[0;34m\u001b[0m\u001b[0;34m\u001b[0m\u001b[0;34m\u001b[0m\u001b[0m\n",
            "\u001b[0;32m<__array_function__ internals>\u001b[0m in \u001b[0;36margpartition\u001b[0;34m(*args, **kwargs)\u001b[0m\n",
            "\u001b[0;32m/usr/local/lib/python3.8/dist-packages/numpy/core/fromnumeric.py\u001b[0m in \u001b[0;36margpartition\u001b[0;34m(a, kth, axis, kind, order)\u001b[0m\n\u001b[1;32m    837\u001b[0m \u001b[0;34m\u001b[0m\u001b[0m\n\u001b[1;32m    838\u001b[0m     \"\"\"\n\u001b[0;32m--> 839\u001b[0;31m     \u001b[0;32mreturn\u001b[0m \u001b[0m_wrapfunc\u001b[0m\u001b[0;34m(\u001b[0m\u001b[0ma\u001b[0m\u001b[0;34m,\u001b[0m \u001b[0;34m'argpartition'\u001b[0m\u001b[0;34m,\u001b[0m \u001b[0mkth\u001b[0m\u001b[0;34m,\u001b[0m \u001b[0maxis\u001b[0m\u001b[0;34m=\u001b[0m\u001b[0maxis\u001b[0m\u001b[0;34m,\u001b[0m \u001b[0mkind\u001b[0m\u001b[0;34m=\u001b[0m\u001b[0mkind\u001b[0m\u001b[0;34m,\u001b[0m \u001b[0morder\u001b[0m\u001b[0;34m=\u001b[0m\u001b[0morder\u001b[0m\u001b[0;34m)\u001b[0m\u001b[0;34m\u001b[0m\u001b[0;34m\u001b[0m\u001b[0m\n\u001b[0m\u001b[1;32m    840\u001b[0m \u001b[0;34m\u001b[0m\u001b[0m\n\u001b[1;32m    841\u001b[0m \u001b[0;34m\u001b[0m\u001b[0m\n",
            "\u001b[0;32m/usr/local/lib/python3.8/dist-packages/numpy/core/fromnumeric.py\u001b[0m in \u001b[0;36m_wrapfunc\u001b[0;34m(obj, method, *args, **kwds)\u001b[0m\n\u001b[1;32m     55\u001b[0m \u001b[0;34m\u001b[0m\u001b[0m\n\u001b[1;32m     56\u001b[0m     \u001b[0;32mtry\u001b[0m\u001b[0;34m:\u001b[0m\u001b[0;34m\u001b[0m\u001b[0;34m\u001b[0m\u001b[0m\n\u001b[0;32m---> 57\u001b[0;31m         \u001b[0;32mreturn\u001b[0m \u001b[0mbound\u001b[0m\u001b[0;34m(\u001b[0m\u001b[0;34m*\u001b[0m\u001b[0margs\u001b[0m\u001b[0;34m,\u001b[0m \u001b[0;34m**\u001b[0m\u001b[0mkwds\u001b[0m\u001b[0;34m)\u001b[0m\u001b[0;34m\u001b[0m\u001b[0;34m\u001b[0m\u001b[0m\n\u001b[0m\u001b[1;32m     58\u001b[0m     \u001b[0;32mexcept\u001b[0m \u001b[0mTypeError\u001b[0m\u001b[0;34m:\u001b[0m\u001b[0;34m\u001b[0m\u001b[0;34m\u001b[0m\u001b[0m\n\u001b[1;32m     59\u001b[0m         \u001b[0;31m# A TypeError occurs if the object does have such a method in its\u001b[0m\u001b[0;34m\u001b[0m\u001b[0;34m\u001b[0m\u001b[0;34m\u001b[0m\u001b[0m\n",
            "\u001b[0;31mKeyboardInterrupt\u001b[0m: "
          ]
        }
      ]
    },
    {
      "cell_type": "code",
      "source": [
        "from sklearn.model_selection import train_test_split\n",
        "from sklearn.linear_model import LogisticRegression\n",
        "from sklearn.tree import DecisionTreeClassifier\n",
        "from sklearn.ensemble import RandomForestClassifier,GradientBoostingClassifier\n",
        "from sklearn.metrics import classification_report"
      ],
      "metadata": {
        "id": "w6-0H0ZYpUsr"
      },
      "execution_count": 83,
      "outputs": []
    },
    {
      "cell_type": "code",
      "source": [
        "def class_report(x,y,model):\n",
        "    #X_train,X_test,y_train,y_test = train_test_split(x,y,random_state=101)\n",
        "    clf = model(random_state=101)\n",
        "    clf.fit(X_train,y_train)\n",
        "    \n",
        "    prediction_test = clf.predict(X_test)\n",
        "    prediction_train = clf.predict(X_train)\n",
        "    \n",
        "    print('Classification Data Test')\n",
        "    print(classification_report(y_test,prediction_test))\n",
        "    print('========================================================')\n",
        "    print('Classification Data Train')\n",
        "    print(classification_report(y_train,prediction_train))"
      ],
      "metadata": {
        "id": "D8QnXBj4papq"
      },
      "execution_count": 84,
      "outputs": []
    },
    {
      "cell_type": "code",
      "source": [
        "class_report(x,y,LogisticRegression)"
      ],
      "metadata": {
        "colab": {
          "base_uri": "https://localhost:8080/"
        },
        "id": "vKmtndMnpkkp",
        "outputId": "650cd47b-b870-4bd6-e864-7cc5a3d30950"
      },
      "execution_count": 85,
      "outputs": [
        {
          "output_type": "stream",
          "name": "stdout",
          "text": [
            "Classification Data Test\n",
            "              precision    recall  f1-score   support\n",
            "\n",
            "           0       0.81      0.81      0.81     19402\n",
            "           1       0.84      0.85      0.85     23459\n",
            "\n",
            "    accuracy                           0.83     42861\n",
            "   macro avg       0.83      0.83      0.83     42861\n",
            "weighted avg       0.83      0.83      0.83     42861\n",
            "\n",
            "========================================================\n",
            "Classification Data Train\n",
            "              precision    recall  f1-score   support\n",
            "\n",
            "           0       0.82      0.81      0.81     39391\n",
            "           1       0.85      0.85      0.85     47628\n",
            "\n",
            "    accuracy                           0.83     87019\n",
            "   macro avg       0.83      0.83      0.83     87019\n",
            "weighted avg       0.83      0.83      0.83     87019\n",
            "\n"
          ]
        }
      ]
    },
    {
      "cell_type": "code",
      "source": [
        "class_report(x,y,DecisionTreeClassifier)"
      ],
      "metadata": {
        "colab": {
          "base_uri": "https://localhost:8080/"
        },
        "id": "mqHTEZBwppcq",
        "outputId": "b533e722-0508-48c6-94bf-f8a271ef5f5c"
      },
      "execution_count": 86,
      "outputs": [
        {
          "output_type": "stream",
          "name": "stdout",
          "text": [
            "Classification Data Test\n",
            "              precision    recall  f1-score   support\n",
            "\n",
            "           0       0.93      0.92      0.93     19402\n",
            "           1       0.94      0.94      0.94     23459\n",
            "\n",
            "    accuracy                           0.93     42861\n",
            "   macro avg       0.93      0.93      0.93     42861\n",
            "weighted avg       0.93      0.93      0.93     42861\n",
            "\n",
            "========================================================\n",
            "Classification Data Train\n",
            "              precision    recall  f1-score   support\n",
            "\n",
            "           0       1.00      1.00      1.00     39391\n",
            "           1       1.00      1.00      1.00     47628\n",
            "\n",
            "    accuracy                           1.00     87019\n",
            "   macro avg       1.00      1.00      1.00     87019\n",
            "weighted avg       1.00      1.00      1.00     87019\n",
            "\n"
          ]
        }
      ]
    },
    {
      "cell_type": "code",
      "source": [
        "class_report(x,y,RandomForestClassifier)"
      ],
      "metadata": {
        "colab": {
          "base_uri": "https://localhost:8080/"
        },
        "id": "dPCbiyS6ptJR",
        "outputId": "46e06b96-23b7-420a-97da-2b475684cc4c"
      },
      "execution_count": 87,
      "outputs": [
        {
          "output_type": "stream",
          "name": "stdout",
          "text": [
            "Classification Data Test\n",
            "              precision    recall  f1-score   support\n",
            "\n",
            "           0       0.94      0.96      0.95     19402\n",
            "           1       0.96      0.95      0.96     23459\n",
            "\n",
            "    accuracy                           0.95     42861\n",
            "   macro avg       0.95      0.95      0.95     42861\n",
            "weighted avg       0.95      0.95      0.95     42861\n",
            "\n",
            "========================================================\n",
            "Classification Data Train\n",
            "              precision    recall  f1-score   support\n",
            "\n",
            "           0       1.00      1.00      1.00     39391\n",
            "           1       1.00      1.00      1.00     47628\n",
            "\n",
            "    accuracy                           1.00     87019\n",
            "   macro avg       1.00      1.00      1.00     87019\n",
            "weighted avg       1.00      1.00      1.00     87019\n",
            "\n"
          ]
        }
      ]
    },
    {
      "cell_type": "code",
      "source": [
        "class_report(x,y,GradientBoostingClassifier)"
      ],
      "metadata": {
        "colab": {
          "base_uri": "https://localhost:8080/"
        },
        "id": "Ne8RwE-6pvzp",
        "outputId": "54a10863-c9ff-455d-be13-06b608138829"
      },
      "execution_count": 88,
      "outputs": [
        {
          "output_type": "stream",
          "name": "stdout",
          "text": [
            "Classification Data Test\n",
            "              precision    recall  f1-score   support\n",
            "\n",
            "           0       0.92      0.91      0.91     19402\n",
            "           1       0.93      0.93      0.93     23459\n",
            "\n",
            "    accuracy                           0.92     42861\n",
            "   macro avg       0.92      0.92      0.92     42861\n",
            "weighted avg       0.92      0.92      0.92     42861\n",
            "\n",
            "========================================================\n",
            "Classification Data Train\n",
            "              precision    recall  f1-score   support\n",
            "\n",
            "           0       0.92      0.91      0.92     39391\n",
            "           1       0.93      0.93      0.93     47628\n",
            "\n",
            "    accuracy                           0.92     87019\n",
            "   macro avg       0.92      0.92      0.92     87019\n",
            "weighted avg       0.92      0.92      0.92     87019\n",
            "\n"
          ]
        }
      ]
    },
    {
      "cell_type": "code",
      "source": [
        "from sklearn.model_selection import cross_val_score\n",
        "cv_score = cross_val_score(LogisticRegression(random_state=101),x,y,cv=3)\n",
        "cv_score.mean()"
      ],
      "metadata": {
        "colab": {
          "base_uri": "https://localhost:8080/"
        },
        "id": "VzfR9xgnp1Bi",
        "outputId": "491de600-f12b-408c-b971-b54be4034d21"
      },
      "execution_count": 89,
      "outputs": [
        {
          "output_type": "execute_result",
          "data": {
            "text/plain": [
              "0.46915622925623374"
            ]
          },
          "metadata": {},
          "execution_count": 89
        }
      ]
    },
    {
      "cell_type": "code",
      "source": [
        "cv_score = cross_val_score(RandomForestClassifier(random_state=101),x,y,cv=3)\n",
        "cv_score.mean()"
      ],
      "metadata": {
        "colab": {
          "base_uri": "https://localhost:8080/"
        },
        "id": "6eP_VhIjp41z",
        "outputId": "c4b0dba3-6fed-4c9e-f11a-1520a8475672"
      },
      "execution_count": 90,
      "outputs": [
        {
          "output_type": "execute_result",
          "data": {
            "text/plain": [
              "0.5055745928405634"
            ]
          },
          "metadata": {},
          "execution_count": 90
        }
      ]
    },
    {
      "cell_type": "code",
      "source": [
        "cv_score = cross_val_score(DecisionTreeClassifier(random_state=101),x,y,cv=3)\n",
        "cv_score.mean()"
      ],
      "metadata": {
        "colab": {
          "base_uri": "https://localhost:8080/"
        },
        "id": "St6h5bRup-6C",
        "outputId": "36335f94-212a-45a3-c7ce-74ea2fea0f83"
      },
      "execution_count": 91,
      "outputs": [
        {
          "output_type": "execute_result",
          "data": {
            "text/plain": [
              "0.493632996041129"
            ]
          },
          "metadata": {},
          "execution_count": 91
        }
      ]
    },
    {
      "cell_type": "code",
      "source": [
        "from xgboost import XGBRegressor\n",
        "from sklearn.model_selection import GridSearchCV, train_test_split, KFold,cross_val_score\n",
        "from sklearn import metrics\n",
        "\n",
        "parameter = {'max_depth' : [10,15,20,25,30,35], \n",
        "             'min_samples_split' : [0.001,0.0001,0.00001,0.000001], \n",
        "             'min_samples_leaf' : [0.001,0.0001,0.00001,0.000001]}\n",
        "x_train,x_test, y_train,y_test = train_test_split(x,y,random_state=101)\n",
        "grid_search_cv = GridSearchCV(RandomForestClassifier(random_state=101),parameter, cv=3)\n",
        "grid_search_cv.fit(x_train,y_train)\n",
        "grid_search_cv.best_params_"
      ],
      "metadata": {
        "colab": {
          "base_uri": "https://localhost:8080/"
        },
        "id": "UjUVesjMqDws",
        "outputId": "0315d1ee-e5d5-4330-b461-2de24bdee7bf"
      },
      "execution_count": 92,
      "outputs": [
        {
          "output_type": "execute_result",
          "data": {
            "text/plain": [
              "{'max_depth': 35, 'min_samples_leaf': 1e-05, 'min_samples_split': 1e-05}"
            ]
          },
          "metadata": {},
          "execution_count": 92
        }
      ]
    },
    {
      "cell_type": "code",
      "source": [
        "X_train,X_test,y_train,y_test = train_test_split(x,y,random_state=101)\n",
        "model_1 = RandomForestClassifier(n_estimators=100)\n",
        "model_1.fit(X_train,y_train)\n",
        "prediction_test = model_1.predict(X_test)\n",
        "print(classification_report(y_test,prediction_test))"
      ],
      "metadata": {
        "colab": {
          "base_uri": "https://localhost:8080/"
        },
        "id": "TwMGIQgSqHYK",
        "outputId": "212aaad9-480b-4586-db1c-c0dee9175a98"
      },
      "execution_count": 93,
      "outputs": [
        {
          "output_type": "stream",
          "name": "stdout",
          "text": [
            "              precision    recall  f1-score   support\n",
            "\n",
            "           0       0.94      0.96      0.95     14899\n",
            "           1       0.97      0.95      0.96     17571\n",
            "\n",
            "    accuracy                           0.96     32470\n",
            "   macro avg       0.95      0.96      0.96     32470\n",
            "weighted avg       0.96      0.96      0.96     32470\n",
            "\n"
          ]
        }
      ]
    },
    {
      "cell_type": "code",
      "source": [
        "X_train,X_test,y_train,y_test = train_test_split(x,y,random_state=101)\n",
        "model_1 = RandomForestClassifier(n_estimators=250,max_depth=25, min_samples_leaf=0.000001, min_samples_split=0.000001)\n",
        "model_1.fit(X_train,y_train)\n",
        "prediction_test = model_1.predict(X_test)\n",
        "print(classification_report(y_test,prediction_test))"
      ],
      "metadata": {
        "colab": {
          "base_uri": "https://localhost:8080/"
        },
        "id": "H0ccRxqjqKeD",
        "outputId": "d491dcf9-4848-4646-b947-39779204f3cb"
      },
      "execution_count": 94,
      "outputs": [
        {
          "output_type": "stream",
          "name": "stdout",
          "text": [
            "              precision    recall  f1-score   support\n",
            "\n",
            "           0       0.94      0.96      0.95     14899\n",
            "           1       0.97      0.95      0.96     17571\n",
            "\n",
            "    accuracy                           0.96     32470\n",
            "   macro avg       0.96      0.96      0.96     32470\n",
            "weighted avg       0.96      0.96      0.96     32470\n",
            "\n"
          ]
        }
      ]
    }
  ]
}